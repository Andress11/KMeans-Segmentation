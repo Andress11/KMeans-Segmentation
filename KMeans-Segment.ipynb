{
 "cells": [
  {
   "cell_type": "code",
   "execution_count": 3,
   "metadata": {},
   "outputs": [],
   "source": [
    "import numpy as np\n",
    "import matplotlib.pyplot as plt\n",
    "from sklearn.cluster import KMeans\n",
    "import cv2 as cv\n",
    "from matplotlib.colors import ListedColormap\n",
    "import plotly.graph_objects as go"
   ]
  },
  {
   "cell_type": "code",
   "execution_count": 44,
   "metadata": {},
   "outputs": [],
   "source": [
    "def unfolding(img):\n",
    "\n",
    "    features = tuple(img.shape)\n",
    "    img = img.reshape(-1,3)\n",
    "\n",
    "    return img, features\n",
    "    \n",
    "def Normal(img,white_limit):\n",
    "\n",
    "    data, features = unfolding(img)\n",
    "\n",
    "    std = data.std(1)\n",
    "    hist, bin_edges = np.histogram(std,bins = 50)\n",
    "    bin_centers = (bin_edges[:-1] + bin_edges[1:])/2\n",
    "    sorted_idx = np.argsort(hist)\n",
    "    max_idx = sorted_idx[-1]\n",
    "    \n",
    "    mean_hist = bin_centers[max_idx]\n",
    "    sigma = np.std(std)\n",
    "\n",
    "    sigma_idx = np.where(std <= mean_hist + (0.5*sigma))\n",
    "    sigma_filt = np.std(std[sigma_idx])\n",
    "    stdlim = mean_hist + 3*sigma_filt\n",
    "\n",
    "    idx_background = np.where(std <= stdlim)[0]\n",
    "    background_reference = data[idx_background]\n",
    "    background_reference_mean = background_reference.mean(1)\n",
    "    white_idx = np.where(background_reference_mean >= white_limit)[0]\n",
    "    white_reference =  background_reference[white_idx]\n",
    "    mean = white_reference.mean(0)\n",
    "\n",
    "    construction_data = np.copy(data)\n",
    "    ref_white = np.copy(data)\n",
    "\n",
    "    construction_data = construction_data/mean\n",
    "    np.place(construction_data, construction_data > 1,1)\n",
    "\n",
    "    ref_white[idx_background[white_idx]] = np.array([0,0,0])\n",
    "    construction_data = np.reshape(construction_data,features)\n",
    "    ref_white = np.reshape(ref_white,features)\n",
    "\n",
    "    return construction_data, ref_white, mean\n",
    "\n",
    "def RGB2Lab(img_data):\n",
    "\n",
    "    e =  216/24389\n",
    "  \n",
    "    non_zero_rgb = img_data\n",
    "\n",
    "    X = non_zero_rgb[:, 0] * 0.4124 + non_zero_rgb[:, 1] * 0.3576 + non_zero_rgb[:, 2] * 0.1805\n",
    "    Y = non_zero_rgb[:, 0] * 0.2126 + non_zero_rgb[:, 1] * 0.7152 + non_zero_rgb[:, 2] * 0.0722\n",
    "    Z = non_zero_rgb[:, 0] * 0.0193 + non_zero_rgb[:, 1] * 0.1192 + non_zero_rgb[:, 2] * 0.9505\n",
    "\n",
    "    fx = (X/0.94811) \n",
    "    fy = (Y/1)\n",
    "    fz = (Z/1.07304) \n",
    "\n",
    "    if fx.any() > e:\n",
    "        fx = fx**(1/3)\n",
    "    else:\n",
    "        fx = ((903.3*fx)+16)/116\n",
    "\n",
    "    if fy.any() > e:\n",
    "        fy = fy**(1/3)\n",
    "    else:\n",
    "        fy = ((903.3*fy)+16)/116\n",
    "\n",
    "    if fz.any() > e:\n",
    "        fz = fz**(1/3)\n",
    "    else:\n",
    "        fz = ((903.3*fz)+16)/116\n",
    "\n",
    "    a = (fx - fy) * 500\n",
    "    b = (fy - fz) * 200\n",
    "    L = (fy * 116) - 16\n",
    "    \n",
    "    data_CLab = np.column_stack((L, a, b))\n",
    "    \n",
    "    return data_CLab\n",
    "\n",
    "\n",
    "def image_segmentation(img,k):\n",
    "\n",
    "    img = np.array(img, dtype=np.float64)\n",
    "    img,features = unfolding(img)\n",
    "\n",
    "    kmeans= KMeans(n_clusters = k, init = \"k-means++\",random_state = 0, n_init = \"auto\")\n",
    "    kmeans.fit(img)\n",
    "\n",
    "    segmented_img = kmeans.labels_\n",
    "    \n",
    "    info = []\n",
    "    Lab = []\n",
    "\n",
    "    for i in range(0,k):\n",
    "\n",
    "        idx  = np.where(segmented_img == i)\n",
    "        mask = img[idx]\n",
    "        info.append(mask.shape[0])\n",
    "\n",
    "        if i > 0:\n",
    "            Lab_mean = mask.mean(0)\n",
    "            Lab.append(Lab_mean)\n",
    "        \n",
    "\n",
    "    info = np.array(info[1:])\n",
    "    pix_sample = np.sum(info)\n",
    "    info = (info/pix_sample)*100\n",
    "\n",
    "    Lab = np.array(Lab)\n",
    "\n",
    "    segmented_img = np.reshape(segmented_img,features[:-1])\n",
    "    return segmented_img,info,Lab\n",
    "\n",
    "def mask_segmentation(img,Labimg,masks,n_mask,k):\n",
    "\n",
    "    rgb = np.copy(img)\n",
    "    Lab = np.copy(Labimg)\n",
    "\n",
    "    info = []\n",
    "\n",
    "    for i in range(1,k+1):\n",
    "\n",
    "        idx  = np.where(masks == i)\n",
    "        mask = img[idx]\n",
    "        info.append(mask.shape[0])\n",
    "    \n",
    "    pix_sample = np.sum(info)\n",
    "    info = (info/pix_sample)*100\n",
    "\n",
    "\n",
    "    mask = np.stack((masks,masks,masks),axis = 2)\n",
    "    np.place(Lab,mask == 0,0)\n",
    "    np.place(rgb,mask == 0,1)\n",
    "    \n",
    "    if n_mask == 1:\n",
    "\n",
    "        idx = np.where(masks == 1)\n",
    "        total_pixel = Lab[idx].shape\n",
    "        total = info[0]\n",
    "\n",
    "        np.place(Lab,np.logical_or(mask == 2, mask == 3), 0)\n",
    "        np.place(rgb,np.logical_or(mask == 2, mask == 3), 1)\n",
    "\n",
    "\n",
    "    elif n_mask == 2:\n",
    "\n",
    "        idx = np.where(masks == 2)\n",
    "        total_pixel = Lab[idx].shape\n",
    "        total = info[1]\n",
    "\n",
    "        np.place(Lab,np.logical_or(mask == 1, mask == 3), 0)\n",
    "        np.place(rgb,np.logical_or(mask == 1, mask == 3), 1)\n",
    "\n",
    "    elif n_mask == 3: \n",
    "\n",
    "        idx = np.where(masks == 3)\n",
    "        total_pixel = Lab[idx].shape\n",
    "        total = info[2]\n",
    "        \n",
    "        np.place(Lab,np.logical_or(mask == 1, mask == 2), 0)\n",
    "        np.place(rgb,np.logical_or(mask == 1, mask == 2), 1)\n",
    "\n",
    "    masks_, info_,Lab_ = image_segmentation(Lab,k)\n",
    "    \n",
    "    info_ = (total*info_)/100\n",
    "  \n",
    "    rgbdata = []\n",
    "\n",
    "    for i in range(0,k):\n",
    "\n",
    "        idx  = np.where(masks_ == i)\n",
    "        _mask = img[idx]\n",
    "\n",
    "        if i > 0:\n",
    "            Lab_mean = _mask.mean(0)\n",
    "            rgbdata.append(Lab_mean*255)\n",
    "\n",
    "    return rgb,masks_,info_,Lab_,rgbdata  \n",
    "\n",
    "def Plot_ab(datalab,datargb):\n",
    "\n",
    "        customdata = datalab\n",
    "\n",
    "        fig = go.Figure()\n",
    "        \n",
    "        fig.add_trace(go.Scatter(\n",
    "        x=datalab[:,1],\n",
    "        y=datalab[:,2],\n",
    "        customdata=customdata,\n",
    "        mode='markers',\n",
    "        marker=dict(\n",
    "            size=6,\n",
    "            color=['rgb({},{},{})'.format(int(r), int(g), int(b)) for r, g, b in datargb],\n",
    "            opacity=1.0),\n",
    "        hovertemplate=\"<b>L</b>: %{customdata[0]}<br><b>a</b>: %{customdata[1]}<br><b>b</b>: %{customdata[2]:.2f}<extra></extra>\",showlegend= False\n",
    "        ))\n",
    "\n",
    "    \n",
    "        fig.add_trace(go.Scatter(x=[0, 0], y=[-90, 90], mode='lines', line=dict(color='black', width=1),showlegend=False))\n",
    "        fig.add_trace(go.Scatter(x=[-90, 90], y=[0, 0], mode='lines', line=dict(color='black', width=1),showlegend=False))\n",
    "\n",
    "        for theta in np.arange(0, 2 * np.pi, np.pi / 18):\n",
    "            x_end = 90 * np.cos(theta)\n",
    "            y_end = 90 * np.sin(theta)\n",
    "            fig.add_trace(go.Scatter(x=[0, x_end], y=[0, y_end], mode='lines',\n",
    "                                line=dict(color='rgba(128, 128, 128, 0.5)', width=1, dash='dot'), showlegend=False))\n",
    "\n",
    "        fig.add_shape(\n",
    "            type=\"circle\",\n",
    "            xref=\"x\", yref=\"y\",\n",
    "            x0=-90, y0=-90, x1=90, y1=90,    \n",
    "            line=dict(color=\"black\", width=2, dash=\"dash\"))\n",
    "\n",
    "        fig.update_layout(\n",
    "            xaxis=dict(range=[-90, 90], title='a'),\n",
    "            yaxis=dict(range=[-90, 90], title='b'),\n",
    "            autosize=False,\n",
    "            width=800,\n",
    "            height=800)\n",
    "\n",
    "        fig.show()\n",
    "\n",
    "def Plot_aL(datalab,datargb):\n",
    "\n",
    "        customdata = datalab\n",
    "\n",
    "        fig = go.Figure()\n",
    "        \n",
    "        fig.add_trace(go.Scatter(\n",
    "        x=datalab[:,1],\n",
    "        y=datalab[:,0],\n",
    "        customdata=customdata,\n",
    "        mode='markers',\n",
    "        marker=dict(\n",
    "            size=6,\n",
    "            color=['rgb({},{},{})'.format(int(r), int(g), int(b)) for r, g, b in datargb],\n",
    "            opacity=1.0),\n",
    "        hovertemplate=\"<b>L</b>: %{customdata[0]}<br><b>a</b>: %{customdata[1]}<br><b>b</b>: %{customdata[2]:.2f}<extra></extra>\",showlegend= False\n",
    "        ))\n",
    "\n",
    "    \n",
    "        fig.add_trace(go.Scatter(x=[0, 0], y=[-90, 90], mode='lines', line=dict(color='black', width=1),showlegend=False))\n",
    "        fig.add_trace(go.Scatter(x=[-90, 90], y=[0, 0], mode='lines', line=dict(color='black', width=1),showlegend=False))\n",
    "\n",
    "        for theta in np.arange(0, 2 * np.pi, np.pi / 18):\n",
    "            x_end = 90 * np.cos(theta)\n",
    "            y_end = 90 * np.sin(theta)\n",
    "            fig.add_trace(go.Scatter(x=[0, x_end], y=[0, y_end], mode='lines',\n",
    "                                line=dict(color='rgba(128, 128, 128, 0.5)', width=1, dash='dot'), showlegend=False))\n",
    "\n",
    "        fig.add_shape(\n",
    "            type=\"circle\",\n",
    "            xref=\"x\", yref=\"y\",\n",
    "            x0=-90, y0=-90, x1=90, y1=90,    \n",
    "            line=dict(color=\"black\", width=2, dash=\"dash\"))\n",
    "\n",
    "        fig.update_layout(\n",
    "            xaxis=dict(range=[-90, 90], title='a'),\n",
    "            yaxis=dict(range=[-90, 90], title='L'),\n",
    "            autosize=False,\n",
    "            width=800,\n",
    "            height=800)\n",
    "\n",
    "        fig.show()\n",
    "\n",
    "def Plot_bL(datalab,datargb):\n",
    "\n",
    "        customdata = datalab\n",
    "\n",
    "        fig = go.Figure()\n",
    "        \n",
    "        fig.add_trace(go.Scatter(\n",
    "        x=datalab[:,2],\n",
    "        y=datalab[:,0],\n",
    "        customdata=customdata,\n",
    "        mode='markers',\n",
    "        marker=dict(\n",
    "            size=6,\n",
    "            color=['rgb({},{},{})'.format(int(r), int(g), int(b)) for r, g, b in datargb],\n",
    "            opacity=1.0),\n",
    "        hovertemplate=\"<b>L</b>: %{customdata[0]}<br><b>a</b>: %{customdata[1]}<br><b>b</b>: %{customdata[2]:.2f}<extra></extra>\",showlegend= False\n",
    "        ))\n",
    "\n",
    "    \n",
    "        fig.add_trace(go.Scatter(x=[0, 0], y=[-90, 90], mode='lines', line=dict(color='black', width=1),showlegend=False))\n",
    "        fig.add_trace(go.Scatter(x=[-90, 90], y=[0, 0], mode='lines', line=dict(color='black', width=1),showlegend=False))\n",
    "\n",
    "        for theta in np.arange(0, 2 * np.pi, np.pi / 18):\n",
    "            x_end = 90 * np.cos(theta)\n",
    "            y_end = 90 * np.sin(theta)\n",
    "            fig.add_trace(go.Scatter(x=[0, x_end], y=[0, y_end], mode='lines',\n",
    "                                line=dict(color='rgba(128, 128, 128, 0.5)', width=1, dash='dot'), showlegend=False))\n",
    "\n",
    "        fig.add_shape(\n",
    "            type=\"circle\",\n",
    "            xref=\"x\", yref=\"y\",\n",
    "            x0=-90, y0=-90, x1=90, y1=90,    \n",
    "            line=dict(color=\"black\", width=2, dash=\"dash\"))\n",
    "\n",
    "        fig.update_layout(\n",
    "            xaxis=dict(range=[-90, 90], title='b'),\n",
    "            yaxis=dict(range=[-90, 90], title='L'),\n",
    "            autosize=False,\n",
    "            width=800,\n",
    "            height=800)\n",
    "\n",
    "        fig.show()"
   ]
  },
  {
   "cell_type": "markdown",
   "metadata": {},
   "source": [
    "## <center>  Primera segmentación"
   ]
  },
  {
   "cell_type": "code",
   "execution_count": 43,
   "metadata": {},
   "outputs": [
    {
     "name": "stdout",
     "output_type": "stream",
     "text": [
      "Porcentaje de la muestra: [34.91803095 52.39580301 12.68616604]\n",
      "Lab promedio Sample_1: [78.61635377 -5.40492603  6.64208053]\n",
      "Lab promedio Sample_2: [89.54482142 -5.76274845  6.60993413]\n",
      "Lab promedio Sample_3: [64.30847105 -2.15423776  3.9670892 ]\n"
     ]
    },
    {
     "data": {
      "image/png": "[encoded data removed]",
      "text/plain": [
       "<Figure size 1000x500 with 2 Axes>"
      ]
     },
     "metadata": {},
     "output_type": "display_data"
    }
   ],
   "source": [
    "\n",
    "\n",
    "img = cv.cvtColor(cv.imread(\"imgs/cara_a__3_-removebg-preview.png\"),cv.COLOR_BGR2RGB)\n",
    "img = cv.resize(img,(1000,1000))\n",
    "img, ref, mean = Normal(img,white_limit=180)\n",
    "imgLab = RGB2Lab(img.reshape(-1,3)).reshape(1000,1000,3)\n",
    "\n",
    "masks, info,Lab = image_segmentation(imgLab,4)\n",
    "\n",
    "print(\"Porcentaje de la muestra: \" + str(info))\n",
    "\n",
    "for i in range(0,len(Lab)):\n",
    "\n",
    "    print(\"Lab promedio Sample_\"+str(i+1)+\": \" + str(Lab[i]))\n",
    "\n",
    "cmap = ListedColormap([\"gray\"]+[\"green\"]+[\"white\"]+[\"black\"])\n",
    "plt.figure(figsize=(10,5))\n",
    "\n",
    "plt.subplot(1,2,1)\n",
    "plt.imshow(img)\n",
    "plt.title(\"Imagen Normalizada\")\n",
    "plt.axis(\"off\")\n",
    "\n",
    "\n",
    "plt.subplot(1,2,2)\n",
    "plt.imshow(masks,cmap = cmap)\n",
    "plt.title(\"Imagen Segmentada\")\n",
    "plt.axis(\"off\")\n",
    "\n",
    "plt.show()\n"
   ]
  },
  {
   "cell_type": "code",
   "execution_count": 39,
   "metadata": {},
   "outputs": [],
   "source": [
    "rgbdata = []\n",
    "\n",
    "for i in range(0,4):\n",
    "\n",
    "    idx  = np.where(masks == i)\n",
    "    mask = img[idx]\n",
    "\n",
    "    if i > 0:\n",
    "        Lab_mean = mask.mean(0)\n",
    "        rgbdata.append(Lab_mean*255)"
   ]
  },
  {
   "cell_type": "markdown",
   "metadata": {},
   "source": [
    "## <center>  Graficos para la primera segmentación"
   ]
  },
  {
   "cell_type": "code",
   "execution_count": 20,
   "metadata": {},
   "outputs": [
    {
     "data": {
      "application/vnd.plotly.v1+json": {
       "config": {
        "plotlyServerURL": "https://plot.ly"
       },
       "data": [
        {
         "customdata": [
          [
           78.61635377289794,
           -5.404926028333097,
           6.642080528175142
          ],
          [
           89.54482141900962,
           -5.762748446942495,
           6.609934125829415
          ],
          [
           64.30847104608407,
           -2.1542377646850737,
           3.9670892044032953
          ]
         ],
         "hovertemplate": "<b>L</b>: %{customdata[0]}<br><b>a</b>: %{customdata[1]}<br><b>b</b>: %{customdata[2]:.2f}<extra></extra>",
         "marker": {
          "color": [
           "rgb(131,143,117)",
           "rgb(181,198,166)",
           "rgb(85,87,76)"
          ],
          "opacity": 1,
          "size": 6
         },
         "mode": "markers",
         "showlegend": false,
         "type": "scatter",
         "x": [
          -5.404926028333097,
          -5.762748446942495,
          -2.1542377646850737
         ],
         "y": [
          6.642080528175142,
          6.609934125829415,
          3.9670892044032953
         ]
        },
        {
         "line": {
          "color": "black",
          "width": 1
         },
         "mode": "lines",
         "showlegend": false,
         "type": "scatter",
         "x": [
          0,
          0
         ],
         "y": [
          -90,
          90
         ]
        },
        {
         "line": {
          "color": "black",
          "width": 1
         },
         "mode": "lines",
         "showlegend": false,
         "type": "scatter",
         "x": [
          -90,
          90
         ],
         "y": [
          0,
          0
         ]
        },
        {
         "line": {
          "color": "rgba(128, 128, 128, 0.5)",
          "dash": "dot",
          "width": 1
         },
         "mode": "lines",
         "showlegend": false,
         "type": "scatter",
         "x": [
          0,
          90
         ],
         "y": [
          0,
          0
         ]
        },
        {
         "line": {
          "color": "rgba(128, 128, 128, 0.5)",
          "dash": "dot",
          "width": 1
         },
         "mode": "lines",
         "showlegend": false,
         "type": "scatter",
         "x": [
          0,
          88.63269777109872
         ],
         "y": [
          0,
          15.62833599002373
         ]
        },
        {
         "line": {
          "color": "rgba(128, 128, 128, 0.5)",
          "dash": "dot",
          "width": 1
         },
         "mode": "lines",
         "showlegend": false,
         "type": "scatter",
         "x": [
          0,
          84.57233587073176
         ],
         "y": [
          0,
          30.781812899310186
         ]
        },
        {
         "line": {
          "color": "rgba(128, 128, 128, 0.5)",
          "dash": "dot",
          "width": 1
         },
         "mode": "lines",
         "showlegend": false,
         "type": "scatter",
         "x": [
          0,
          77.94228634059948
         ],
         "y": [
          0,
          44.99999999999999
         ]
        },
        {
         "line": {
          "color": "rgba(128, 128, 128, 0.5)",
          "dash": "dot",
          "width": 1
         },
         "mode": "lines",
         "showlegend": false,
         "type": "scatter",
         "x": [
          0,
          68.94399988070802
         ],
         "y": [
          0,
          57.85088487178853
         ]
        },
        {
         "line": {
          "color": "rgba(128, 128, 128, 0.5)",
          "dash": "dot",
          "width": 1
         },
         "mode": "lines",
         "showlegend": false,
         "type": "scatter",
         "x": [
          0,
          57.850884871788544
         ],
         "y": [
          0,
          68.94399988070802
         ]
        },
        {
         "line": {
          "color": "rgba(128, 128, 128, 0.5)",
          "dash": "dot",
          "width": 1
         },
         "mode": "lines",
         "showlegend": false,
         "type": "scatter",
         "x": [
          0,
          45.00000000000001
         ],
         "y": [
          0,
          77.94228634059948
         ]
        },
        {
         "line": {
          "color": "rgba(128, 128, 128, 0.5)",
          "dash": "dot",
          "width": 1
         },
         "mode": "lines",
         "showlegend": false,
         "type": "scatter",
         "x": [
          0,
          30.781812899310193
         ],
         "y": [
          0,
          84.57233587073175
         ]
        },
        {
         "line": {
          "color": "rgba(128, 128, 128, 0.5)",
          "dash": "dot",
          "width": 1
         },
         "mode": "lines",
         "showlegend": false,
         "type": "scatter",
         "x": [
          0,
          15.628335990023738
         ],
         "y": [
          0,
          88.63269777109872
         ]
        },
        {
         "line": {
          "color": "rgba(128, 128, 128, 0.5)",
          "dash": "dot",
          "width": 1
         },
         "mode": "lines",
         "showlegend": false,
         "type": "scatter",
         "x": [
          0,
          5.5109105961630896e-15
         ],
         "y": [
          0,
          90
         ]
        },
        {
         "line": {
          "color": "rgba(128, 128, 128, 0.5)",
          "dash": "dot",
          "width": 1
         },
         "mode": "lines",
         "showlegend": false,
         "type": "scatter",
         "x": [
          0,
          -15.628335990023727
         ],
         "y": [
          0,
          88.63269777109872
         ]
        },
        {
         "line": {
          "color": "rgba(128, 128, 128, 0.5)",
          "dash": "dot",
          "width": 1
         },
         "mode": "lines",
         "showlegend": false,
         "type": "scatter",
         "x": [
          0,
          -30.781812899310186
         ],
         "y": [
          0,
          84.57233587073176
         ]
        },
        {
         "line": {
          "color": "rgba(128, 128, 128, 0.5)",
          "dash": "dot",
          "width": 1
         },
         "mode": "lines",
         "showlegend": false,
         "type": "scatter",
         "x": [
          0,
          -44.99999999999998
         ],
         "y": [
          0,
          77.94228634059948
         ]
        },
        {
         "line": {
          "color": "rgba(128, 128, 128, 0.5)",
          "dash": "dot",
          "width": 1
         },
         "mode": "lines",
         "showlegend": false,
         "type": "scatter",
         "x": [
          0,
          -57.850884871788544
         ],
         "y": [
          0,
          68.94399988070802
         ]
        },
        {
         "line": {
          "color": "rgba(128, 128, 128, 0.5)",
          "dash": "dot",
          "width": 1
         },
         "mode": "lines",
         "showlegend": false,
         "type": "scatter",
         "x": [
          0,
          -68.943999880708
         ],
         "y": [
          0,
          57.85088487178855
         ]
        },
        {
         "line": {
          "color": "rgba(128, 128, 128, 0.5)",
          "dash": "dot",
          "width": 1
         },
         "mode": "lines",
         "showlegend": false,
         "type": "scatter",
         "x": [
          0,
          -77.94228634059948
         ],
         "y": [
          0,
          44.99999999999999
         ]
        },
        {
         "line": {
          "color": "rgba(128, 128, 128, 0.5)",
          "dash": "dot",
          "width": 1
         },
         "mode": "lines",
         "showlegend": false,
         "type": "scatter",
         "x": [
          0,
          -84.57233587073175
         ],
         "y": [
          0,
          30.7818128993102
         ]
        },
        {
         "line": {
          "color": "rgba(128, 128, 128, 0.5)",
          "dash": "dot",
          "width": 1
         },
         "mode": "lines",
         "showlegend": false,
         "type": "scatter",
         "x": [
          0,
          -88.63269777109872
         ],
         "y": [
          0,
          15.628335990023762
         ]
        },
        {
         "line": {
          "color": "rgba(128, 128, 128, 0.5)",
          "dash": "dot",
          "width": 1
         },
         "mode": "lines",
         "showlegend": false,
         "type": "scatter",
         "x": [
          0,
          -90
         ],
         "y": [
          0,
          1.1021821192326179e-14
         ]
        },
        {
         "line": {
          "color": "rgba(128, 128, 128, 0.5)",
          "dash": "dot",
          "width": 1
         },
         "mode": "lines",
         "showlegend": false,
         "type": "scatter",
         "x": [
          0,
          -88.63269777109873
         ],
         "y": [
          0,
          -15.628335990023702
         ]
        },
        {
         "line": {
          "color": "rgba(128, 128, 128, 0.5)",
          "dash": "dot",
          "width": 1
         },
         "mode": "lines",
         "showlegend": false,
         "type": "scatter",
         "x": [
          0,
          -84.57233587073176
         ],
         "y": [
          0,
          -30.78181289931018
         ]
        },
        {
         "line": {
          "color": "rgba(128, 128, 128, 0.5)",
          "dash": "dot",
          "width": 1
         },
         "mode": "lines",
         "showlegend": false,
         "type": "scatter",
         "x": [
          0,
          -77.9422863405995
         ],
         "y": [
          0,
          -44.99999999999997
         ]
        },
        {
         "line": {
          "color": "rgba(128, 128, 128, 0.5)",
          "dash": "dot",
          "width": 1
         },
         "mode": "lines",
         "showlegend": false,
         "type": "scatter",
         "x": [
          0,
          -68.94399988070802
         ],
         "y": [
          0,
          -57.85088487178853
         ]
        },
        {
         "line": {
          "color": "rgba(128, 128, 128, 0.5)",
          "dash": "dot",
          "width": 1
         },
         "mode": "lines",
         "showlegend": false,
         "type": "scatter",
         "x": [
          0,
          -57.85088487178855
         ],
         "y": [
          0,
          -68.943999880708
         ]
        },
        {
         "line": {
          "color": "rgba(128, 128, 128, 0.5)",
          "dash": "dot",
          "width": 1
         },
         "mode": "lines",
         "showlegend": false,
         "type": "scatter",
         "x": [
          0,
          -45.00000000000004
         ],
         "y": [
          0,
          -77.94228634059947
         ]
        },
        {
         "line": {
          "color": "rgba(128, 128, 128, 0.5)",
          "dash": "dot",
          "width": 1
         },
         "mode": "lines",
         "showlegend": false,
         "type": "scatter",
         "x": [
          0,
          -30.781812899310243
         ],
         "y": [
          0,
          -84.57233587073173
         ]
        },
        {
         "line": {
          "color": "rgba(128, 128, 128, 0.5)",
          "dash": "dot",
          "width": 1
         },
         "mode": "lines",
         "showlegend": false,
         "type": "scatter",
         "x": [
          0,
          -15.62833599002373
         ],
         "y": [
          0,
          -88.63269777109872
         ]
        },
        {
         "line": {
          "color": "rgba(128, 128, 128, 0.5)",
          "dash": "dot",
          "width": 1
         },
         "mode": "lines",
         "showlegend": false,
         "type": "scatter",
         "x": [
          0,
          -1.6532731788489267e-14
         ],
         "y": [
          0,
          -90
         ]
        },
        {
         "line": {
          "color": "rgba(128, 128, 128, 0.5)",
          "dash": "dot",
          "width": 1
         },
         "mode": "lines",
         "showlegend": false,
         "type": "scatter",
         "x": [
          0,
          15.628335990023697
         ],
         "y": [
          0,
          -88.63269777109873
         ]
        },
        {
         "line": {
          "color": "rgba(128, 128, 128, 0.5)",
          "dash": "dot",
          "width": 1
         },
         "mode": "lines",
         "showlegend": false,
         "type": "scatter",
         "x": [
          0,
          30.781812899310133
         ],
         "y": [
          0,
          -84.57233587073176
         ]
        },
        {
         "line": {
          "color": "rgba(128, 128, 128, 0.5)",
          "dash": "dot",
          "width": 1
         },
         "mode": "lines",
         "showlegend": false,
         "type": "scatter",
         "x": [
          0,
          45.00000000000001
         ],
         "y": [
          0,
          -77.94228634059948
         ]
        },
        {
         "line": {
          "color": "rgba(128, 128, 128, 0.5)",
          "dash": "dot",
          "width": 1
         },
         "mode": "lines",
         "showlegend": false,
         "type": "scatter",
         "x": [
          0,
          57.85088487178853
         ],
         "y": [
          0,
          -68.94399988070803
         ]
        },
        {
         "line": {
          "color": "rgba(128, 128, 128, 0.5)",
          "dash": "dot",
          "width": 1
         },
         "mode": "lines",
         "showlegend": false,
         "type": "scatter",
         "x": [
          0,
          68.943999880708
         ],
         "y": [
          0,
          -57.850884871788566
         ]
        },
        {
         "line": {
          "color": "rgba(128, 128, 128, 0.5)",
          "dash": "dot",
          "width": 1
         },
         "mode": "lines",
         "showlegend": false,
         "type": "scatter",
         "x": [
          0,
          77.94228634059945
         ],
         "y": [
          0,
          -45.00000000000004
         ]
        },
        {
         "line": {
          "color": "rgba(128, 128, 128, 0.5)",
          "dash": "dot",
          "width": 1
         },
         "mode": "lines",
         "showlegend": false,
         "type": "scatter",
         "x": [
          0,
          84.57233587073173
         ],
         "y": [
          0,
          -30.78181289931025
         ]
        },
        {
         "line": {
          "color": "rgba(128, 128, 128, 0.5)",
          "dash": "dot",
          "width": 1
         },
         "mode": "lines",
         "showlegend": false,
         "type": "scatter",
         "x": [
          0,
          88.63269777109872
         ],
         "y": [
          0,
          -15.628335990023734
         ]
        }
       ],
       "layout": {
        "autosize": false,
        "height": 800,
        "shapes": [
         {
          "line": {
           "color": "black",
           "dash": "dash",
           "width": 2
          },
          "type": "circle",
          "x0": -90,
          "x1": 90,
          "xref": "x",
          "y0": -90,
          "y1": 90,
          "yref": "y"
         }
        ],
        "template": {
         "data": {
          "bar": [
           {
            "error_x": {
             "color": "#2a3f5f"
            },
            "error_y": {
             "color": "#2a3f5f"
            },
            "marker": {
             "line": {
              "color": "#E5ECF6",
              "width": 0.5
             },
             "pattern": {
              "fillmode": "overlay",
              "size": 10,
              "solidity": 0.2
             }
            },
            "type": "bar"
           }
          ],
          "barpolar": [
           {
            "marker": {
             "line": {
              "color": "#E5ECF6",
              "width": 0.5
             },
             "pattern": {
              "fillmode": "overlay",
              "size": 10,
              "solidity": 0.2
             }
            },
            "type": "barpolar"
           }
          ],
          "carpet": [
           {
            "aaxis": {
             "endlinecolor": "#2a3f5f",
             "gridcolor": "white",
             "linecolor": "white",
             "minorgridcolor": "white",
             "startlinecolor": "#2a3f5f"
            },
            "baxis": {
             "endlinecolor": "#2a3f5f",
             "gridcolor": "white",
             "linecolor": "white",
             "minorgridcolor": "white",
             "startlinecolor": "#2a3f5f"
            },
            "type": "carpet"
           }
          ],
          "choropleth": [
           {
            "colorbar": {
             "outlinewidth": 0,
             "ticks": ""
            },
            "type": "choropleth"
           }
          ],
          "contour": [
           {
            "colorbar": {
             "outlinewidth": 0,
             "ticks": ""
            },
            "colorscale": [
             [
              0,
              "#0d0887"
             ],
             [
              0.1111111111111111,
              "#46039f"
             ],
             [
              0.2222222222222222,
              "#7201a8"
             ],
             [
              0.3333333333333333,
              "#9c179e"
             ],
             [
              0.4444444444444444,
              "#bd3786"
             ],
             [
              0.5555555555555556,
              "#d8576b"
             ],
             [
              0.6666666666666666,
              "#ed7953"
             ],
             [
              0.7777777777777778,
              "#fb9f3a"
             ],
             [
              0.8888888888888888,
              "#fdca26"
             ],
             [
              1,
              "#f0f921"
             ]
            ],
            "type": "contour"
           }
          ],
          "contourcarpet": [
           {
            "colorbar": {
             "outlinewidth": 0,
             "ticks": ""
            },
            "type": "contourcarpet"
           }
          ],
          "heatmap": [
           {
            "colorbar": {
             "outlinewidth": 0,
             "ticks": ""
            },
            "colorscale": [
             [
              0,
              "#0d0887"
             ],
             [
              0.1111111111111111,
              "#46039f"
             ],
             [
              0.2222222222222222,
              "#7201a8"
             ],
             [
              0.3333333333333333,
              "#9c179e"
             ],
             [
              0.4444444444444444,
              "#bd3786"
             ],
             [
              0.5555555555555556,
              "#d8576b"
             ],
             [
              0.6666666666666666,
              "#ed7953"
             ],
             [
              0.7777777777777778,
              "#fb9f3a"
             ],
             [
              0.8888888888888888,
              "#fdca26"
             ],
             [
              1,
              "#f0f921"
             ]
            ],
            "type": "heatmap"
           }
          ],
          "heatmapgl": [
           {
            "colorbar": {
             "outlinewidth": 0,
             "ticks": ""
            },
            "colorscale": [
             [
              0,
              "#0d0887"
             ],
             [
              0.1111111111111111,
              "#46039f"
             ],
             [
              0.2222222222222222,
              "#7201a8"
             ],
             [
              0.3333333333333333,
              "#9c179e"
             ],
             [
              0.4444444444444444,
              "#bd3786"
             ],
             [
              0.5555555555555556,
              "#d8576b"
             ],
             [
              0.6666666666666666,
              "#ed7953"
             ],
             [
              0.7777777777777778,
              "#fb9f3a"
             ],
             [
              0.8888888888888888,
              "#fdca26"
             ],
             [
              1,
              "#f0f921"
             ]
            ],
            "type": "heatmapgl"
           }
          ],
          "histogram": [
           {
            "marker": {
             "pattern": {
              "fillmode": "overlay",
              "size": 10,
              "solidity": 0.2
             }
            },
            "type": "histogram"
           }
          ],
          "histogram2d": [
           {
            "colorbar": {
             "outlinewidth": 0,
             "ticks": ""
            },
            "colorscale": [
             [
              0,
              "#0d0887"
             ],
             [
              0.1111111111111111,
              "#46039f"
             ],
             [
              0.2222222222222222,
              "#7201a8"
             ],
             [
              0.3333333333333333,
              "#9c179e"
             ],
             [
              0.4444444444444444,
              "#bd3786"
             ],
             [
              0.5555555555555556,
              "#d8576b"
             ],
             [
              0.6666666666666666,
              "#ed7953"
             ],
             [
              0.7777777777777778,
              "#fb9f3a"
             ],
             [
              0.8888888888888888,
              "#fdca26"
             ],
             [
              1,
              "#f0f921"
             ]
            ],
            "type": "histogram2d"
           }
          ],
          "histogram2dcontour": [
           {
            "colorbar": {
             "outlinewidth": 0,
             "ticks": ""
            },
            "colorscale": [
             [
              0,
              "#0d0887"
             ],
             [
              0.1111111111111111,
              "#46039f"
             ],
             [
              0.2222222222222222,
              "#7201a8"
             ],
             [
              0.3333333333333333,
              "#9c179e"
             ],
             [
              0.4444444444444444,
              "#bd3786"
             ],
             [
              0.5555555555555556,
              "#d8576b"
             ],
             [
              0.6666666666666666,
              "#ed7953"
             ],
             [
              0.7777777777777778,
              "#fb9f3a"
             ],
             [
              0.8888888888888888,
              "#fdca26"
             ],
             [
              1,
              "#f0f921"
             ]
            ],
            "type": "histogram2dcontour"
           }
          ],
          "mesh3d": [
           {
            "colorbar": {
             "outlinewidth": 0,
             "ticks": ""
            },
            "type": "mesh3d"
           }
          ],
          "parcoords": [
           {
            "line": {
             "colorbar": {
              "outlinewidth": 0,
              "ticks": ""
             }
            },
            "type": "parcoords"
           }
          ],
          "pie": [
           {
            "automargin": true,
            "type": "pie"
           }
          ],
          "scatter": [
           {
            "fillpattern": {
             "fillmode": "overlay",
             "size": 10,
             "solidity": 0.2
            },
            "type": "scatter"
           }
          ],
          "scatter3d": [
           {
            "line": {
             "colorbar": {
              "outlinewidth": 0,
              "ticks": ""
             }
            },
            "marker": {
             "colorbar": {
              "outlinewidth": 0,
              "ticks": ""
             }
            },
            "type": "scatter3d"
           }
          ],
          "scattercarpet": [
           {
            "marker": {
             "colorbar": {
              "outlinewidth": 0,
              "ticks": ""
             }
            },
            "type": "scattercarpet"
           }
          ],
          "scattergeo": [
           {
            "marker": {
             "colorbar": {
              "outlinewidth": 0,
              "ticks": ""
             }
            },
            "type": "scattergeo"
           }
          ],
          "scattergl": [
           {
            "marker": {
             "colorbar": {
              "outlinewidth": 0,
              "ticks": ""
             }
            },
            "type": "scattergl"
           }
          ],
          "scattermapbox": [
           {
            "marker": {
             "colorbar": {
              "outlinewidth": 0,
              "ticks": ""
             }
            },
            "type": "scattermapbox"
           }
          ],
          "scatterpolar": [
           {
            "marker": {
             "colorbar": {
              "outlinewidth": 0,
              "ticks": ""
             }
            },
            "type": "scatterpolar"
           }
          ],
          "scatterpolargl": [
           {
            "marker": {
             "colorbar": {
              "outlinewidth": 0,
              "ticks": ""
             }
            },
            "type": "scatterpolargl"
           }
          ],
          "scatterternary": [
           {
            "marker": {
             "colorbar": {
              "outlinewidth": 0,
              "ticks": ""
             }
            },
            "type": "scatterternary"
           }
          ],
          "surface": [
           {
            "colorbar": {
             "outlinewidth": 0,
             "ticks": ""
            },
            "colorscale": [
             [
              0,
              "#0d0887"
             ],
             [
              0.1111111111111111,
              "#46039f"
             ],
             [
              0.2222222222222222,
              "#7201a8"
             ],
             [
              0.3333333333333333,
              "#9c179e"
             ],
             [
              0.4444444444444444,
              "#bd3786"
             ],
             [
              0.5555555555555556,
              "#d8576b"
             ],
             [
              0.6666666666666666,
              "#ed7953"
             ],
             [
              0.7777777777777778,
              "#fb9f3a"
             ],
             [
              0.8888888888888888,
              "#fdca26"
             ],
             [
              1,
              "#f0f921"
             ]
            ],
            "type": "surface"
           }
          ],
          "table": [
           {
            "cells": {
             "fill": {
              "color": "#EBF0F8"
             },
             "line": {
              "color": "white"
             }
            },
            "header": {
             "fill": {
              "color": "#C8D4E3"
             },
             "line": {
              "color": "white"
             }
            },
            "type": "table"
           }
          ]
         },
         "layout": {
          "annotationdefaults": {
           "arrowcolor": "#2a3f5f",
           "arrowhead": 0,
           "arrowwidth": 1
          },
          "autotypenumbers": "strict",
          "coloraxis": {
           "colorbar": {
            "outlinewidth": 0,
            "ticks": ""
           }
          },
          "colorscale": {
           "diverging": [
            [
             0,
             "#8e0152"
            ],
            [
             0.1,
             "#c51b7d"
            ],
            [
             0.2,
             "#de77ae"
            ],
            [
             0.3,
             "#f1b6da"
            ],
            [
             0.4,
             "#fde0ef"
            ],
            [
             0.5,
             "#f7f7f7"
            ],
            [
             0.6,
             "#e6f5d0"
            ],
            [
             0.7,
             "#b8e186"
            ],
            [
             0.8,
             "#7fbc41"
            ],
            [
             0.9,
             "#4d9221"
            ],
            [
             1,
             "#276419"
            ]
           ],
           "sequential": [
            [
             0,
             "#0d0887"
            ],
            [
             0.1111111111111111,
             "#46039f"
            ],
            [
             0.2222222222222222,
             "#7201a8"
            ],
            [
             0.3333333333333333,
             "#9c179e"
            ],
            [
             0.4444444444444444,
             "#bd3786"
            ],
            [
             0.5555555555555556,
             "#d8576b"
            ],
            [
             0.6666666666666666,
             "#ed7953"
            ],
            [
             0.7777777777777778,
             "#fb9f3a"
            ],
            [
             0.8888888888888888,
             "#fdca26"
            ],
            [
             1,
             "#f0f921"
            ]
           ],
           "sequentialminus": [
            [
             0,
             "#0d0887"
            ],
            [
             0.1111111111111111,
             "#46039f"
            ],
            [
             0.2222222222222222,
             "#7201a8"
            ],
            [
             0.3333333333333333,
             "#9c179e"
            ],
            [
             0.4444444444444444,
             "#bd3786"
            ],
            [
             0.5555555555555556,
             "#d8576b"
            ],
            [
             0.6666666666666666,
             "#ed7953"
            ],
            [
             0.7777777777777778,
             "#fb9f3a"
            ],
            [
             0.8888888888888888,
             "#fdca26"
            ],
            [
             1,
             "#f0f921"
            ]
           ]
          },
          "colorway": [
           "#636efa",
           "#EF553B",
           "#00cc96",
           "#ab63fa",
           "#FFA15A",
           "#19d3f3",
           "#FF6692",
           "#B6E880",
           "#FF97FF",
           "#FECB52"
          ],
          "font": {
           "color": "#2a3f5f"
          },
          "geo": {
           "bgcolor": "white",
           "lakecolor": "white",
           "landcolor": "#E5ECF6",
           "showlakes": true,
           "showland": true,
           "subunitcolor": "white"
          },
          "hoverlabel": {
           "align": "left"
          },
          "hovermode": "closest",
          "mapbox": {
           "style": "light"
          },
          "paper_bgcolor": "white",
          "plot_bgcolor": "#E5ECF6",
          "polar": {
           "angularaxis": {
            "gridcolor": "white",
            "linecolor": "white",
            "ticks": ""
           },
           "bgcolor": "#E5ECF6",
           "radialaxis": {
            "gridcolor": "white",
            "linecolor": "white",
            "ticks": ""
           }
          },
          "scene": {
           "xaxis": {
            "backgroundcolor": "#E5ECF6",
            "gridcolor": "white",
            "gridwidth": 2,
            "linecolor": "white",
            "showbackground": true,
            "ticks": "",
            "zerolinecolor": "white"
           },
           "yaxis": {
            "backgroundcolor": "#E5ECF6",
            "gridcolor": "white",
            "gridwidth": 2,
            "linecolor": "white",
            "showbackground": true,
            "ticks": "",
            "zerolinecolor": "white"
           },
           "zaxis": {
            "backgroundcolor": "#E5ECF6",
            "gridcolor": "white",
            "gridwidth": 2,
            "linecolor": "white",
            "showbackground": true,
            "ticks": "",
            "zerolinecolor": "white"
           }
          },
          "shapedefaults": {
           "line": {
            "color": "#2a3f5f"
           }
          },
          "ternary": {
           "aaxis": {
            "gridcolor": "white",
            "linecolor": "white",
            "ticks": ""
           },
           "baxis": {
            "gridcolor": "white",
            "linecolor": "white",
            "ticks": ""
           },
           "bgcolor": "#E5ECF6",
           "caxis": {
            "gridcolor": "white",
            "linecolor": "white",
            "ticks": ""
           }
          },
          "title": {
           "x": 0.05
          },
          "xaxis": {
           "automargin": true,
           "gridcolor": "white",
           "linecolor": "white",
           "ticks": "",
           "title": {
            "standoff": 15
           },
           "zerolinecolor": "white",
           "zerolinewidth": 2
          },
          "yaxis": {
           "automargin": true,
           "gridcolor": "white",
           "linecolor": "white",
           "ticks": "",
           "title": {
            "standoff": 15
           },
           "zerolinecolor": "white",
           "zerolinewidth": 2
          }
         }
        },
        "width": 800,
        "xaxis": {
         "range": [
          -90,
          90
         ],
         "title": {
          "text": "a"
         }
        },
        "yaxis": {
         "range": [
          -90,
          90
         ],
         "title": {
          "text": "b"
         }
        }
       }
      }
     },
     "metadata": {},
     "output_type": "display_data"
    }
   ],
   "source": [
    "Plot_ab(Lab,rgbdata)"
   ]
  },
  {
   "cell_type": "code",
   "execution_count": 45,
   "metadata": {},
   "outputs": [
    {
     "data": {
      "application/vnd.plotly.v1+json": {
       "config": {
        "plotlyServerURL": "https://plot.ly"
       },
       "data": [
        {
         "customdata": [
          [
           78.61635377289794,
           -5.404926028333097,
           6.642080528175142
          ],
          [
           89.54482141900962,
           -5.762748446942495,
           6.609934125829415
          ],
          [
           64.30847104608407,
           -2.1542377646850737,
           3.9670892044032953
          ]
         ],
         "hovertemplate": "<b>L</b>: %{customdata[0]}<br><b>a</b>: %{customdata[1]}<br><b>b</b>: %{customdata[2]:.2f}<extra></extra>",
         "marker": {
          "color": [
           "rgb(131,143,117)",
           "rgb(181,198,166)",
           "rgb(85,87,76)"
          ],
          "opacity": 1,
          "size": 6
         },
         "mode": "markers",
         "showlegend": false,
         "type": "scatter",
         "x": [
          -5.404926028333097,
          -5.762748446942495,
          -2.1542377646850737
         ],
         "y": [
          78.61635377289794,
          89.54482141900962,
          64.30847104608407
         ]
        },
        {
         "line": {
          "color": "black",
          "width": 1
         },
         "mode": "lines",
         "showlegend": false,
         "type": "scatter",
         "x": [
          0,
          0
         ],
         "y": [
          -90,
          90
         ]
        },
        {
         "line": {
          "color": "black",
          "width": 1
         },
         "mode": "lines",
         "showlegend": false,
         "type": "scatter",
         "x": [
          -90,
          90
         ],
         "y": [
          0,
          0
         ]
        },
        {
         "line": {
          "color": "rgba(128, 128, 128, 0.5)",
          "dash": "dot",
          "width": 1
         },
         "mode": "lines",
         "showlegend": false,
         "type": "scatter",
         "x": [
          0,
          90
         ],
         "y": [
          0,
          0
         ]
        },
        {
         "line": {
          "color": "rgba(128, 128, 128, 0.5)",
          "dash": "dot",
          "width": 1
         },
         "mode": "lines",
         "showlegend": false,
         "type": "scatter",
         "x": [
          0,
          88.63269777109872
         ],
         "y": [
          0,
          15.62833599002373
         ]
        },
        {
         "line": {
          "color": "rgba(128, 128, 128, 0.5)",
          "dash": "dot",
          "width": 1
         },
         "mode": "lines",
         "showlegend": false,
         "type": "scatter",
         "x": [
          0,
          84.57233587073176
         ],
         "y": [
          0,
          30.781812899310186
         ]
        },
        {
         "line": {
          "color": "rgba(128, 128, 128, 0.5)",
          "dash": "dot",
          "width": 1
         },
         "mode": "lines",
         "showlegend": false,
         "type": "scatter",
         "x": [
          0,
          77.94228634059948
         ],
         "y": [
          0,
          44.99999999999999
         ]
        },
        {
         "line": {
          "color": "rgba(128, 128, 128, 0.5)",
          "dash": "dot",
          "width": 1
         },
         "mode": "lines",
         "showlegend": false,
         "type": "scatter",
         "x": [
          0,
          68.94399988070802
         ],
         "y": [
          0,
          57.85088487178853
         ]
        },
        {
         "line": {
          "color": "rgba(128, 128, 128, 0.5)",
          "dash": "dot",
          "width": 1
         },
         "mode": "lines",
         "showlegend": false,
         "type": "scatter",
         "x": [
          0,
          57.850884871788544
         ],
         "y": [
          0,
          68.94399988070802
         ]
        },
        {
         "line": {
          "color": "rgba(128, 128, 128, 0.5)",
          "dash": "dot",
          "width": 1
         },
         "mode": "lines",
         "showlegend": false,
         "type": "scatter",
         "x": [
          0,
          45.00000000000001
         ],
         "y": [
          0,
          77.94228634059948
         ]
        },
        {
         "line": {
          "color": "rgba(128, 128, 128, 0.5)",
          "dash": "dot",
          "width": 1
         },
         "mode": "lines",
         "showlegend": false,
         "type": "scatter",
         "x": [
          0,
          30.781812899310193
         ],
         "y": [
          0,
          84.57233587073175
         ]
        },
        {
         "line": {
          "color": "rgba(128, 128, 128, 0.5)",
          "dash": "dot",
          "width": 1
         },
         "mode": "lines",
         "showlegend": false,
         "type": "scatter",
         "x": [
          0,
          15.628335990023738
         ],
         "y": [
          0,
          88.63269777109872
         ]
        },
        {
         "line": {
          "color": "rgba(128, 128, 128, 0.5)",
          "dash": "dot",
          "width": 1
         },
         "mode": "lines",
         "showlegend": false,
         "type": "scatter",
         "x": [
          0,
          5.5109105961630896e-15
         ],
         "y": [
          0,
          90
         ]
        },
        {
         "line": {
          "color": "rgba(128, 128, 128, 0.5)",
          "dash": "dot",
          "width": 1
         },
         "mode": "lines",
         "showlegend": false,
         "type": "scatter",
         "x": [
          0,
          -15.628335990023727
         ],
         "y": [
          0,
          88.63269777109872
         ]
        },
        {
         "line": {
          "color": "rgba(128, 128, 128, 0.5)",
          "dash": "dot",
          "width": 1
         },
         "mode": "lines",
         "showlegend": false,
         "type": "scatter",
         "x": [
          0,
          -30.781812899310186
         ],
         "y": [
          0,
          84.57233587073176
         ]
        },
        {
         "line": {
          "color": "rgba(128, 128, 128, 0.5)",
          "dash": "dot",
          "width": 1
         },
         "mode": "lines",
         "showlegend": false,
         "type": "scatter",
         "x": [
          0,
          -44.99999999999998
         ],
         "y": [
          0,
          77.94228634059948
         ]
        },
        {
         "line": {
          "color": "rgba(128, 128, 128, 0.5)",
          "dash": "dot",
          "width": 1
         },
         "mode": "lines",
         "showlegend": false,
         "type": "scatter",
         "x": [
          0,
          -57.850884871788544
         ],
         "y": [
          0,
          68.94399988070802
         ]
        },
        {
         "line": {
          "color": "rgba(128, 128, 128, 0.5)",
          "dash": "dot",
          "width": 1
         },
         "mode": "lines",
         "showlegend": false,
         "type": "scatter",
         "x": [
          0,
          -68.943999880708
         ],
         "y": [
          0,
          57.85088487178855
         ]
        },
        {
         "line": {
          "color": "rgba(128, 128, 128, 0.5)",
          "dash": "dot",
          "width": 1
         },
         "mode": "lines",
         "showlegend": false,
         "type": "scatter",
         "x": [
          0,
          -77.94228634059948
         ],
         "y": [
          0,
          44.99999999999999
         ]
        },
        {
         "line": {
          "color": "rgba(128, 128, 128, 0.5)",
          "dash": "dot",
          "width": 1
         },
         "mode": "lines",
         "showlegend": false,
         "type": "scatter",
         "x": [
          0,
          -84.57233587073175
         ],
         "y": [
          0,
          30.7818128993102
         ]
        },
        {
         "line": {
          "color": "rgba(128, 128, 128, 0.5)",
          "dash": "dot",
          "width": 1
         },
         "mode": "lines",
         "showlegend": false,
         "type": "scatter",
         "x": [
          0,
          -88.63269777109872
         ],
         "y": [
          0,
          15.628335990023762
         ]
        },
        {
         "line": {
          "color": "rgba(128, 128, 128, 0.5)",
          "dash": "dot",
          "width": 1
         },
         "mode": "lines",
         "showlegend": false,
         "type": "scatter",
         "x": [
          0,
          -90
         ],
         "y": [
          0,
          1.1021821192326179e-14
         ]
        },
        {
         "line": {
          "color": "rgba(128, 128, 128, 0.5)",
          "dash": "dot",
          "width": 1
         },
         "mode": "lines",
         "showlegend": false,
         "type": "scatter",
         "x": [
          0,
          -88.63269777109873
         ],
         "y": [
          0,
          -15.628335990023702
         ]
        },
        {
         "line": {
          "color": "rgba(128, 128, 128, 0.5)",
          "dash": "dot",
          "width": 1
         },
         "mode": "lines",
         "showlegend": false,
         "type": "scatter",
         "x": [
          0,
          -84.57233587073176
         ],
         "y": [
          0,
          -30.78181289931018
         ]
        },
        {
         "line": {
          "color": "rgba(128, 128, 128, 0.5)",
          "dash": "dot",
          "width": 1
         },
         "mode": "lines",
         "showlegend": false,
         "type": "scatter",
         "x": [
          0,
          -77.9422863405995
         ],
         "y": [
          0,
          -44.99999999999997
         ]
        },
        {
         "line": {
          "color": "rgba(128, 128, 128, 0.5)",
          "dash": "dot",
          "width": 1
         },
         "mode": "lines",
         "showlegend": false,
         "type": "scatter",
         "x": [
          0,
          -68.94399988070802
         ],
         "y": [
          0,
          -57.85088487178853
         ]
        },
        {
         "line": {
          "color": "rgba(128, 128, 128, 0.5)",
          "dash": "dot",
          "width": 1
         },
         "mode": "lines",
         "showlegend": false,
         "type": "scatter",
         "x": [
          0,
          -57.85088487178855
         ],
         "y": [
          0,
          -68.943999880708
         ]
        },
        {
         "line": {
          "color": "rgba(128, 128, 128, 0.5)",
          "dash": "dot",
          "width": 1
         },
         "mode": "lines",
         "showlegend": false,
         "type": "scatter",
         "x": [
          0,
          -45.00000000000004
         ],
         "y": [
          0,
          -77.94228634059947
         ]
        },
        {
         "line": {
          "color": "rgba(128, 128, 128, 0.5)",
          "dash": "dot",
          "width": 1
         },
         "mode": "lines",
         "showlegend": false,
         "type": "scatter",
         "x": [
          0,
          -30.781812899310243
         ],
         "y": [
          0,
          -84.57233587073173
         ]
        },
        {
         "line": {
          "color": "rgba(128, 128, 128, 0.5)",
          "dash": "dot",
          "width": 1
         },
         "mode": "lines",
         "showlegend": false,
         "type": "scatter",
         "x": [
          0,
          -15.62833599002373
         ],
         "y": [
          0,
          -88.63269777109872
         ]
        },
        {
         "line": {
          "color": "rgba(128, 128, 128, 0.5)",
          "dash": "dot",
          "width": 1
         },
         "mode": "lines",
         "showlegend": false,
         "type": "scatter",
         "x": [
          0,
          -1.6532731788489267e-14
         ],
         "y": [
          0,
          -90
         ]
        },
        {
         "line": {
          "color": "rgba(128, 128, 128, 0.5)",
          "dash": "dot",
          "width": 1
         },
         "mode": "lines",
         "showlegend": false,
         "type": "scatter",
         "x": [
          0,
          15.628335990023697
         ],
         "y": [
          0,
          -88.63269777109873
         ]
        },
        {
         "line": {
          "color": "rgba(128, 128, 128, 0.5)",
          "dash": "dot",
          "width": 1
         },
         "mode": "lines",
         "showlegend": false,
         "type": "scatter",
         "x": [
          0,
          30.781812899310133
         ],
         "y": [
          0,
          -84.57233587073176
         ]
        },
        {
         "line": {
          "color": "rgba(128, 128, 128, 0.5)",
          "dash": "dot",
          "width": 1
         },
         "mode": "lines",
         "showlegend": false,
         "type": "scatter",
         "x": [
          0,
          45.00000000000001
         ],
         "y": [
          0,
          -77.94228634059948
         ]
        },
        {
         "line": {
          "color": "rgba(128, 128, 128, 0.5)",
          "dash": "dot",
          "width": 1
         },
         "mode": "lines",
         "showlegend": false,
         "type": "scatter",
         "x": [
          0,
          57.85088487178853
         ],
         "y": [
          0,
          -68.94399988070803
         ]
        },
        {
         "line": {
          "color": "rgba(128, 128, 128, 0.5)",
          "dash": "dot",
          "width": 1
         },
         "mode": "lines",
         "showlegend": false,
         "type": "scatter",
         "x": [
          0,
          68.943999880708
         ],
         "y": [
          0,
          -57.850884871788566
         ]
        },
        {
         "line": {
          "color": "rgba(128, 128, 128, 0.5)",
          "dash": "dot",
          "width": 1
         },
         "mode": "lines",
         "showlegend": false,
         "type": "scatter",
         "x": [
          0,
          77.94228634059945
         ],
         "y": [
          0,
          -45.00000000000004
         ]
        },
        {
         "line": {
          "color": "rgba(128, 128, 128, 0.5)",
          "dash": "dot",
          "width": 1
         },
         "mode": "lines",
         "showlegend": false,
         "type": "scatter",
         "x": [
          0,
          84.57233587073173
         ],
         "y": [
          0,
          -30.78181289931025
         ]
        },
        {
         "line": {
          "color": "rgba(128, 128, 128, 0.5)",
          "dash": "dot",
          "width": 1
         },
         "mode": "lines",
         "showlegend": false,
         "type": "scatter",
         "x": [
          0,
          88.63269777109872
         ],
         "y": [
          0,
          -15.628335990023734
         ]
        }
       ],
       "layout": {
        "autosize": false,
        "height": 800,
        "shapes": [
         {
          "line": {
           "color": "black",
           "dash": "dash",
           "width": 2
          },
          "type": "circle",
          "x0": -90,
          "x1": 90,
          "xref": "x",
          "y0": -90,
          "y1": 90,
          "yref": "y"
         }
        ],
        "template": {
         "data": {
          "bar": [
           {
            "error_x": {
             "color": "#2a3f5f"
            },
            "error_y": {
             "color": "#2a3f5f"
            },
            "marker": {
             "line": {
              "color": "#E5ECF6",
              "width": 0.5
             },
             "pattern": {
              "fillmode": "overlay",
              "size": 10,
              "solidity": 0.2
             }
            },
            "type": "bar"
           }
          ],
          "barpolar": [
           {
            "marker": {
             "line": {
              "color": "#E5ECF6",
              "width": 0.5
             },
             "pattern": {
              "fillmode": "overlay",
              "size": 10,
              "solidity": 0.2
             }
            },
            "type": "barpolar"
           }
          ],
          "carpet": [
           {
            "aaxis": {
             "endlinecolor": "#2a3f5f",
             "gridcolor": "white",
             "linecolor": "white",
             "minorgridcolor": "white",
             "startlinecolor": "#2a3f5f"
            },
            "baxis": {
             "endlinecolor": "#2a3f5f",
             "gridcolor": "white",
             "linecolor": "white",
             "minorgridcolor": "white",
             "startlinecolor": "#2a3f5f"
            },
            "type": "carpet"
           }
          ],
          "choropleth": [
           {
            "colorbar": {
             "outlinewidth": 0,
             "ticks": ""
            },
            "type": "choropleth"
           }
          ],
          "contour": [
           {
            "colorbar": {
             "outlinewidth": 0,
             "ticks": ""
            },
            "colorscale": [
             [
              0,
              "#0d0887"
             ],
             [
              0.1111111111111111,
              "#46039f"
             ],
             [
              0.2222222222222222,
              "#7201a8"
             ],
             [
              0.3333333333333333,
              "#9c179e"
             ],
             [
              0.4444444444444444,
              "#bd3786"
             ],
             [
              0.5555555555555556,
              "#d8576b"
             ],
             [
              0.6666666666666666,
              "#ed7953"
             ],
             [
              0.7777777777777778,
              "#fb9f3a"
             ],
             [
              0.8888888888888888,
              "#fdca26"
             ],
             [
              1,
              "#f0f921"
             ]
            ],
            "type": "contour"
           }
          ],
          "contourcarpet": [
           {
            "colorbar": {
             "outlinewidth": 0,
             "ticks": ""
            },
            "type": "contourcarpet"
           }
          ],
          "heatmap": [
           {
            "colorbar": {
             "outlinewidth": 0,
             "ticks": ""
            },
            "colorscale": [
             [
              0,
              "#0d0887"
             ],
             [
              0.1111111111111111,
              "#46039f"
             ],
             [
              0.2222222222222222,
              "#7201a8"
             ],
             [
              0.3333333333333333,
              "#9c179e"
             ],
             [
              0.4444444444444444,
              "#bd3786"
             ],
             [
              0.5555555555555556,
              "#d8576b"
             ],
             [
              0.6666666666666666,
              "#ed7953"
             ],
             [
              0.7777777777777778,
              "#fb9f3a"
             ],
             [
              0.8888888888888888,
              "#fdca26"
             ],
             [
              1,
              "#f0f921"
             ]
            ],
            "type": "heatmap"
           }
          ],
          "heatmapgl": [
           {
            "colorbar": {
             "outlinewidth": 0,
             "ticks": ""
            },
            "colorscale": [
             [
              0,
              "#0d0887"
             ],
             [
              0.1111111111111111,
              "#46039f"
             ],
             [
              0.2222222222222222,
              "#7201a8"
             ],
             [
              0.3333333333333333,
              "#9c179e"
             ],
             [
              0.4444444444444444,
              "#bd3786"
             ],
             [
              0.5555555555555556,
              "#d8576b"
             ],
             [
              0.6666666666666666,
              "#ed7953"
             ],
             [
              0.7777777777777778,
              "#fb9f3a"
             ],
             [
              0.8888888888888888,
              "#fdca26"
             ],
             [
              1,
              "#f0f921"
             ]
            ],
            "type": "heatmapgl"
           }
          ],
          "histogram": [
           {
            "marker": {
             "pattern": {
              "fillmode": "overlay",
              "size": 10,
              "solidity": 0.2
             }
            },
            "type": "histogram"
           }
          ],
          "histogram2d": [
           {
            "colorbar": {
             "outlinewidth": 0,
             "ticks": ""
            },
            "colorscale": [
             [
              0,
              "#0d0887"
             ],
             [
              0.1111111111111111,
              "#46039f"
             ],
             [
              0.2222222222222222,
              "#7201a8"
             ],
             [
              0.3333333333333333,
              "#9c179e"
             ],
             [
              0.4444444444444444,
              "#bd3786"
             ],
             [
              0.5555555555555556,
              "#d8576b"
             ],
             [
              0.6666666666666666,
              "#ed7953"
             ],
             [
              0.7777777777777778,
              "#fb9f3a"
             ],
             [
              0.8888888888888888,
              "#fdca26"
             ],
             [
              1,
              "#f0f921"
             ]
            ],
            "type": "histogram2d"
           }
          ],
          "histogram2dcontour": [
           {
            "colorbar": {
             "outlinewidth": 0,
             "ticks": ""
            },
            "colorscale": [
             [
              0,
              "#0d0887"
             ],
             [
              0.1111111111111111,
              "#46039f"
             ],
             [
              0.2222222222222222,
              "#7201a8"
             ],
             [
              0.3333333333333333,
              "#9c179e"
             ],
             [
              0.4444444444444444,
              "#bd3786"
             ],
             [
              0.5555555555555556,
              "#d8576b"
             ],
             [
              0.6666666666666666,
              "#ed7953"
             ],
             [
              0.7777777777777778,
              "#fb9f3a"
             ],
             [
              0.8888888888888888,
              "#fdca26"
             ],
             [
              1,
              "#f0f921"
             ]
            ],
            "type": "histogram2dcontour"
           }
          ],
          "mesh3d": [
           {
            "colorbar": {
             "outlinewidth": 0,
             "ticks": ""
            },
            "type": "mesh3d"
           }
          ],
          "parcoords": [
           {
            "line": {
             "colorbar": {
              "outlinewidth": 0,
              "ticks": ""
             }
            },
            "type": "parcoords"
           }
          ],
          "pie": [
           {
            "automargin": true,
            "type": "pie"
           }
          ],
          "scatter": [
           {
            "fillpattern": {
             "fillmode": "overlay",
             "size": 10,
             "solidity": 0.2
            },
            "type": "scatter"
           }
          ],
          "scatter3d": [
           {
            "line": {
             "colorbar": {
              "outlinewidth": 0,
              "ticks": ""
             }
            },
            "marker": {
             "colorbar": {
              "outlinewidth": 0,
              "ticks": ""
             }
            },
            "type": "scatter3d"
           }
          ],
          "scattercarpet": [
           {
            "marker": {
             "colorbar": {
              "outlinewidth": 0,
              "ticks": ""
             }
            },
            "type": "scattercarpet"
           }
          ],
          "scattergeo": [
           {
            "marker": {
             "colorbar": {
              "outlinewidth": 0,
              "ticks": ""
             }
            },
            "type": "scattergeo"
           }
          ],
          "scattergl": [
           {
            "marker": {
             "colorbar": {
              "outlinewidth": 0,
              "ticks": ""
             }
            },
            "type": "scattergl"
           }
          ],
          "scattermapbox": [
           {
            "marker": {
             "colorbar": {
              "outlinewidth": 0,
              "ticks": ""
             }
            },
            "type": "scattermapbox"
           }
          ],
          "scatterpolar": [
           {
            "marker": {
             "colorbar": {
              "outlinewidth": 0,
              "ticks": ""
             }
            },
            "type": "scatterpolar"
           }
          ],
          "scatterpolargl": [
           {
            "marker": {
             "colorbar": {
              "outlinewidth": 0,
              "ticks": ""
             }
            },
            "type": "scatterpolargl"
           }
          ],
          "scatterternary": [
           {
            "marker": {
             "colorbar": {
              "outlinewidth": 0,
              "ticks": ""
             }
            },
            "type": "scatterternary"
           }
          ],
          "surface": [
           {
            "colorbar": {
             "outlinewidth": 0,
             "ticks": ""
            },
            "colorscale": [
             [
              0,
              "#0d0887"
             ],
             [
              0.1111111111111111,
              "#46039f"
             ],
             [
              0.2222222222222222,
              "#7201a8"
             ],
             [
              0.3333333333333333,
              "#9c179e"
             ],
             [
              0.4444444444444444,
              "#bd3786"
             ],
             [
              0.5555555555555556,
              "#d8576b"
             ],
             [
              0.6666666666666666,
              "#ed7953"
             ],
             [
              0.7777777777777778,
              "#fb9f3a"
             ],
             [
              0.8888888888888888,
              "#fdca26"
             ],
             [
              1,
              "#f0f921"
             ]
            ],
            "type": "surface"
           }
          ],
          "table": [
           {
            "cells": {
             "fill": {
              "color": "#EBF0F8"
             },
             "line": {
              "color": "white"
             }
            },
            "header": {
             "fill": {
              "color": "#C8D4E3"
             },
             "line": {
              "color": "white"
             }
            },
            "type": "table"
           }
          ]
         },
         "layout": {
          "annotationdefaults": {
           "arrowcolor": "#2a3f5f",
           "arrowhead": 0,
           "arrowwidth": 1
          },
          "autotypenumbers": "strict",
          "coloraxis": {
           "colorbar": {
            "outlinewidth": 0,
            "ticks": ""
           }
          },
          "colorscale": {
           "diverging": [
            [
             0,
             "#8e0152"
            ],
            [
             0.1,
             "#c51b7d"
            ],
            [
             0.2,
             "#de77ae"
            ],
            [
             0.3,
             "#f1b6da"
            ],
            [
             0.4,
             "#fde0ef"
            ],
            [
             0.5,
             "#f7f7f7"
            ],
            [
             0.6,
             "#e6f5d0"
            ],
            [
             0.7,
             "#b8e186"
            ],
            [
             0.8,
             "#7fbc41"
            ],
            [
             0.9,
             "#4d9221"
            ],
            [
             1,
             "#276419"
            ]
           ],
           "sequential": [
            [
             0,
             "#0d0887"
            ],
            [
             0.1111111111111111,
             "#46039f"
            ],
            [
             0.2222222222222222,
             "#7201a8"
            ],
            [
             0.3333333333333333,
             "#9c179e"
            ],
            [
             0.4444444444444444,
             "#bd3786"
            ],
            [
             0.5555555555555556,
             "#d8576b"
            ],
            [
             0.6666666666666666,
             "#ed7953"
            ],
            [
             0.7777777777777778,
             "#fb9f3a"
            ],
            [
             0.8888888888888888,
             "#fdca26"
            ],
            [
             1,
             "#f0f921"
            ]
           ],
           "sequentialminus": [
            [
             0,
             "#0d0887"
            ],
            [
             0.1111111111111111,
             "#46039f"
            ],
            [
             0.2222222222222222,
             "#7201a8"
            ],
            [
             0.3333333333333333,
             "#9c179e"
            ],
            [
             0.4444444444444444,
             "#bd3786"
            ],
            [
             0.5555555555555556,
             "#d8576b"
            ],
            [
             0.6666666666666666,
             "#ed7953"
            ],
            [
             0.7777777777777778,
             "#fb9f3a"
            ],
            [
             0.8888888888888888,
             "#fdca26"
            ],
            [
             1,
             "#f0f921"
            ]
           ]
          },
          "colorway": [
           "#636efa",
           "#EF553B",
           "#00cc96",
           "#ab63fa",
           "#FFA15A",
           "#19d3f3",
           "#FF6692",
           "#B6E880",
           "#FF97FF",
           "#FECB52"
          ],
          "font": {
           "color": "#2a3f5f"
          },
          "geo": {
           "bgcolor": "white",
           "lakecolor": "white",
           "landcolor": "#E5ECF6",
           "showlakes": true,
           "showland": true,
           "subunitcolor": "white"
          },
          "hoverlabel": {
           "align": "left"
          },
          "hovermode": "closest",
          "mapbox": {
           "style": "light"
          },
          "paper_bgcolor": "white",
          "plot_bgcolor": "#E5ECF6",
          "polar": {
           "angularaxis": {
            "gridcolor": "white",
            "linecolor": "white",
            "ticks": ""
           },
           "bgcolor": "#E5ECF6",
           "radialaxis": {
            "gridcolor": "white",
            "linecolor": "white",
            "ticks": ""
           }
          },
          "scene": {
           "xaxis": {
            "backgroundcolor": "#E5ECF6",
            "gridcolor": "white",
            "gridwidth": 2,
            "linecolor": "white",
            "showbackground": true,
            "ticks": "",
            "zerolinecolor": "white"
           },
           "yaxis": {
            "backgroundcolor": "#E5ECF6",
            "gridcolor": "white",
            "gridwidth": 2,
            "linecolor": "white",
            "showbackground": true,
            "ticks": "",
            "zerolinecolor": "white"
           },
           "zaxis": {
            "backgroundcolor": "#E5ECF6",
            "gridcolor": "white",
            "gridwidth": 2,
            "linecolor": "white",
            "showbackground": true,
            "ticks": "",
            "zerolinecolor": "white"
           }
          },
          "shapedefaults": {
           "line": {
            "color": "#2a3f5f"
           }
          },
          "ternary": {
           "aaxis": {
            "gridcolor": "white",
            "linecolor": "white",
            "ticks": ""
           },
           "baxis": {
            "gridcolor": "white",
            "linecolor": "white",
            "ticks": ""
           },
           "bgcolor": "#E5ECF6",
           "caxis": {
            "gridcolor": "white",
            "linecolor": "white",
            "ticks": ""
           }
          },
          "title": {
           "x": 0.05
          },
          "xaxis": {
           "automargin": true,
           "gridcolor": "white",
           "linecolor": "white",
           "ticks": "",
           "title": {
            "standoff": 15
           },
           "zerolinecolor": "white",
           "zerolinewidth": 2
          },
          "yaxis": {
           "automargin": true,
           "gridcolor": "white",
           "linecolor": "white",
           "ticks": "",
           "title": {
            "standoff": 15
           },
           "zerolinecolor": "white",
           "zerolinewidth": 2
          }
         }
        },
        "width": 800,
        "xaxis": {
         "range": [
          -90,
          90
         ],
         "title": {
          "text": "a"
         }
        },
        "yaxis": {
         "range": [
          -90,
          90
         ],
         "title": {
          "text": "L"
         }
        }
       }
      }
     },
     "metadata": {},
     "output_type": "display_data"
    }
   ],
   "source": [
    "Plot_aL(Lab,rgbdata)"
   ]
  },
  {
   "cell_type": "code",
   "execution_count": 46,
   "metadata": {},
   "outputs": [
    {
     "data": {
      "application/vnd.plotly.v1+json": {
       "config": {
        "plotlyServerURL": "https://plot.ly"
       },
       "data": [
        {
         "customdata": [
          [
           78.61635377289794,
           -5.404926028333097,
           6.642080528175142
          ],
          [
           89.54482141900962,
           -5.762748446942495,
           6.609934125829415
          ],
          [
           64.30847104608407,
           -2.1542377646850737,
           3.9670892044032953
          ]
         ],
         "hovertemplate": "<b>L</b>: %{customdata[0]}<br><b>a</b>: %{customdata[1]}<br><b>b</b>: %{customdata[2]:.2f}<extra></extra>",
         "marker": {
          "color": [
           "rgb(131,143,117)",
           "rgb(181,198,166)",
           "rgb(85,87,76)"
          ],
          "opacity": 1,
          "size": 6
         },
         "mode": "markers",
         "showlegend": false,
         "type": "scatter",
         "x": [
          6.642080528175142,
          6.609934125829415,
          3.9670892044032953
         ],
         "y": [
          78.61635377289794,
          89.54482141900962,
          64.30847104608407
         ]
        },
        {
         "line": {
          "color": "black",
          "width": 1
         },
         "mode": "lines",
         "showlegend": false,
         "type": "scatter",
         "x": [
          0,
          0
         ],
         "y": [
          -90,
          90
         ]
        },
        {
         "line": {
          "color": "black",
          "width": 1
         },
         "mode": "lines",
         "showlegend": false,
         "type": "scatter",
         "x": [
          -90,
          90
         ],
         "y": [
          0,
          0
         ]
        },
        {
         "line": {
          "color": "rgba(128, 128, 128, 0.5)",
          "dash": "dot",
          "width": 1
         },
         "mode": "lines",
         "showlegend": false,
         "type": "scatter",
         "x": [
          0,
          90
         ],
         "y": [
          0,
          0
         ]
        },
        {
         "line": {
          "color": "rgba(128, 128, 128, 0.5)",
          "dash": "dot",
          "width": 1
         },
         "mode": "lines",
         "showlegend": false,
         "type": "scatter",
         "x": [
          0,
          88.63269777109872
         ],
         "y": [
          0,
          15.62833599002373
         ]
        },
        {
         "line": {
          "color": "rgba(128, 128, 128, 0.5)",
          "dash": "dot",
          "width": 1
         },
         "mode": "lines",
         "showlegend": false,
         "type": "scatter",
         "x": [
          0,
          84.57233587073176
         ],
         "y": [
          0,
          30.781812899310186
         ]
        },
        {
         "line": {
          "color": "rgba(128, 128, 128, 0.5)",
          "dash": "dot",
          "width": 1
         },
         "mode": "lines",
         "showlegend": false,
         "type": "scatter",
         "x": [
          0,
          77.94228634059948
         ],
         "y": [
          0,
          44.99999999999999
         ]
        },
        {
         "line": {
          "color": "rgba(128, 128, 128, 0.5)",
          "dash": "dot",
          "width": 1
         },
         "mode": "lines",
         "showlegend": false,
         "type": "scatter",
         "x": [
          0,
          68.94399988070802
         ],
         "y": [
          0,
          57.85088487178853
         ]
        },
        {
         "line": {
          "color": "rgba(128, 128, 128, 0.5)",
          "dash": "dot",
          "width": 1
         },
         "mode": "lines",
         "showlegend": false,
         "type": "scatter",
         "x": [
          0,
          57.850884871788544
         ],
         "y": [
          0,
          68.94399988070802
         ]
        },
        {
         "line": {
          "color": "rgba(128, 128, 128, 0.5)",
          "dash": "dot",
          "width": 1
         },
         "mode": "lines",
         "showlegend": false,
         "type": "scatter",
         "x": [
          0,
          45.00000000000001
         ],
         "y": [
          0,
          77.94228634059948
         ]
        },
        {
         "line": {
          "color": "rgba(128, 128, 128, 0.5)",
          "dash": "dot",
          "width": 1
         },
         "mode": "lines",
         "showlegend": false,
         "type": "scatter",
         "x": [
          0,
          30.781812899310193
         ],
         "y": [
          0,
          84.57233587073175
         ]
        },
        {
         "line": {
          "color": "rgba(128, 128, 128, 0.5)",
          "dash": "dot",
          "width": 1
         },
         "mode": "lines",
         "showlegend": false,
         "type": "scatter",
         "x": [
          0,
          15.628335990023738
         ],
         "y": [
          0,
          88.63269777109872
         ]
        },
        {
         "line": {
          "color": "rgba(128, 128, 128, 0.5)",
          "dash": "dot",
          "width": 1
         },
         "mode": "lines",
         "showlegend": false,
         "type": "scatter",
         "x": [
          0,
          5.5109105961630896e-15
         ],
         "y": [
          0,
          90
         ]
        },
        {
         "line": {
          "color": "rgba(128, 128, 128, 0.5)",
          "dash": "dot",
          "width": 1
         },
         "mode": "lines",
         "showlegend": false,
         "type": "scatter",
         "x": [
          0,
          -15.628335990023727
         ],
         "y": [
          0,
          88.63269777109872
         ]
        },
        {
         "line": {
          "color": "rgba(128, 128, 128, 0.5)",
          "dash": "dot",
          "width": 1
         },
         "mode": "lines",
         "showlegend": false,
         "type": "scatter",
         "x": [
          0,
          -30.781812899310186
         ],
         "y": [
          0,
          84.57233587073176
         ]
        },
        {
         "line": {
          "color": "rgba(128, 128, 128, 0.5)",
          "dash": "dot",
          "width": 1
         },
         "mode": "lines",
         "showlegend": false,
         "type": "scatter",
         "x": [
          0,
          -44.99999999999998
         ],
         "y": [
          0,
          77.94228634059948
         ]
        },
        {
         "line": {
          "color": "rgba(128, 128, 128, 0.5)",
          "dash": "dot",
          "width": 1
         },
         "mode": "lines",
         "showlegend": false,
         "type": "scatter",
         "x": [
          0,
          -57.850884871788544
         ],
         "y": [
          0,
          68.94399988070802
         ]
        },
        {
         "line": {
          "color": "rgba(128, 128, 128, 0.5)",
          "dash": "dot",
          "width": 1
         },
         "mode": "lines",
         "showlegend": false,
         "type": "scatter",
         "x": [
          0,
          -68.943999880708
         ],
         "y": [
          0,
          57.85088487178855
         ]
        },
        {
         "line": {
          "color": "rgba(128, 128, 128, 0.5)",
          "dash": "dot",
          "width": 1
         },
         "mode": "lines",
         "showlegend": false,
         "type": "scatter",
         "x": [
          0,
          -77.94228634059948
         ],
         "y": [
          0,
          44.99999999999999
         ]
        },
        {
         "line": {
          "color": "rgba(128, 128, 128, 0.5)",
          "dash": "dot",
          "width": 1
         },
         "mode": "lines",
         "showlegend": false,
         "type": "scatter",
         "x": [
          0,
          -84.57233587073175
         ],
         "y": [
          0,
          30.7818128993102
         ]
        },
        {
         "line": {
          "color": "rgba(128, 128, 128, 0.5)",
          "dash": "dot",
          "width": 1
         },
         "mode": "lines",
         "showlegend": false,
         "type": "scatter",
         "x": [
          0,
          -88.63269777109872
         ],
         "y": [
          0,
          15.628335990023762
         ]
        },
        {
         "line": {
          "color": "rgba(128, 128, 128, 0.5)",
          "dash": "dot",
          "width": 1
         },
         "mode": "lines",
         "showlegend": false,
         "type": "scatter",
         "x": [
          0,
          -90
         ],
         "y": [
          0,
          1.1021821192326179e-14
         ]
        },
        {
         "line": {
          "color": "rgba(128, 128, 128, 0.5)",
          "dash": "dot",
          "width": 1
         },
         "mode": "lines",
         "showlegend": false,
         "type": "scatter",
         "x": [
          0,
          -88.63269777109873
         ],
         "y": [
          0,
          -15.628335990023702
         ]
        },
        {
         "line": {
          "color": "rgba(128, 128, 128, 0.5)",
          "dash": "dot",
          "width": 1
         },
         "mode": "lines",
         "showlegend": false,
         "type": "scatter",
         "x": [
          0,
          -84.57233587073176
         ],
         "y": [
          0,
          -30.78181289931018
         ]
        },
        {
         "line": {
          "color": "rgba(128, 128, 128, 0.5)",
          "dash": "dot",
          "width": 1
         },
         "mode": "lines",
         "showlegend": false,
         "type": "scatter",
         "x": [
          0,
          -77.9422863405995
         ],
         "y": [
          0,
          -44.99999999999997
         ]
        },
        {
         "line": {
          "color": "rgba(128, 128, 128, 0.5)",
          "dash": "dot",
          "width": 1
         },
         "mode": "lines",
         "showlegend": false,
         "type": "scatter",
         "x": [
          0,
          -68.94399988070802
         ],
         "y": [
          0,
          -57.85088487178853
         ]
        },
        {
         "line": {
          "color": "rgba(128, 128, 128, 0.5)",
          "dash": "dot",
          "width": 1
         },
         "mode": "lines",
         "showlegend": false,
         "type": "scatter",
         "x": [
          0,
          -57.85088487178855
         ],
         "y": [
          0,
          -68.943999880708
         ]
        },
        {
         "line": {
          "color": "rgba(128, 128, 128, 0.5)",
          "dash": "dot",
          "width": 1
         },
         "mode": "lines",
         "showlegend": false,
         "type": "scatter",
         "x": [
          0,
          -45.00000000000004
         ],
         "y": [
          0,
          -77.94228634059947
         ]
        },
        {
         "line": {
          "color": "rgba(128, 128, 128, 0.5)",
          "dash": "dot",
          "width": 1
         },
         "mode": "lines",
         "showlegend": false,
         "type": "scatter",
         "x": [
          0,
          -30.781812899310243
         ],
         "y": [
          0,
          -84.57233587073173
         ]
        },
        {
         "line": {
          "color": "rgba(128, 128, 128, 0.5)",
          "dash": "dot",
          "width": 1
         },
         "mode": "lines",
         "showlegend": false,
         "type": "scatter",
         "x": [
          0,
          -15.62833599002373
         ],
         "y": [
          0,
          -88.63269777109872
         ]
        },
        {
         "line": {
          "color": "rgba(128, 128, 128, 0.5)",
          "dash": "dot",
          "width": 1
         },
         "mode": "lines",
         "showlegend": false,
         "type": "scatter",
         "x": [
          0,
          -1.6532731788489267e-14
         ],
         "y": [
          0,
          -90
         ]
        },
        {
         "line": {
          "color": "rgba(128, 128, 128, 0.5)",
          "dash": "dot",
          "width": 1
         },
         "mode": "lines",
         "showlegend": false,
         "type": "scatter",
         "x": [
          0,
          15.628335990023697
         ],
         "y": [
          0,
          -88.63269777109873
         ]
        },
        {
         "line": {
          "color": "rgba(128, 128, 128, 0.5)",
          "dash": "dot",
          "width": 1
         },
         "mode": "lines",
         "showlegend": false,
         "type": "scatter",
         "x": [
          0,
          30.781812899310133
         ],
         "y": [
          0,
          -84.57233587073176
         ]
        },
        {
         "line": {
          "color": "rgba(128, 128, 128, 0.5)",
          "dash": "dot",
          "width": 1
         },
         "mode": "lines",
         "showlegend": false,
         "type": "scatter",
         "x": [
          0,
          45.00000000000001
         ],
         "y": [
          0,
          -77.94228634059948
         ]
        },
        {
         "line": {
          "color": "rgba(128, 128, 128, 0.5)",
          "dash": "dot",
          "width": 1
         },
         "mode": "lines",
         "showlegend": false,
         "type": "scatter",
         "x": [
          0,
          57.85088487178853
         ],
         "y": [
          0,
          -68.94399988070803
         ]
        },
        {
         "line": {
          "color": "rgba(128, 128, 128, 0.5)",
          "dash": "dot",
          "width": 1
         },
         "mode": "lines",
         "showlegend": false,
         "type": "scatter",
         "x": [
          0,
          68.943999880708
         ],
         "y": [
          0,
          -57.850884871788566
         ]
        },
        {
         "line": {
          "color": "rgba(128, 128, 128, 0.5)",
          "dash": "dot",
          "width": 1
         },
         "mode": "lines",
         "showlegend": false,
         "type": "scatter",
         "x": [
          0,
          77.94228634059945
         ],
         "y": [
          0,
          -45.00000000000004
         ]
        },
        {
         "line": {
          "color": "rgba(128, 128, 128, 0.5)",
          "dash": "dot",
          "width": 1
         },
         "mode": "lines",
         "showlegend": false,
         "type": "scatter",
         "x": [
          0,
          84.57233587073173
         ],
         "y": [
          0,
          -30.78181289931025
         ]
        },
        {
         "line": {
          "color": "rgba(128, 128, 128, 0.5)",
          "dash": "dot",
          "width": 1
         },
         "mode": "lines",
         "showlegend": false,
         "type": "scatter",
         "x": [
          0,
          88.63269777109872
         ],
         "y": [
          0,
          -15.628335990023734
         ]
        }
       ],
       "layout": {
        "autosize": false,
        "height": 800,
        "shapes": [
         {
          "line": {
           "color": "black",
           "dash": "dash",
           "width": 2
          },
          "type": "circle",
          "x0": -90,
          "x1": 90,
          "xref": "x",
          "y0": -90,
          "y1": 90,
          "yref": "y"
         }
        ],
        "template": {
         "data": {
          "bar": [
           {
            "error_x": {
             "color": "#2a3f5f"
            },
            "error_y": {
             "color": "#2a3f5f"
            },
            "marker": {
             "line": {
              "color": "#E5ECF6",
              "width": 0.5
             },
             "pattern": {
              "fillmode": "overlay",
              "size": 10,
              "solidity": 0.2
             }
            },
            "type": "bar"
           }
          ],
          "barpolar": [
           {
            "marker": {
             "line": {
              "color": "#E5ECF6",
              "width": 0.5
             },
             "pattern": {
              "fillmode": "overlay",
              "size": 10,
              "solidity": 0.2
             }
            },
            "type": "barpolar"
           }
          ],
          "carpet": [
           {
            "aaxis": {
             "endlinecolor": "#2a3f5f",
             "gridcolor": "white",
             "linecolor": "white",
             "minorgridcolor": "white",
             "startlinecolor": "#2a3f5f"
            },
            "baxis": {
             "endlinecolor": "#2a3f5f",
             "gridcolor": "white",
             "linecolor": "white",
             "minorgridcolor": "white",
             "startlinecolor": "#2a3f5f"
            },
            "type": "carpet"
           }
          ],
          "choropleth": [
           {
            "colorbar": {
             "outlinewidth": 0,
             "ticks": ""
            },
            "type": "choropleth"
           }
          ],
          "contour": [
           {
            "colorbar": {
             "outlinewidth": 0,
             "ticks": ""
            },
            "colorscale": [
             [
              0,
              "#0d0887"
             ],
             [
              0.1111111111111111,
              "#46039f"
             ],
             [
              0.2222222222222222,
              "#7201a8"
             ],
             [
              0.3333333333333333,
              "#9c179e"
             ],
             [
              0.4444444444444444,
              "#bd3786"
             ],
             [
              0.5555555555555556,
              "#d8576b"
             ],
             [
              0.6666666666666666,
              "#ed7953"
             ],
             [
              0.7777777777777778,
              "#fb9f3a"
             ],
             [
              0.8888888888888888,
              "#fdca26"
             ],
             [
              1,
              "#f0f921"
             ]
            ],
            "type": "contour"
           }
          ],
          "contourcarpet": [
           {
            "colorbar": {
             "outlinewidth": 0,
             "ticks": ""
            },
            "type": "contourcarpet"
           }
          ],
          "heatmap": [
           {
            "colorbar": {
             "outlinewidth": 0,
             "ticks": ""
            },
            "colorscale": [
             [
              0,
              "#0d0887"
             ],
             [
              0.1111111111111111,
              "#46039f"
             ],
             [
              0.2222222222222222,
              "#7201a8"
             ],
             [
              0.3333333333333333,
              "#9c179e"
             ],
             [
              0.4444444444444444,
              "#bd3786"
             ],
             [
              0.5555555555555556,
              "#d8576b"
             ],
             [
              0.6666666666666666,
              "#ed7953"
             ],
             [
              0.7777777777777778,
              "#fb9f3a"
             ],
             [
              0.8888888888888888,
              "#fdca26"
             ],
             [
              1,
              "#f0f921"
             ]
            ],
            "type": "heatmap"
           }
          ],
          "heatmapgl": [
           {
            "colorbar": {
             "outlinewidth": 0,
             "ticks": ""
            },
            "colorscale": [
             [
              0,
              "#0d0887"
             ],
             [
              0.1111111111111111,
              "#46039f"
             ],
             [
              0.2222222222222222,
              "#7201a8"
             ],
             [
              0.3333333333333333,
              "#9c179e"
             ],
             [
              0.4444444444444444,
              "#bd3786"
             ],
             [
              0.5555555555555556,
              "#d8576b"
             ],
             [
              0.6666666666666666,
              "#ed7953"
             ],
             [
              0.7777777777777778,
              "#fb9f3a"
             ],
             [
              0.8888888888888888,
              "#fdca26"
             ],
             [
              1,
              "#f0f921"
             ]
            ],
            "type": "heatmapgl"
           }
          ],
          "histogram": [
           {
            "marker": {
             "pattern": {
              "fillmode": "overlay",
              "size": 10,
              "solidity": 0.2
             }
            },
            "type": "histogram"
           }
          ],
          "histogram2d": [
           {
            "colorbar": {
             "outlinewidth": 0,
             "ticks": ""
            },
            "colorscale": [
             [
              0,
              "#0d0887"
             ],
             [
              0.1111111111111111,
              "#46039f"
             ],
             [
              0.2222222222222222,
              "#7201a8"
             ],
             [
              0.3333333333333333,
              "#9c179e"
             ],
             [
              0.4444444444444444,
              "#bd3786"
             ],
             [
              0.5555555555555556,
              "#d8576b"
             ],
             [
              0.6666666666666666,
              "#ed7953"
             ],
             [
              0.7777777777777778,
              "#fb9f3a"
             ],
             [
              0.8888888888888888,
              "#fdca26"
             ],
             [
              1,
              "#f0f921"
             ]
            ],
            "type": "histogram2d"
           }
          ],
          "histogram2dcontour": [
           {
            "colorbar": {
             "outlinewidth": 0,
             "ticks": ""
            },
            "colorscale": [
             [
              0,
              "#0d0887"
             ],
             [
              0.1111111111111111,
              "#46039f"
             ],
             [
              0.2222222222222222,
              "#7201a8"
             ],
             [
              0.3333333333333333,
              "#9c179e"
             ],
             [
              0.4444444444444444,
              "#bd3786"
             ],
             [
              0.5555555555555556,
              "#d8576b"
             ],
             [
              0.6666666666666666,
              "#ed7953"
             ],
             [
              0.7777777777777778,
              "#fb9f3a"
             ],
             [
              0.8888888888888888,
              "#fdca26"
             ],
             [
              1,
              "#f0f921"
             ]
            ],
            "type": "histogram2dcontour"
           }
          ],
          "mesh3d": [
           {
            "colorbar": {
             "outlinewidth": 0,
             "ticks": ""
            },
            "type": "mesh3d"
           }
          ],
          "parcoords": [
           {
            "line": {
             "colorbar": {
              "outlinewidth": 0,
              "ticks": ""
             }
            },
            "type": "parcoords"
           }
          ],
          "pie": [
           {
            "automargin": true,
            "type": "pie"
           }
          ],
          "scatter": [
           {
            "fillpattern": {
             "fillmode": "overlay",
             "size": 10,
             "solidity": 0.2
            },
            "type": "scatter"
           }
          ],
          "scatter3d": [
           {
            "line": {
             "colorbar": {
              "outlinewidth": 0,
              "ticks": ""
             }
            },
            "marker": {
             "colorbar": {
              "outlinewidth": 0,
              "ticks": ""
             }
            },
            "type": "scatter3d"
           }
          ],
          "scattercarpet": [
           {
            "marker": {
             "colorbar": {
              "outlinewidth": 0,
              "ticks": ""
             }
            },
            "type": "scattercarpet"
           }
          ],
          "scattergeo": [
           {
            "marker": {
             "colorbar": {
              "outlinewidth": 0,
              "ticks": ""
             }
            },
            "type": "scattergeo"
           }
          ],
          "scattergl": [
           {
            "marker": {
             "colorbar": {
              "outlinewidth": 0,
              "ticks": ""
             }
            },
            "type": "scattergl"
           }
          ],
          "scattermapbox": [
           {
            "marker": {
             "colorbar": {
              "outlinewidth": 0,
              "ticks": ""
             }
            },
            "type": "scattermapbox"
           }
          ],
          "scatterpolar": [
           {
            "marker": {
             "colorbar": {
              "outlinewidth": 0,
              "ticks": ""
             }
            },
            "type": "scatterpolar"
           }
          ],
          "scatterpolargl": [
           {
            "marker": {
             "colorbar": {
              "outlinewidth": 0,
              "ticks": ""
             }
            },
            "type": "scatterpolargl"
           }
          ],
          "scatterternary": [
           {
            "marker": {
             "colorbar": {
              "outlinewidth": 0,
              "ticks": ""
             }
            },
            "type": "scatterternary"
           }
          ],
          "surface": [
           {
            "colorbar": {
             "outlinewidth": 0,
             "ticks": ""
            },
            "colorscale": [
             [
              0,
              "#0d0887"
             ],
             [
              0.1111111111111111,
              "#46039f"
             ],
             [
              0.2222222222222222,
              "#7201a8"
             ],
             [
              0.3333333333333333,
              "#9c179e"
             ],
             [
              0.4444444444444444,
              "#bd3786"
             ],
             [
              0.5555555555555556,
              "#d8576b"
             ],
             [
              0.6666666666666666,
              "#ed7953"
             ],
             [
              0.7777777777777778,
              "#fb9f3a"
             ],
             [
              0.8888888888888888,
              "#fdca26"
             ],
             [
              1,
              "#f0f921"
             ]
            ],
            "type": "surface"
           }
          ],
          "table": [
           {
            "cells": {
             "fill": {
              "color": "#EBF0F8"
             },
             "line": {
              "color": "white"
             }
            },
            "header": {
             "fill": {
              "color": "#C8D4E3"
             },
             "line": {
              "color": "white"
             }
            },
            "type": "table"
           }
          ]
         },
         "layout": {
          "annotationdefaults": {
           "arrowcolor": "#2a3f5f",
           "arrowhead": 0,
           "arrowwidth": 1
          },
          "autotypenumbers": "strict",
          "coloraxis": {
           "colorbar": {
            "outlinewidth": 0,
            "ticks": ""
           }
          },
          "colorscale": {
           "diverging": [
            [
             0,
             "#8e0152"
            ],
            [
             0.1,
             "#c51b7d"
            ],
            [
             0.2,
             "#de77ae"
            ],
            [
             0.3,
             "#f1b6da"
            ],
            [
             0.4,
             "#fde0ef"
            ],
            [
             0.5,
             "#f7f7f7"
            ],
            [
             0.6,
             "#e6f5d0"
            ],
            [
             0.7,
             "#b8e186"
            ],
            [
             0.8,
             "#7fbc41"
            ],
            [
             0.9,
             "#4d9221"
            ],
            [
             1,
             "#276419"
            ]
           ],
           "sequential": [
            [
             0,
             "#0d0887"
            ],
            [
             0.1111111111111111,
             "#46039f"
            ],
            [
             0.2222222222222222,
             "#7201a8"
            ],
            [
             0.3333333333333333,
             "#9c179e"
            ],
            [
             0.4444444444444444,
             "#bd3786"
            ],
            [
             0.5555555555555556,
             "#d8576b"
            ],
            [
             0.6666666666666666,
             "#ed7953"
            ],
            [
             0.7777777777777778,
             "#fb9f3a"
            ],
            [
             0.8888888888888888,
             "#fdca26"
            ],
            [
             1,
             "#f0f921"
            ]
           ],
           "sequentialminus": [
            [
             0,
             "#0d0887"
            ],
            [
             0.1111111111111111,
             "#46039f"
            ],
            [
             0.2222222222222222,
             "#7201a8"
            ],
            [
             0.3333333333333333,
             "#9c179e"
            ],
            [
             0.4444444444444444,
             "#bd3786"
            ],
            [
             0.5555555555555556,
             "#d8576b"
            ],
            [
             0.6666666666666666,
             "#ed7953"
            ],
            [
             0.7777777777777778,
             "#fb9f3a"
            ],
            [
             0.8888888888888888,
             "#fdca26"
            ],
            [
             1,
             "#f0f921"
            ]
           ]
          },
          "colorway": [
           "#636efa",
           "#EF553B",
           "#00cc96",
           "#ab63fa",
           "#FFA15A",
           "#19d3f3",
           "#FF6692",
           "#B6E880",
           "#FF97FF",
           "#FECB52"
          ],
          "font": {
           "color": "#2a3f5f"
          },
          "geo": {
           "bgcolor": "white",
           "lakecolor": "white",
           "landcolor": "#E5ECF6",
           "showlakes": true,
           "showland": true,
           "subunitcolor": "white"
          },
          "hoverlabel": {
           "align": "left"
          },
          "hovermode": "closest",
          "mapbox": {
           "style": "light"
          },
          "paper_bgcolor": "white",
          "plot_bgcolor": "#E5ECF6",
          "polar": {
           "angularaxis": {
            "gridcolor": "white",
            "linecolor": "white",
            "ticks": ""
           },
           "bgcolor": "#E5ECF6",
           "radialaxis": {
            "gridcolor": "white",
            "linecolor": "white",
            "ticks": ""
           }
          },
          "scene": {
           "xaxis": {
            "backgroundcolor": "#E5ECF6",
            "gridcolor": "white",
            "gridwidth": 2,
            "linecolor": "white",
            "showbackground": true,
            "ticks": "",
            "zerolinecolor": "white"
           },
           "yaxis": {
            "backgroundcolor": "#E5ECF6",
            "gridcolor": "white",
            "gridwidth": 2,
            "linecolor": "white",
            "showbackground": true,
            "ticks": "",
            "zerolinecolor": "white"
           },
           "zaxis": {
            "backgroundcolor": "#E5ECF6",
            "gridcolor": "white",
            "gridwidth": 2,
            "linecolor": "white",
            "showbackground": true,
            "ticks": "",
            "zerolinecolor": "white"
           }
          },
          "shapedefaults": {
           "line": {
            "color": "#2a3f5f"
           }
          },
          "ternary": {
           "aaxis": {
            "gridcolor": "white",
            "linecolor": "white",
            "ticks": ""
           },
           "baxis": {
            "gridcolor": "white",
            "linecolor": "white",
            "ticks": ""
           },
           "bgcolor": "#E5ECF6",
           "caxis": {
            "gridcolor": "white",
            "linecolor": "white",
            "ticks": ""
           }
          },
          "title": {
           "x": 0.05
          },
          "xaxis": {
           "automargin": true,
           "gridcolor": "white",
           "linecolor": "white",
           "ticks": "",
           "title": {
            "standoff": 15
           },
           "zerolinecolor": "white",
           "zerolinewidth": 2
          },
          "yaxis": {
           "automargin": true,
           "gridcolor": "white",
           "linecolor": "white",
           "ticks": "",
           "title": {
            "standoff": 15
           },
           "zerolinecolor": "white",
           "zerolinewidth": 2
          }
         }
        },
        "width": 800,
        "xaxis": {
         "range": [
          -90,
          90
         ],
         "title": {
          "text": "b"
         }
        },
        "yaxis": {
         "range": [
          -90,
          90
         ],
         "title": {
          "text": "L"
         }
        }
       }
      }
     },
     "metadata": {},
     "output_type": "display_data"
    }
   ],
   "source": [
    "Plot_bL(Lab,rgbdata)"
   ]
  },
  {
   "cell_type": "markdown",
   "metadata": {},
   "source": [
    "## <center> Segunda segmentación"
   ]
  },
  {
   "cell_type": "code",
   "execution_count": 28,
   "metadata": {},
   "outputs": [
    {
     "name": "stdout",
     "output_type": "stream",
     "text": [
      "Porcentaje de la muestra: [10.08098126  2.60518478]\n",
      "Lab promedio Sample_1: [67.12196363 -2.50392808  4.41791618]\n",
      "Lab promedio Sample_2: [53.99484106 -0.83009012  2.27306448]\n"
     ]
    },
    {
     "data": {
      "image/png": "[encoded data removed]",
      "text/plain": [
       "<Figure size 1000x500 with 2 Axes>"
      ]
     },
     "metadata": {},
     "output_type": "display_data"
    }
   ],
   "source": [
    "rgb, masks_, info_,Lab_,rgbdata_ =  mask_segmentation(img,imgLab,masks,3,3)\n",
    "\n",
    "print(\"Porcentaje de la muestra: \"+ str(info_))\n",
    "\n",
    "for i in range(0,len(Lab_)):\n",
    "\n",
    "    print(\"Lab promedio Sample_\"+str(i+1)+\": \" + str(Lab_[i]))\n",
    "\n",
    "cmap = ListedColormap([\"white\", \"olive\", \"green\"])\n",
    "plt.figure(figsize=(10,5))\n",
    "\n",
    "plt.subplot(1,2,2)\n",
    "plt.imshow(masks_,cmap = cmap)\n",
    "plt.title(\"Imagen Segmentada\")\n",
    "plt.axis(\"off\")\n",
    "\n",
    "plt.subplot(1,2,1)\n",
    "plt.imshow(rgb)\n",
    "plt.title(\"Imagen RGB\")\n",
    "plt.axis(\"off\")\n",
    "\n",
    "plt.show()"
   ]
  },
  {
   "cell_type": "markdown",
   "metadata": {},
   "source": [
    "## <center>  Graficos para la segunda segmentación"
   ]
  },
  {
   "cell_type": "code",
   "execution_count": 30,
   "metadata": {},
   "outputs": [
    {
     "data": {
      "application/vnd.plotly.v1+json": {
       "config": {
        "plotlyServerURL": "https://plot.ly"
       },
       "data": [
        {
         "customdata": [
          [
           67.12196362980845,
           -2.5039280794878334,
           4.41791618203145
          ],
          [
           53.99484105949686,
           -0.8300901207516634,
           2.273064475173341
          ]
         ],
         "hovertemplate": "<b>L</b>: %{customdata[0]}<br><b>a</b>: %{customdata[1]}<br><b>b</b>: %{customdata[2]:.2f}<extra></extra>",
         "marker": {
          "color": [
           "rgb(92,95,83)",
           "rgb(58,58,53)"
          ],
          "opacity": 1,
          "size": 6
         },
         "mode": "markers",
         "showlegend": false,
         "type": "scatter",
         "x": [
          -2.5039280794878334,
          -0.8300901207516634
         ],
         "y": [
          4.41791618203145,
          2.273064475173341
         ]
        },
        {
         "line": {
          "color": "black",
          "width": 1
         },
         "mode": "lines",
         "showlegend": false,
         "type": "scatter",
         "x": [
          0,
          0
         ],
         "y": [
          -90,
          90
         ]
        },
        {
         "line": {
          "color": "black",
          "width": 1
         },
         "mode": "lines",
         "showlegend": false,
         "type": "scatter",
         "x": [
          -90,
          90
         ],
         "y": [
          0,
          0
         ]
        },
        {
         "line": {
          "color": "rgba(128, 128, 128, 0.5)",
          "dash": "dot",
          "width": 1
         },
         "mode": "lines",
         "showlegend": false,
         "type": "scatter",
         "x": [
          0,
          90
         ],
         "y": [
          0,
          0
         ]
        },
        {
         "line": {
          "color": "rgba(128, 128, 128, 0.5)",
          "dash": "dot",
          "width": 1
         },
         "mode": "lines",
         "showlegend": false,
         "type": "scatter",
         "x": [
          0,
          88.63269777109872
         ],
         "y": [
          0,
          15.62833599002373
         ]
        },
        {
         "line": {
          "color": "rgba(128, 128, 128, 0.5)",
          "dash": "dot",
          "width": 1
         },
         "mode": "lines",
         "showlegend": false,
         "type": "scatter",
         "x": [
          0,
          84.57233587073176
         ],
         "y": [
          0,
          30.781812899310186
         ]
        },
        {
         "line": {
          "color": "rgba(128, 128, 128, 0.5)",
          "dash": "dot",
          "width": 1
         },
         "mode": "lines",
         "showlegend": false,
         "type": "scatter",
         "x": [
          0,
          77.94228634059948
         ],
         "y": [
          0,
          44.99999999999999
         ]
        },
        {
         "line": {
          "color": "rgba(128, 128, 128, 0.5)",
          "dash": "dot",
          "width": 1
         },
         "mode": "lines",
         "showlegend": false,
         "type": "scatter",
         "x": [
          0,
          68.94399988070802
         ],
         "y": [
          0,
          57.85088487178853
         ]
        },
        {
         "line": {
          "color": "rgba(128, 128, 128, 0.5)",
          "dash": "dot",
          "width": 1
         },
         "mode": "lines",
         "showlegend": false,
         "type": "scatter",
         "x": [
          0,
          57.850884871788544
         ],
         "y": [
          0,
          68.94399988070802
         ]
        },
        {
         "line": {
          "color": "rgba(128, 128, 128, 0.5)",
          "dash": "dot",
          "width": 1
         },
         "mode": "lines",
         "showlegend": false,
         "type": "scatter",
         "x": [
          0,
          45.00000000000001
         ],
         "y": [
          0,
          77.94228634059948
         ]
        },
        {
         "line": {
          "color": "rgba(128, 128, 128, 0.5)",
          "dash": "dot",
          "width": 1
         },
         "mode": "lines",
         "showlegend": false,
         "type": "scatter",
         "x": [
          0,
          30.781812899310193
         ],
         "y": [
          0,
          84.57233587073175
         ]
        },
        {
         "line": {
          "color": "rgba(128, 128, 128, 0.5)",
          "dash": "dot",
          "width": 1
         },
         "mode": "lines",
         "showlegend": false,
         "type": "scatter",
         "x": [
          0,
          15.628335990023738
         ],
         "y": [
          0,
          88.63269777109872
         ]
        },
        {
         "line": {
          "color": "rgba(128, 128, 128, 0.5)",
          "dash": "dot",
          "width": 1
         },
         "mode": "lines",
         "showlegend": false,
         "type": "scatter",
         "x": [
          0,
          5.5109105961630896e-15
         ],
         "y": [
          0,
          90
         ]
        },
        {
         "line": {
          "color": "rgba(128, 128, 128, 0.5)",
          "dash": "dot",
          "width": 1
         },
         "mode": "lines",
         "showlegend": false,
         "type": "scatter",
         "x": [
          0,
          -15.628335990023727
         ],
         "y": [
          0,
          88.63269777109872
         ]
        },
        {
         "line": {
          "color": "rgba(128, 128, 128, 0.5)",
          "dash": "dot",
          "width": 1
         },
         "mode": "lines",
         "showlegend": false,
         "type": "scatter",
         "x": [
          0,
          -30.781812899310186
         ],
         "y": [
          0,
          84.57233587073176
         ]
        },
        {
         "line": {
          "color": "rgba(128, 128, 128, 0.5)",
          "dash": "dot",
          "width": 1
         },
         "mode": "lines",
         "showlegend": false,
         "type": "scatter",
         "x": [
          0,
          -44.99999999999998
         ],
         "y": [
          0,
          77.94228634059948
         ]
        },
        {
         "line": {
          "color": "rgba(128, 128, 128, 0.5)",
          "dash": "dot",
          "width": 1
         },
         "mode": "lines",
         "showlegend": false,
         "type": "scatter",
         "x": [
          0,
          -57.850884871788544
         ],
         "y": [
          0,
          68.94399988070802
         ]
        },
        {
         "line": {
          "color": "rgba(128, 128, 128, 0.5)",
          "dash": "dot",
          "width": 1
         },
         "mode": "lines",
         "showlegend": false,
         "type": "scatter",
         "x": [
          0,
          -68.943999880708
         ],
         "y": [
          0,
          57.85088487178855
         ]
        },
        {
         "line": {
          "color": "rgba(128, 128, 128, 0.5)",
          "dash": "dot",
          "width": 1
         },
         "mode": "lines",
         "showlegend": false,
         "type": "scatter",
         "x": [
          0,
          -77.94228634059948
         ],
         "y": [
          0,
          44.99999999999999
         ]
        },
        {
         "line": {
          "color": "rgba(128, 128, 128, 0.5)",
          "dash": "dot",
          "width": 1
         },
         "mode": "lines",
         "showlegend": false,
         "type": "scatter",
         "x": [
          0,
          -84.57233587073175
         ],
         "y": [
          0,
          30.7818128993102
         ]
        },
        {
         "line": {
          "color": "rgba(128, 128, 128, 0.5)",
          "dash": "dot",
          "width": 1
         },
         "mode": "lines",
         "showlegend": false,
         "type": "scatter",
         "x": [
          0,
          -88.63269777109872
         ],
         "y": [
          0,
          15.628335990023762
         ]
        },
        {
         "line": {
          "color": "rgba(128, 128, 128, 0.5)",
          "dash": "dot",
          "width": 1
         },
         "mode": "lines",
         "showlegend": false,
         "type": "scatter",
         "x": [
          0,
          -90
         ],
         "y": [
          0,
          1.1021821192326179e-14
         ]
        },
        {
         "line": {
          "color": "rgba(128, 128, 128, 0.5)",
          "dash": "dot",
          "width": 1
         },
         "mode": "lines",
         "showlegend": false,
         "type": "scatter",
         "x": [
          0,
          -88.63269777109873
         ],
         "y": [
          0,
          -15.628335990023702
         ]
        },
        {
         "line": {
          "color": "rgba(128, 128, 128, 0.5)",
          "dash": "dot",
          "width": 1
         },
         "mode": "lines",
         "showlegend": false,
         "type": "scatter",
         "x": [
          0,
          -84.57233587073176
         ],
         "y": [
          0,
          -30.78181289931018
         ]
        },
        {
         "line": {
          "color": "rgba(128, 128, 128, 0.5)",
          "dash": "dot",
          "width": 1
         },
         "mode": "lines",
         "showlegend": false,
         "type": "scatter",
         "x": [
          0,
          -77.9422863405995
         ],
         "y": [
          0,
          -44.99999999999997
         ]
        },
        {
         "line": {
          "color": "rgba(128, 128, 128, 0.5)",
          "dash": "dot",
          "width": 1
         },
         "mode": "lines",
         "showlegend": false,
         "type": "scatter",
         "x": [
          0,
          -68.94399988070802
         ],
         "y": [
          0,
          -57.85088487178853
         ]
        },
        {
         "line": {
          "color": "rgba(128, 128, 128, 0.5)",
          "dash": "dot",
          "width": 1
         },
         "mode": "lines",
         "showlegend": false,
         "type": "scatter",
         "x": [
          0,
          -57.85088487178855
         ],
         "y": [
          0,
          -68.943999880708
         ]
        },
        {
         "line": {
          "color": "rgba(128, 128, 128, 0.5)",
          "dash": "dot",
          "width": 1
         },
         "mode": "lines",
         "showlegend": false,
         "type": "scatter",
         "x": [
          0,
          -45.00000000000004
         ],
         "y": [
          0,
          -77.94228634059947
         ]
        },
        {
         "line": {
          "color": "rgba(128, 128, 128, 0.5)",
          "dash": "dot",
          "width": 1
         },
         "mode": "lines",
         "showlegend": false,
         "type": "scatter",
         "x": [
          0,
          -30.781812899310243
         ],
         "y": [
          0,
          -84.57233587073173
         ]
        },
        {
         "line": {
          "color": "rgba(128, 128, 128, 0.5)",
          "dash": "dot",
          "width": 1
         },
         "mode": "lines",
         "showlegend": false,
         "type": "scatter",
         "x": [
          0,
          -15.62833599002373
         ],
         "y": [
          0,
          -88.63269777109872
         ]
        },
        {
         "line": {
          "color": "rgba(128, 128, 128, 0.5)",
          "dash": "dot",
          "width": 1
         },
         "mode": "lines",
         "showlegend": false,
         "type": "scatter",
         "x": [
          0,
          -1.6532731788489267e-14
         ],
         "y": [
          0,
          -90
         ]
        },
        {
         "line": {
          "color": "rgba(128, 128, 128, 0.5)",
          "dash": "dot",
          "width": 1
         },
         "mode": "lines",
         "showlegend": false,
         "type": "scatter",
         "x": [
          0,
          15.628335990023697
         ],
         "y": [
          0,
          -88.63269777109873
         ]
        },
        {
         "line": {
          "color": "rgba(128, 128, 128, 0.5)",
          "dash": "dot",
          "width": 1
         },
         "mode": "lines",
         "showlegend": false,
         "type": "scatter",
         "x": [
          0,
          30.781812899310133
         ],
         "y": [
          0,
          -84.57233587073176
         ]
        },
        {
         "line": {
          "color": "rgba(128, 128, 128, 0.5)",
          "dash": "dot",
          "width": 1
         },
         "mode": "lines",
         "showlegend": false,
         "type": "scatter",
         "x": [
          0,
          45.00000000000001
         ],
         "y": [
          0,
          -77.94228634059948
         ]
        },
        {
         "line": {
          "color": "rgba(128, 128, 128, 0.5)",
          "dash": "dot",
          "width": 1
         },
         "mode": "lines",
         "showlegend": false,
         "type": "scatter",
         "x": [
          0,
          57.85088487178853
         ],
         "y": [
          0,
          -68.94399988070803
         ]
        },
        {
         "line": {
          "color": "rgba(128, 128, 128, 0.5)",
          "dash": "dot",
          "width": 1
         },
         "mode": "lines",
         "showlegend": false,
         "type": "scatter",
         "x": [
          0,
          68.943999880708
         ],
         "y": [
          0,
          -57.850884871788566
         ]
        },
        {
         "line": {
          "color": "rgba(128, 128, 128, 0.5)",
          "dash": "dot",
          "width": 1
         },
         "mode": "lines",
         "showlegend": false,
         "type": "scatter",
         "x": [
          0,
          77.94228634059945
         ],
         "y": [
          0,
          -45.00000000000004
         ]
        },
        {
         "line": {
          "color": "rgba(128, 128, 128, 0.5)",
          "dash": "dot",
          "width": 1
         },
         "mode": "lines",
         "showlegend": false,
         "type": "scatter",
         "x": [
          0,
          84.57233587073173
         ],
         "y": [
          0,
          -30.78181289931025
         ]
        },
        {
         "line": {
          "color": "rgba(128, 128, 128, 0.5)",
          "dash": "dot",
          "width": 1
         },
         "mode": "lines",
         "showlegend": false,
         "type": "scatter",
         "x": [
          0,
          88.63269777109872
         ],
         "y": [
          0,
          -15.628335990023734
         ]
        }
       ],
       "layout": {
        "autosize": false,
        "height": 800,
        "shapes": [
         {
          "line": {
           "color": "black",
           "dash": "dash",
           "width": 2
          },
          "type": "circle",
          "x0": -90,
          "x1": 90,
          "xref": "x",
          "y0": -90,
          "y1": 90,
          "yref": "y"
         }
        ],
        "template": {
         "data": {
          "bar": [
           {
            "error_x": {
             "color": "#2a3f5f"
            },
            "error_y": {
             "color": "#2a3f5f"
            },
            "marker": {
             "line": {
              "color": "#E5ECF6",
              "width": 0.5
             },
             "pattern": {
              "fillmode": "overlay",
              "size": 10,
              "solidity": 0.2
             }
            },
            "type": "bar"
           }
          ],
          "barpolar": [
           {
            "marker": {
             "line": {
              "color": "#E5ECF6",
              "width": 0.5
             },
             "pattern": {
              "fillmode": "overlay",
              "size": 10,
              "solidity": 0.2
             }
            },
            "type": "barpolar"
           }
          ],
          "carpet": [
           {
            "aaxis": {
             "endlinecolor": "#2a3f5f",
             "gridcolor": "white",
             "linecolor": "white",
             "minorgridcolor": "white",
             "startlinecolor": "#2a3f5f"
            },
            "baxis": {
             "endlinecolor": "#2a3f5f",
             "gridcolor": "white",
             "linecolor": "white",
             "minorgridcolor": "white",
             "startlinecolor": "#2a3f5f"
            },
            "type": "carpet"
           }
          ],
          "choropleth": [
           {
            "colorbar": {
             "outlinewidth": 0,
             "ticks": ""
            },
            "type": "choropleth"
           }
          ],
          "contour": [
           {
            "colorbar": {
             "outlinewidth": 0,
             "ticks": ""
            },
            "colorscale": [
             [
              0,
              "#0d0887"
             ],
             [
              0.1111111111111111,
              "#46039f"
             ],
             [
              0.2222222222222222,
              "#7201a8"
             ],
             [
              0.3333333333333333,
              "#9c179e"
             ],
             [
              0.4444444444444444,
              "#bd3786"
             ],
             [
              0.5555555555555556,
              "#d8576b"
             ],
             [
              0.6666666666666666,
              "#ed7953"
             ],
             [
              0.7777777777777778,
              "#fb9f3a"
             ],
             [
              0.8888888888888888,
              "#fdca26"
             ],
             [
              1,
              "#f0f921"
             ]
            ],
            "type": "contour"
           }
          ],
          "contourcarpet": [
           {
            "colorbar": {
             "outlinewidth": 0,
             "ticks": ""
            },
            "type": "contourcarpet"
           }
          ],
          "heatmap": [
           {
            "colorbar": {
             "outlinewidth": 0,
             "ticks": ""
            },
            "colorscale": [
             [
              0,
              "#0d0887"
             ],
             [
              0.1111111111111111,
              "#46039f"
             ],
             [
              0.2222222222222222,
              "#7201a8"
             ],
             [
              0.3333333333333333,
              "#9c179e"
             ],
             [
              0.4444444444444444,
              "#bd3786"
             ],
             [
              0.5555555555555556,
              "#d8576b"
             ],
             [
              0.6666666666666666,
              "#ed7953"
             ],
             [
              0.7777777777777778,
              "#fb9f3a"
             ],
             [
              0.8888888888888888,
              "#fdca26"
             ],
             [
              1,
              "#f0f921"
             ]
            ],
            "type": "heatmap"
           }
          ],
          "heatmapgl": [
           {
            "colorbar": {
             "outlinewidth": 0,
             "ticks": ""
            },
            "colorscale": [
             [
              0,
              "#0d0887"
             ],
             [
              0.1111111111111111,
              "#46039f"
             ],
             [
              0.2222222222222222,
              "#7201a8"
             ],
             [
              0.3333333333333333,
              "#9c179e"
             ],
             [
              0.4444444444444444,
              "#bd3786"
             ],
             [
              0.5555555555555556,
              "#d8576b"
             ],
             [
              0.6666666666666666,
              "#ed7953"
             ],
             [
              0.7777777777777778,
              "#fb9f3a"
             ],
             [
              0.8888888888888888,
              "#fdca26"
             ],
             [
              1,
              "#f0f921"
             ]
            ],
            "type": "heatmapgl"
           }
          ],
          "histogram": [
           {
            "marker": {
             "pattern": {
              "fillmode": "overlay",
              "size": 10,
              "solidity": 0.2
             }
            },
            "type": "histogram"
           }
          ],
          "histogram2d": [
           {
            "colorbar": {
             "outlinewidth": 0,
             "ticks": ""
            },
            "colorscale": [
             [
              0,
              "#0d0887"
             ],
             [
              0.1111111111111111,
              "#46039f"
             ],
             [
              0.2222222222222222,
              "#7201a8"
             ],
             [
              0.3333333333333333,
              "#9c179e"
             ],
             [
              0.4444444444444444,
              "#bd3786"
             ],
             [
              0.5555555555555556,
              "#d8576b"
             ],
             [
              0.6666666666666666,
              "#ed7953"
             ],
             [
              0.7777777777777778,
              "#fb9f3a"
             ],
             [
              0.8888888888888888,
              "#fdca26"
             ],
             [
              1,
              "#f0f921"
             ]
            ],
            "type": "histogram2d"
           }
          ],
          "histogram2dcontour": [
           {
            "colorbar": {
             "outlinewidth": 0,
             "ticks": ""
            },
            "colorscale": [
             [
              0,
              "#0d0887"
             ],
             [
              0.1111111111111111,
              "#46039f"
             ],
             [
              0.2222222222222222,
              "#7201a8"
             ],
             [
              0.3333333333333333,
              "#9c179e"
             ],
             [
              0.4444444444444444,
              "#bd3786"
             ],
             [
              0.5555555555555556,
              "#d8576b"
             ],
             [
              0.6666666666666666,
              "#ed7953"
             ],
             [
              0.7777777777777778,
              "#fb9f3a"
             ],
             [
              0.8888888888888888,
              "#fdca26"
             ],
             [
              1,
              "#f0f921"
             ]
            ],
            "type": "histogram2dcontour"
           }
          ],
          "mesh3d": [
           {
            "colorbar": {
             "outlinewidth": 0,
             "ticks": ""
            },
            "type": "mesh3d"
           }
          ],
          "parcoords": [
           {
            "line": {
             "colorbar": {
              "outlinewidth": 0,
              "ticks": ""
             }
            },
            "type": "parcoords"
           }
          ],
          "pie": [
           {
            "automargin": true,
            "type": "pie"
           }
          ],
          "scatter": [
           {
            "fillpattern": {
             "fillmode": "overlay",
             "size": 10,
             "solidity": 0.2
            },
            "type": "scatter"
           }
          ],
          "scatter3d": [
           {
            "line": {
             "colorbar": {
              "outlinewidth": 0,
              "ticks": ""
             }
            },
            "marker": {
             "colorbar": {
              "outlinewidth": 0,
              "ticks": ""
             }
            },
            "type": "scatter3d"
           }
          ],
          "scattercarpet": [
           {
            "marker": {
             "colorbar": {
              "outlinewidth": 0,
              "ticks": ""
             }
            },
            "type": "scattercarpet"
           }
          ],
          "scattergeo": [
           {
            "marker": {
             "colorbar": {
              "outlinewidth": 0,
              "ticks": ""
             }
            },
            "type": "scattergeo"
           }
          ],
          "scattergl": [
           {
            "marker": {
             "colorbar": {
              "outlinewidth": 0,
              "ticks": ""
             }
            },
            "type": "scattergl"
           }
          ],
          "scattermapbox": [
           {
            "marker": {
             "colorbar": {
              "outlinewidth": 0,
              "ticks": ""
             }
            },
            "type": "scattermapbox"
           }
          ],
          "scatterpolar": [
           {
            "marker": {
             "colorbar": {
              "outlinewidth": 0,
              "ticks": ""
             }
            },
            "type": "scatterpolar"
           }
          ],
          "scatterpolargl": [
           {
            "marker": {
             "colorbar": {
              "outlinewidth": 0,
              "ticks": ""
             }
            },
            "type": "scatterpolargl"
           }
          ],
          "scatterternary": [
           {
            "marker": {
             "colorbar": {
              "outlinewidth": 0,
              "ticks": ""
             }
            },
            "type": "scatterternary"
           }
          ],
          "surface": [
           {
            "colorbar": {
             "outlinewidth": 0,
             "ticks": ""
            },
            "colorscale": [
             [
              0,
              "#0d0887"
             ],
             [
              0.1111111111111111,
              "#46039f"
             ],
             [
              0.2222222222222222,
              "#7201a8"
             ],
             [
              0.3333333333333333,
              "#9c179e"
             ],
             [
              0.4444444444444444,
              "#bd3786"
             ],
             [
              0.5555555555555556,
              "#d8576b"
             ],
             [
              0.6666666666666666,
              "#ed7953"
             ],
             [
              0.7777777777777778,
              "#fb9f3a"
             ],
             [
              0.8888888888888888,
              "#fdca26"
             ],
             [
              1,
              "#f0f921"
             ]
            ],
            "type": "surface"
           }
          ],
          "table": [
           {
            "cells": {
             "fill": {
              "color": "#EBF0F8"
             },
             "line": {
              "color": "white"
             }
            },
            "header": {
             "fill": {
              "color": "#C8D4E3"
             },
             "line": {
              "color": "white"
             }
            },
            "type": "table"
           }
          ]
         },
         "layout": {
          "annotationdefaults": {
           "arrowcolor": "#2a3f5f",
           "arrowhead": 0,
           "arrowwidth": 1
          },
          "autotypenumbers": "strict",
          "coloraxis": {
           "colorbar": {
            "outlinewidth": 0,
            "ticks": ""
           }
          },
          "colorscale": {
           "diverging": [
            [
             0,
             "#8e0152"
            ],
            [
             0.1,
             "#c51b7d"
            ],
            [
             0.2,
             "#de77ae"
            ],
            [
             0.3,
             "#f1b6da"
            ],
            [
             0.4,
             "#fde0ef"
            ],
            [
             0.5,
             "#f7f7f7"
            ],
            [
             0.6,
             "#e6f5d0"
            ],
            [
             0.7,
             "#b8e186"
            ],
            [
             0.8,
             "#7fbc41"
            ],
            [
             0.9,
             "#4d9221"
            ],
            [
             1,
             "#276419"
            ]
           ],
           "sequential": [
            [
             0,
             "#0d0887"
            ],
            [
             0.1111111111111111,
             "#46039f"
            ],
            [
             0.2222222222222222,
             "#7201a8"
            ],
            [
             0.3333333333333333,
             "#9c179e"
            ],
            [
             0.4444444444444444,
             "#bd3786"
            ],
            [
             0.5555555555555556,
             "#d8576b"
            ],
            [
             0.6666666666666666,
             "#ed7953"
            ],
            [
             0.7777777777777778,
             "#fb9f3a"
            ],
            [
             0.8888888888888888,
             "#fdca26"
            ],
            [
             1,
             "#f0f921"
            ]
           ],
           "sequentialminus": [
            [
             0,
             "#0d0887"
            ],
            [
             0.1111111111111111,
             "#46039f"
            ],
            [
             0.2222222222222222,
             "#7201a8"
            ],
            [
             0.3333333333333333,
             "#9c179e"
            ],
            [
             0.4444444444444444,
             "#bd3786"
            ],
            [
             0.5555555555555556,
             "#d8576b"
            ],
            [
             0.6666666666666666,
             "#ed7953"
            ],
            [
             0.7777777777777778,
             "#fb9f3a"
            ],
            [
             0.8888888888888888,
             "#fdca26"
            ],
            [
             1,
             "#f0f921"
            ]
           ]
          },
          "colorway": [
           "#636efa",
           "#EF553B",
           "#00cc96",
           "#ab63fa",
           "#FFA15A",
           "#19d3f3",
           "#FF6692",
           "#B6E880",
           "#FF97FF",
           "#FECB52"
          ],
          "font": {
           "color": "#2a3f5f"
          },
          "geo": {
           "bgcolor": "white",
           "lakecolor": "white",
           "landcolor": "#E5ECF6",
           "showlakes": true,
           "showland": true,
           "subunitcolor": "white"
          },
          "hoverlabel": {
           "align": "left"
          },
          "hovermode": "closest",
          "mapbox": {
           "style": "light"
          },
          "paper_bgcolor": "white",
          "plot_bgcolor": "#E5ECF6",
          "polar": {
           "angularaxis": {
            "gridcolor": "white",
            "linecolor": "white",
            "ticks": ""
           },
           "bgcolor": "#E5ECF6",
           "radialaxis": {
            "gridcolor": "white",
            "linecolor": "white",
            "ticks": ""
           }
          },
          "scene": {
           "xaxis": {
            "backgroundcolor": "#E5ECF6",
            "gridcolor": "white",
            "gridwidth": 2,
            "linecolor": "white",
            "showbackground": true,
            "ticks": "",
            "zerolinecolor": "white"
           },
           "yaxis": {
            "backgroundcolor": "#E5ECF6",
            "gridcolor": "white",
            "gridwidth": 2,
            "linecolor": "white",
            "showbackground": true,
            "ticks": "",
            "zerolinecolor": "white"
           },
           "zaxis": {
            "backgroundcolor": "#E5ECF6",
            "gridcolor": "white",
            "gridwidth": 2,
            "linecolor": "white",
            "showbackground": true,
            "ticks": "",
            "zerolinecolor": "white"
           }
          },
          "shapedefaults": {
           "line": {
            "color": "#2a3f5f"
           }
          },
          "ternary": {
           "aaxis": {
            "gridcolor": "white",
            "linecolor": "white",
            "ticks": ""
           },
           "baxis": {
            "gridcolor": "white",
            "linecolor": "white",
            "ticks": ""
           },
           "bgcolor": "#E5ECF6",
           "caxis": {
            "gridcolor": "white",
            "linecolor": "white",
            "ticks": ""
           }
          },
          "title": {
           "x": 0.05
          },
          "xaxis": {
           "automargin": true,
           "gridcolor": "white",
           "linecolor": "white",
           "ticks": "",
           "title": {
            "standoff": 15
           },
           "zerolinecolor": "white",
           "zerolinewidth": 2
          },
          "yaxis": {
           "automargin": true,
           "gridcolor": "white",
           "linecolor": "white",
           "ticks": "",
           "title": {
            "standoff": 15
           },
           "zerolinecolor": "white",
           "zerolinewidth": 2
          }
         }
        },
        "width": 800,
        "xaxis": {
         "range": [
          -90,
          90
         ],
         "title": {
          "text": "a"
         }
        },
        "yaxis": {
         "range": [
          -90,
          90
         ],
         "title": {
          "text": "b"
         }
        }
       }
      }
     },
     "metadata": {},
     "output_type": "display_data"
    }
   ],
   "source": [
    "Plot_ab(Lab_,rgbdata_)"
   ]
  },
  {
   "cell_type": "code",
   "execution_count": 47,
   "metadata": {},
   "outputs": [
    {
     "data": {
      "application/vnd.plotly.v1+json": {
       "config": {
        "plotlyServerURL": "https://plot.ly"
       },
       "data": [
        {
         "customdata": [
          [
           67.12196362980845,
           -2.5039280794878334,
           4.41791618203145
          ],
          [
           53.99484105949686,
           -0.8300901207516634,
           2.273064475173341
          ]
         ],
         "hovertemplate": "<b>L</b>: %{customdata[0]}<br><b>a</b>: %{customdata[1]}<br><b>b</b>: %{customdata[2]:.2f}<extra></extra>",
         "marker": {
          "color": [
           "rgb(92,95,83)",
           "rgb(58,58,53)"
          ],
          "opacity": 1,
          "size": 6
         },
         "mode": "markers",
         "showlegend": false,
         "type": "scatter",
         "x": [
          -2.5039280794878334,
          -0.8300901207516634
         ],
         "y": [
          67.12196362980845,
          53.99484105949686
         ]
        },
        {
         "line": {
          "color": "black",
          "width": 1
         },
         "mode": "lines",
         "showlegend": false,
         "type": "scatter",
         "x": [
          0,
          0
         ],
         "y": [
          -90,
          90
         ]
        },
        {
         "line": {
          "color": "black",
          "width": 1
         },
         "mode": "lines",
         "showlegend": false,
         "type": "scatter",
         "x": [
          -90,
          90
         ],
         "y": [
          0,
          0
         ]
        },
        {
         "line": {
          "color": "rgba(128, 128, 128, 0.5)",
          "dash": "dot",
          "width": 1
         },
         "mode": "lines",
         "showlegend": false,
         "type": "scatter",
         "x": [
          0,
          90
         ],
         "y": [
          0,
          0
         ]
        },
        {
         "line": {
          "color": "rgba(128, 128, 128, 0.5)",
          "dash": "dot",
          "width": 1
         },
         "mode": "lines",
         "showlegend": false,
         "type": "scatter",
         "x": [
          0,
          88.63269777109872
         ],
         "y": [
          0,
          15.62833599002373
         ]
        },
        {
         "line": {
          "color": "rgba(128, 128, 128, 0.5)",
          "dash": "dot",
          "width": 1
         },
         "mode": "lines",
         "showlegend": false,
         "type": "scatter",
         "x": [
          0,
          84.57233587073176
         ],
         "y": [
          0,
          30.781812899310186
         ]
        },
        {
         "line": {
          "color": "rgba(128, 128, 128, 0.5)",
          "dash": "dot",
          "width": 1
         },
         "mode": "lines",
         "showlegend": false,
         "type": "scatter",
         "x": [
          0,
          77.94228634059948
         ],
         "y": [
          0,
          44.99999999999999
         ]
        },
        {
         "line": {
          "color": "rgba(128, 128, 128, 0.5)",
          "dash": "dot",
          "width": 1
         },
         "mode": "lines",
         "showlegend": false,
         "type": "scatter",
         "x": [
          0,
          68.94399988070802
         ],
         "y": [
          0,
          57.85088487178853
         ]
        },
        {
         "line": {
          "color": "rgba(128, 128, 128, 0.5)",
          "dash": "dot",
          "width": 1
         },
         "mode": "lines",
         "showlegend": false,
         "type": "scatter",
         "x": [
          0,
          57.850884871788544
         ],
         "y": [
          0,
          68.94399988070802
         ]
        },
        {
         "line": {
          "color": "rgba(128, 128, 128, 0.5)",
          "dash": "dot",
          "width": 1
         },
         "mode": "lines",
         "showlegend": false,
         "type": "scatter",
         "x": [
          0,
          45.00000000000001
         ],
         "y": [
          0,
          77.94228634059948
         ]
        },
        {
         "line": {
          "color": "rgba(128, 128, 128, 0.5)",
          "dash": "dot",
          "width": 1
         },
         "mode": "lines",
         "showlegend": false,
         "type": "scatter",
         "x": [
          0,
          30.781812899310193
         ],
         "y": [
          0,
          84.57233587073175
         ]
        },
        {
         "line": {
          "color": "rgba(128, 128, 128, 0.5)",
          "dash": "dot",
          "width": 1
         },
         "mode": "lines",
         "showlegend": false,
         "type": "scatter",
         "x": [
          0,
          15.628335990023738
         ],
         "y": [
          0,
          88.63269777109872
         ]
        },
        {
         "line": {
          "color": "rgba(128, 128, 128, 0.5)",
          "dash": "dot",
          "width": 1
         },
         "mode": "lines",
         "showlegend": false,
         "type": "scatter",
         "x": [
          0,
          5.5109105961630896e-15
         ],
         "y": [
          0,
          90
         ]
        },
        {
         "line": {
          "color": "rgba(128, 128, 128, 0.5)",
          "dash": "dot",
          "width": 1
         },
         "mode": "lines",
         "showlegend": false,
         "type": "scatter",
         "x": [
          0,
          -15.628335990023727
         ],
         "y": [
          0,
          88.63269777109872
         ]
        },
        {
         "line": {
          "color": "rgba(128, 128, 128, 0.5)",
          "dash": "dot",
          "width": 1
         },
         "mode": "lines",
         "showlegend": false,
         "type": "scatter",
         "x": [
          0,
          -30.781812899310186
         ],
         "y": [
          0,
          84.57233587073176
         ]
        },
        {
         "line": {
          "color": "rgba(128, 128, 128, 0.5)",
          "dash": "dot",
          "width": 1
         },
         "mode": "lines",
         "showlegend": false,
         "type": "scatter",
         "x": [
          0,
          -44.99999999999998
         ],
         "y": [
          0,
          77.94228634059948
         ]
        },
        {
         "line": {
          "color": "rgba(128, 128, 128, 0.5)",
          "dash": "dot",
          "width": 1
         },
         "mode": "lines",
         "showlegend": false,
         "type": "scatter",
         "x": [
          0,
          -57.850884871788544
         ],
         "y": [
          0,
          68.94399988070802
         ]
        },
        {
         "line": {
          "color": "rgba(128, 128, 128, 0.5)",
          "dash": "dot",
          "width": 1
         },
         "mode": "lines",
         "showlegend": false,
         "type": "scatter",
         "x": [
          0,
          -68.943999880708
         ],
         "y": [
          0,
          57.85088487178855
         ]
        },
        {
         "line": {
          "color": "rgba(128, 128, 128, 0.5)",
          "dash": "dot",
          "width": 1
         },
         "mode": "lines",
         "showlegend": false,
         "type": "scatter",
         "x": [
          0,
          -77.94228634059948
         ],
         "y": [
          0,
          44.99999999999999
         ]
        },
        {
         "line": {
          "color": "rgba(128, 128, 128, 0.5)",
          "dash": "dot",
          "width": 1
         },
         "mode": "lines",
         "showlegend": false,
         "type": "scatter",
         "x": [
          0,
          -84.57233587073175
         ],
         "y": [
          0,
          30.7818128993102
         ]
        },
        {
         "line": {
          "color": "rgba(128, 128, 128, 0.5)",
          "dash": "dot",
          "width": 1
         },
         "mode": "lines",
         "showlegend": false,
         "type": "scatter",
         "x": [
          0,
          -88.63269777109872
         ],
         "y": [
          0,
          15.628335990023762
         ]
        },
        {
         "line": {
          "color": "rgba(128, 128, 128, 0.5)",
          "dash": "dot",
          "width": 1
         },
         "mode": "lines",
         "showlegend": false,
         "type": "scatter",
         "x": [
          0,
          -90
         ],
         "y": [
          0,
          1.1021821192326179e-14
         ]
        },
        {
         "line": {
          "color": "rgba(128, 128, 128, 0.5)",
          "dash": "dot",
          "width": 1
         },
         "mode": "lines",
         "showlegend": false,
         "type": "scatter",
         "x": [
          0,
          -88.63269777109873
         ],
         "y": [
          0,
          -15.628335990023702
         ]
        },
        {
         "line": {
          "color": "rgba(128, 128, 128, 0.5)",
          "dash": "dot",
          "width": 1
         },
         "mode": "lines",
         "showlegend": false,
         "type": "scatter",
         "x": [
          0,
          -84.57233587073176
         ],
         "y": [
          0,
          -30.78181289931018
         ]
        },
        {
         "line": {
          "color": "rgba(128, 128, 128, 0.5)",
          "dash": "dot",
          "width": 1
         },
         "mode": "lines",
         "showlegend": false,
         "type": "scatter",
         "x": [
          0,
          -77.9422863405995
         ],
         "y": [
          0,
          -44.99999999999997
         ]
        },
        {
         "line": {
          "color": "rgba(128, 128, 128, 0.5)",
          "dash": "dot",
          "width": 1
         },
         "mode": "lines",
         "showlegend": false,
         "type": "scatter",
         "x": [
          0,
          -68.94399988070802
         ],
         "y": [
          0,
          -57.85088487178853
         ]
        },
        {
         "line": {
          "color": "rgba(128, 128, 128, 0.5)",
          "dash": "dot",
          "width": 1
         },
         "mode": "lines",
         "showlegend": false,
         "type": "scatter",
         "x": [
          0,
          -57.85088487178855
         ],
         "y": [
          0,
          -68.943999880708
         ]
        },
        {
         "line": {
          "color": "rgba(128, 128, 128, 0.5)",
          "dash": "dot",
          "width": 1
         },
         "mode": "lines",
         "showlegend": false,
         "type": "scatter",
         "x": [
          0,
          -45.00000000000004
         ],
         "y": [
          0,
          -77.94228634059947
         ]
        },
        {
         "line": {
          "color": "rgba(128, 128, 128, 0.5)",
          "dash": "dot",
          "width": 1
         },
         "mode": "lines",
         "showlegend": false,
         "type": "scatter",
         "x": [
          0,
          -30.781812899310243
         ],
         "y": [
          0,
          -84.57233587073173
         ]
        },
        {
         "line": {
          "color": "rgba(128, 128, 128, 0.5)",
          "dash": "dot",
          "width": 1
         },
         "mode": "lines",
         "showlegend": false,
         "type": "scatter",
         "x": [
          0,
          -15.62833599002373
         ],
         "y": [
          0,
          -88.63269777109872
         ]
        },
        {
         "line": {
          "color": "rgba(128, 128, 128, 0.5)",
          "dash": "dot",
          "width": 1
         },
         "mode": "lines",
         "showlegend": false,
         "type": "scatter",
         "x": [
          0,
          -1.6532731788489267e-14
         ],
         "y": [
          0,
          -90
         ]
        },
        {
         "line": {
          "color": "rgba(128, 128, 128, 0.5)",
          "dash": "dot",
          "width": 1
         },
         "mode": "lines",
         "showlegend": false,
         "type": "scatter",
         "x": [
          0,
          15.628335990023697
         ],
         "y": [
          0,
          -88.63269777109873
         ]
        },
        {
         "line": {
          "color": "rgba(128, 128, 128, 0.5)",
          "dash": "dot",
          "width": 1
         },
         "mode": "lines",
         "showlegend": false,
         "type": "scatter",
         "x": [
          0,
          30.781812899310133
         ],
         "y": [
          0,
          -84.57233587073176
         ]
        },
        {
         "line": {
          "color": "rgba(128, 128, 128, 0.5)",
          "dash": "dot",
          "width": 1
         },
         "mode": "lines",
         "showlegend": false,
         "type": "scatter",
         "x": [
          0,
          45.00000000000001
         ],
         "y": [
          0,
          -77.94228634059948
         ]
        },
        {
         "line": {
          "color": "rgba(128, 128, 128, 0.5)",
          "dash": "dot",
          "width": 1
         },
         "mode": "lines",
         "showlegend": false,
         "type": "scatter",
         "x": [
          0,
          57.85088487178853
         ],
         "y": [
          0,
          -68.94399988070803
         ]
        },
        {
         "line": {
          "color": "rgba(128, 128, 128, 0.5)",
          "dash": "dot",
          "width": 1
         },
         "mode": "lines",
         "showlegend": false,
         "type": "scatter",
         "x": [
          0,
          68.943999880708
         ],
         "y": [
          0,
          -57.850884871788566
         ]
        },
        {
         "line": {
          "color": "rgba(128, 128, 128, 0.5)",
          "dash": "dot",
          "width": 1
         },
         "mode": "lines",
         "showlegend": false,
         "type": "scatter",
         "x": [
          0,
          77.94228634059945
         ],
         "y": [
          0,
          -45.00000000000004
         ]
        },
        {
         "line": {
          "color": "rgba(128, 128, 128, 0.5)",
          "dash": "dot",
          "width": 1
         },
         "mode": "lines",
         "showlegend": false,
         "type": "scatter",
         "x": [
          0,
          84.57233587073173
         ],
         "y": [
          0,
          -30.78181289931025
         ]
        },
        {
         "line": {
          "color": "rgba(128, 128, 128, 0.5)",
          "dash": "dot",
          "width": 1
         },
         "mode": "lines",
         "showlegend": false,
         "type": "scatter",
         "x": [
          0,
          88.63269777109872
         ],
         "y": [
          0,
          -15.628335990023734
         ]
        }
       ],
       "layout": {
        "autosize": false,
        "height": 800,
        "shapes": [
         {
          "line": {
           "color": "black",
           "dash": "dash",
           "width": 2
          },
          "type": "circle",
          "x0": -90,
          "x1": 90,
          "xref": "x",
          "y0": -90,
          "y1": 90,
          "yref": "y"
         }
        ],
        "template": {
         "data": {
          "bar": [
           {
            "error_x": {
             "color": "#2a3f5f"
            },
            "error_y": {
             "color": "#2a3f5f"
            },
            "marker": {
             "line": {
              "color": "#E5ECF6",
              "width": 0.5
             },
             "pattern": {
              "fillmode": "overlay",
              "size": 10,
              "solidity": 0.2
             }
            },
            "type": "bar"
           }
          ],
          "barpolar": [
           {
            "marker": {
             "line": {
              "color": "#E5ECF6",
              "width": 0.5
             },
             "pattern": {
              "fillmode": "overlay",
              "size": 10,
              "solidity": 0.2
             }
            },
            "type": "barpolar"
           }
          ],
          "carpet": [
           {
            "aaxis": {
             "endlinecolor": "#2a3f5f",
             "gridcolor": "white",
             "linecolor": "white",
             "minorgridcolor": "white",
             "startlinecolor": "#2a3f5f"
            },
            "baxis": {
             "endlinecolor": "#2a3f5f",
             "gridcolor": "white",
             "linecolor": "white",
             "minorgridcolor": "white",
             "startlinecolor": "#2a3f5f"
            },
            "type": "carpet"
           }
          ],
          "choropleth": [
           {
            "colorbar": {
             "outlinewidth": 0,
             "ticks": ""
            },
            "type": "choropleth"
           }
          ],
          "contour": [
           {
            "colorbar": {
             "outlinewidth": 0,
             "ticks": ""
            },
            "colorscale": [
             [
              0,
              "#0d0887"
             ],
             [
              0.1111111111111111,
              "#46039f"
             ],
             [
              0.2222222222222222,
              "#7201a8"
             ],
             [
              0.3333333333333333,
              "#9c179e"
             ],
             [
              0.4444444444444444,
              "#bd3786"
             ],
             [
              0.5555555555555556,
              "#d8576b"
             ],
             [
              0.6666666666666666,
              "#ed7953"
             ],
             [
              0.7777777777777778,
              "#fb9f3a"
             ],
             [
              0.8888888888888888,
              "#fdca26"
             ],
             [
              1,
              "#f0f921"
             ]
            ],
            "type": "contour"
           }
          ],
          "contourcarpet": [
           {
            "colorbar": {
             "outlinewidth": 0,
             "ticks": ""
            },
            "type": "contourcarpet"
           }
          ],
          "heatmap": [
           {
            "colorbar": {
             "outlinewidth": 0,
             "ticks": ""
            },
            "colorscale": [
             [
              0,
              "#0d0887"
             ],
             [
              0.1111111111111111,
              "#46039f"
             ],
             [
              0.2222222222222222,
              "#7201a8"
             ],
             [
              0.3333333333333333,
              "#9c179e"
             ],
             [
              0.4444444444444444,
              "#bd3786"
             ],
             [
              0.5555555555555556,
              "#d8576b"
             ],
             [
              0.6666666666666666,
              "#ed7953"
             ],
             [
              0.7777777777777778,
              "#fb9f3a"
             ],
             [
              0.8888888888888888,
              "#fdca26"
             ],
             [
              1,
              "#f0f921"
             ]
            ],
            "type": "heatmap"
           }
          ],
          "heatmapgl": [
           {
            "colorbar": {
             "outlinewidth": 0,
             "ticks": ""
            },
            "colorscale": [
             [
              0,
              "#0d0887"
             ],
             [
              0.1111111111111111,
              "#46039f"
             ],
             [
              0.2222222222222222,
              "#7201a8"
             ],
             [
              0.3333333333333333,
              "#9c179e"
             ],
             [
              0.4444444444444444,
              "#bd3786"
             ],
             [
              0.5555555555555556,
              "#d8576b"
             ],
             [
              0.6666666666666666,
              "#ed7953"
             ],
             [
              0.7777777777777778,
              "#fb9f3a"
             ],
             [
              0.8888888888888888,
              "#fdca26"
             ],
             [
              1,
              "#f0f921"
             ]
            ],
            "type": "heatmapgl"
           }
          ],
          "histogram": [
           {
            "marker": {
             "pattern": {
              "fillmode": "overlay",
              "size": 10,
              "solidity": 0.2
             }
            },
            "type": "histogram"
           }
          ],
          "histogram2d": [
           {
            "colorbar": {
             "outlinewidth": 0,
             "ticks": ""
            },
            "colorscale": [
             [
              0,
              "#0d0887"
             ],
             [
              0.1111111111111111,
              "#46039f"
             ],
             [
              0.2222222222222222,
              "#7201a8"
             ],
             [
              0.3333333333333333,
              "#9c179e"
             ],
             [
              0.4444444444444444,
              "#bd3786"
             ],
             [
              0.5555555555555556,
              "#d8576b"
             ],
             [
              0.6666666666666666,
              "#ed7953"
             ],
             [
              0.7777777777777778,
              "#fb9f3a"
             ],
             [
              0.8888888888888888,
              "#fdca26"
             ],
             [
              1,
              "#f0f921"
             ]
            ],
            "type": "histogram2d"
           }
          ],
          "histogram2dcontour": [
           {
            "colorbar": {
             "outlinewidth": 0,
             "ticks": ""
            },
            "colorscale": [
             [
              0,
              "#0d0887"
             ],
             [
              0.1111111111111111,
              "#46039f"
             ],
             [
              0.2222222222222222,
              "#7201a8"
             ],
             [
              0.3333333333333333,
              "#9c179e"
             ],
             [
              0.4444444444444444,
              "#bd3786"
             ],
             [
              0.5555555555555556,
              "#d8576b"
             ],
             [
              0.6666666666666666,
              "#ed7953"
             ],
             [
              0.7777777777777778,
              "#fb9f3a"
             ],
             [
              0.8888888888888888,
              "#fdca26"
             ],
             [
              1,
              "#f0f921"
             ]
            ],
            "type": "histogram2dcontour"
           }
          ],
          "mesh3d": [
           {
            "colorbar": {
             "outlinewidth": 0,
             "ticks": ""
            },
            "type": "mesh3d"
           }
          ],
          "parcoords": [
           {
            "line": {
             "colorbar": {
              "outlinewidth": 0,
              "ticks": ""
             }
            },
            "type": "parcoords"
           }
          ],
          "pie": [
           {
            "automargin": true,
            "type": "pie"
           }
          ],
          "scatter": [
           {
            "fillpattern": {
             "fillmode": "overlay",
             "size": 10,
             "solidity": 0.2
            },
            "type": "scatter"
           }
          ],
          "scatter3d": [
           {
            "line": {
             "colorbar": {
              "outlinewidth": 0,
              "ticks": ""
             }
            },
            "marker": {
             "colorbar": {
              "outlinewidth": 0,
              "ticks": ""
             }
            },
            "type": "scatter3d"
           }
          ],
          "scattercarpet": [
           {
            "marker": {
             "colorbar": {
              "outlinewidth": 0,
              "ticks": ""
             }
            },
            "type": "scattercarpet"
           }
          ],
          "scattergeo": [
           {
            "marker": {
             "colorbar": {
              "outlinewidth": 0,
              "ticks": ""
             }
            },
            "type": "scattergeo"
           }
          ],
          "scattergl": [
           {
            "marker": {
             "colorbar": {
              "outlinewidth": 0,
              "ticks": ""
             }
            },
            "type": "scattergl"
           }
          ],
          "scattermapbox": [
           {
            "marker": {
             "colorbar": {
              "outlinewidth": 0,
              "ticks": ""
             }
            },
            "type": "scattermapbox"
           }
          ],
          "scatterpolar": [
           {
            "marker": {
             "colorbar": {
              "outlinewidth": 0,
              "ticks": ""
             }
            },
            "type": "scatterpolar"
           }
          ],
          "scatterpolargl": [
           {
            "marker": {
             "colorbar": {
              "outlinewidth": 0,
              "ticks": ""
             }
            },
            "type": "scatterpolargl"
           }
          ],
          "scatterternary": [
           {
            "marker": {
             "colorbar": {
              "outlinewidth": 0,
              "ticks": ""
             }
            },
            "type": "scatterternary"
           }
          ],
          "surface": [
           {
            "colorbar": {
             "outlinewidth": 0,
             "ticks": ""
            },
            "colorscale": [
             [
              0,
              "#0d0887"
             ],
             [
              0.1111111111111111,
              "#46039f"
             ],
             [
              0.2222222222222222,
              "#7201a8"
             ],
             [
              0.3333333333333333,
              "#9c179e"
             ],
             [
              0.4444444444444444,
              "#bd3786"
             ],
             [
              0.5555555555555556,
              "#d8576b"
             ],
             [
              0.6666666666666666,
              "#ed7953"
             ],
             [
              0.7777777777777778,
              "#fb9f3a"
             ],
             [
              0.8888888888888888,
              "#fdca26"
             ],
             [
              1,
              "#f0f921"
             ]
            ],
            "type": "surface"
           }
          ],
          "table": [
           {
            "cells": {
             "fill": {
              "color": "#EBF0F8"
             },
             "line": {
              "color": "white"
             }
            },
            "header": {
             "fill": {
              "color": "#C8D4E3"
             },
             "line": {
              "color": "white"
             }
            },
            "type": "table"
           }
          ]
         },
         "layout": {
          "annotationdefaults": {
           "arrowcolor": "#2a3f5f",
           "arrowhead": 0,
           "arrowwidth": 1
          },
          "autotypenumbers": "strict",
          "coloraxis": {
           "colorbar": {
            "outlinewidth": 0,
            "ticks": ""
           }
          },
          "colorscale": {
           "diverging": [
            [
             0,
             "#8e0152"
            ],
            [
             0.1,
             "#c51b7d"
            ],
            [
             0.2,
             "#de77ae"
            ],
            [
             0.3,
             "#f1b6da"
            ],
            [
             0.4,
             "#fde0ef"
            ],
            [
             0.5,
             "#f7f7f7"
            ],
            [
             0.6,
             "#e6f5d0"
            ],
            [
             0.7,
             "#b8e186"
            ],
            [
             0.8,
             "#7fbc41"
            ],
            [
             0.9,
             "#4d9221"
            ],
            [
             1,
             "#276419"
            ]
           ],
           "sequential": [
            [
             0,
             "#0d0887"
            ],
            [
             0.1111111111111111,
             "#46039f"
            ],
            [
             0.2222222222222222,
             "#7201a8"
            ],
            [
             0.3333333333333333,
             "#9c179e"
            ],
            [
             0.4444444444444444,
             "#bd3786"
            ],
            [
             0.5555555555555556,
             "#d8576b"
            ],
            [
             0.6666666666666666,
             "#ed7953"
            ],
            [
             0.7777777777777778,
             "#fb9f3a"
            ],
            [
             0.8888888888888888,
             "#fdca26"
            ],
            [
             1,
             "#f0f921"
            ]
           ],
           "sequentialminus": [
            [
             0,
             "#0d0887"
            ],
            [
             0.1111111111111111,
             "#46039f"
            ],
            [
             0.2222222222222222,
             "#7201a8"
            ],
            [
             0.3333333333333333,
             "#9c179e"
            ],
            [
             0.4444444444444444,
             "#bd3786"
            ],
            [
             0.5555555555555556,
             "#d8576b"
            ],
            [
             0.6666666666666666,
             "#ed7953"
            ],
            [
             0.7777777777777778,
             "#fb9f3a"
            ],
            [
             0.8888888888888888,
             "#fdca26"
            ],
            [
             1,
             "#f0f921"
            ]
           ]
          },
          "colorway": [
           "#636efa",
           "#EF553B",
           "#00cc96",
           "#ab63fa",
           "#FFA15A",
           "#19d3f3",
           "#FF6692",
           "#B6E880",
           "#FF97FF",
           "#FECB52"
          ],
          "font": {
           "color": "#2a3f5f"
          },
          "geo": {
           "bgcolor": "white",
           "lakecolor": "white",
           "landcolor": "#E5ECF6",
           "showlakes": true,
           "showland": true,
           "subunitcolor": "white"
          },
          "hoverlabel": {
           "align": "left"
          },
          "hovermode": "closest",
          "mapbox": {
           "style": "light"
          },
          "paper_bgcolor": "white",
          "plot_bgcolor": "#E5ECF6",
          "polar": {
           "angularaxis": {
            "gridcolor": "white",
            "linecolor": "white",
            "ticks": ""
           },
           "bgcolor": "#E5ECF6",
           "radialaxis": {
            "gridcolor": "white",
            "linecolor": "white",
            "ticks": ""
           }
          },
          "scene": {
           "xaxis": {
            "backgroundcolor": "#E5ECF6",
            "gridcolor": "white",
            "gridwidth": 2,
            "linecolor": "white",
            "showbackground": true,
            "ticks": "",
            "zerolinecolor": "white"
           },
           "yaxis": {
            "backgroundcolor": "#E5ECF6",
            "gridcolor": "white",
            "gridwidth": 2,
            "linecolor": "white",
            "showbackground": true,
            "ticks": "",
            "zerolinecolor": "white"
           },
           "zaxis": {
            "backgroundcolor": "#E5ECF6",
            "gridcolor": "white",
            "gridwidth": 2,
            "linecolor": "white",
            "showbackground": true,
            "ticks": "",
            "zerolinecolor": "white"
           }
          },
          "shapedefaults": {
           "line": {
            "color": "#2a3f5f"
           }
          },
          "ternary": {
           "aaxis": {
            "gridcolor": "white",
            "linecolor": "white",
            "ticks": ""
           },
           "baxis": {
            "gridcolor": "white",
            "linecolor": "white",
            "ticks": ""
           },
           "bgcolor": "#E5ECF6",
           "caxis": {
            "gridcolor": "white",
            "linecolor": "white",
            "ticks": ""
           }
          },
          "title": {
           "x": 0.05
          },
          "xaxis": {
           "automargin": true,
           "gridcolor": "white",
           "linecolor": "white",
           "ticks": "",
           "title": {
            "standoff": 15
           },
           "zerolinecolor": "white",
           "zerolinewidth": 2
          },
          "yaxis": {
           "automargin": true,
           "gridcolor": "white",
           "linecolor": "white",
           "ticks": "",
           "title": {
            "standoff": 15
           },
           "zerolinecolor": "white",
           "zerolinewidth": 2
          }
         }
        },
        "width": 800,
        "xaxis": {
         "range": [
          -90,
          90
         ],
         "title": {
          "text": "a"
         }
        },
        "yaxis": {
         "range": [
          -90,
          90
         ],
         "title": {
          "text": "L"
         }
        }
       }
      }
     },
     "metadata": {},
     "output_type": "display_data"
    }
   ],
   "source": [
    "Plot_aL(Lab_,rgbdata_)"
   ]
  },
  {
   "cell_type": "code",
   "execution_count": 48,
   "metadata": {},
   "outputs": [
    {
     "data": {
      "application/vnd.plotly.v1+json": {
       "config": {
        "plotlyServerURL": "https://plot.ly"
       },
       "data": [
        {
         "customdata": [
          [
           67.12196362980845,
           -2.5039280794878334,
           4.41791618203145
          ],
          [
           53.99484105949686,
           -0.8300901207516634,
           2.273064475173341
          ]
         ],
         "hovertemplate": "<b>L</b>: %{customdata[0]}<br><b>a</b>: %{customdata[1]}<br><b>b</b>: %{customdata[2]:.2f}<extra></extra>",
         "marker": {
          "color": [
           "rgb(92,95,83)",
           "rgb(58,58,53)"
          ],
          "opacity": 1,
          "size": 6
         },
         "mode": "markers",
         "showlegend": false,
         "type": "scatter",
         "x": [
          4.41791618203145,
          2.273064475173341
         ],
         "y": [
          67.12196362980845,
          53.99484105949686
         ]
        },
        {
         "line": {
          "color": "black",
          "width": 1
         },
         "mode": "lines",
         "showlegend": false,
         "type": "scatter",
         "x": [
          0,
          0
         ],
         "y": [
          -90,
          90
         ]
        },
        {
         "line": {
          "color": "black",
          "width": 1
         },
         "mode": "lines",
         "showlegend": false,
         "type": "scatter",
         "x": [
          -90,
          90
         ],
         "y": [
          0,
          0
         ]
        },
        {
         "line": {
          "color": "rgba(128, 128, 128, 0.5)",
          "dash": "dot",
          "width": 1
         },
         "mode": "lines",
         "showlegend": false,
         "type": "scatter",
         "x": [
          0,
          90
         ],
         "y": [
          0,
          0
         ]
        },
        {
         "line": {
          "color": "rgba(128, 128, 128, 0.5)",
          "dash": "dot",
          "width": 1
         },
         "mode": "lines",
         "showlegend": false,
         "type": "scatter",
         "x": [
          0,
          88.63269777109872
         ],
         "y": [
          0,
          15.62833599002373
         ]
        },
        {
         "line": {
          "color": "rgba(128, 128, 128, 0.5)",
          "dash": "dot",
          "width": 1
         },
         "mode": "lines",
         "showlegend": false,
         "type": "scatter",
         "x": [
          0,
          84.57233587073176
         ],
         "y": [
          0,
          30.781812899310186
         ]
        },
        {
         "line": {
          "color": "rgba(128, 128, 128, 0.5)",
          "dash": "dot",
          "width": 1
         },
         "mode": "lines",
         "showlegend": false,
         "type": "scatter",
         "x": [
          0,
          77.94228634059948
         ],
         "y": [
          0,
          44.99999999999999
         ]
        },
        {
         "line": {
          "color": "rgba(128, 128, 128, 0.5)",
          "dash": "dot",
          "width": 1
         },
         "mode": "lines",
         "showlegend": false,
         "type": "scatter",
         "x": [
          0,
          68.94399988070802
         ],
         "y": [
          0,
          57.85088487178853
         ]
        },
        {
         "line": {
          "color": "rgba(128, 128, 128, 0.5)",
          "dash": "dot",
          "width": 1
         },
         "mode": "lines",
         "showlegend": false,
         "type": "scatter",
         "x": [
          0,
          57.850884871788544
         ],
         "y": [
          0,
          68.94399988070802
         ]
        },
        {
         "line": {
          "color": "rgba(128, 128, 128, 0.5)",
          "dash": "dot",
          "width": 1
         },
         "mode": "lines",
         "showlegend": false,
         "type": "scatter",
         "x": [
          0,
          45.00000000000001
         ],
         "y": [
          0,
          77.94228634059948
         ]
        },
        {
         "line": {
          "color": "rgba(128, 128, 128, 0.5)",
          "dash": "dot",
          "width": 1
         },
         "mode": "lines",
         "showlegend": false,
         "type": "scatter",
         "x": [
          0,
          30.781812899310193
         ],
         "y": [
          0,
          84.57233587073175
         ]
        },
        {
         "line": {
          "color": "rgba(128, 128, 128, 0.5)",
          "dash": "dot",
          "width": 1
         },
         "mode": "lines",
         "showlegend": false,
         "type": "scatter",
         "x": [
          0,
          15.628335990023738
         ],
         "y": [
          0,
          88.63269777109872
         ]
        },
        {
         "line": {
          "color": "rgba(128, 128, 128, 0.5)",
          "dash": "dot",
          "width": 1
         },
         "mode": "lines",
         "showlegend": false,
         "type": "scatter",
         "x": [
          0,
          5.5109105961630896e-15
         ],
         "y": [
          0,
          90
         ]
        },
        {
         "line": {
          "color": "rgba(128, 128, 128, 0.5)",
          "dash": "dot",
          "width": 1
         },
         "mode": "lines",
         "showlegend": false,
         "type": "scatter",
         "x": [
          0,
          -15.628335990023727
         ],
         "y": [
          0,
          88.63269777109872
         ]
        },
        {
         "line": {
          "color": "rgba(128, 128, 128, 0.5)",
          "dash": "dot",
          "width": 1
         },
         "mode": "lines",
         "showlegend": false,
         "type": "scatter",
         "x": [
          0,
          -30.781812899310186
         ],
         "y": [
          0,
          84.57233587073176
         ]
        },
        {
         "line": {
          "color": "rgba(128, 128, 128, 0.5)",
          "dash": "dot",
          "width": 1
         },
         "mode": "lines",
         "showlegend": false,
         "type": "scatter",
         "x": [
          0,
          -44.99999999999998
         ],
         "y": [
          0,
          77.94228634059948
         ]
        },
        {
         "line": {
          "color": "rgba(128, 128, 128, 0.5)",
          "dash": "dot",
          "width": 1
         },
         "mode": "lines",
         "showlegend": false,
         "type": "scatter",
         "x": [
          0,
          -57.850884871788544
         ],
         "y": [
          0,
          68.94399988070802
         ]
        },
        {
         "line": {
          "color": "rgba(128, 128, 128, 0.5)",
          "dash": "dot",
          "width": 1
         },
         "mode": "lines",
         "showlegend": false,
         "type": "scatter",
         "x": [
          0,
          -68.943999880708
         ],
         "y": [
          0,
          57.85088487178855
         ]
        },
        {
         "line": {
          "color": "rgba(128, 128, 128, 0.5)",
          "dash": "dot",
          "width": 1
         },
         "mode": "lines",
         "showlegend": false,
         "type": "scatter",
         "x": [
          0,
          -77.94228634059948
         ],
         "y": [
          0,
          44.99999999999999
         ]
        },
        {
         "line": {
          "color": "rgba(128, 128, 128, 0.5)",
          "dash": "dot",
          "width": 1
         },
         "mode": "lines",
         "showlegend": false,
         "type": "scatter",
         "x": [
          0,
          -84.57233587073175
         ],
         "y": [
          0,
          30.7818128993102
         ]
        },
        {
         "line": {
          "color": "rgba(128, 128, 128, 0.5)",
          "dash": "dot",
          "width": 1
         },
         "mode": "lines",
         "showlegend": false,
         "type": "scatter",
         "x": [
          0,
          -88.63269777109872
         ],
         "y": [
          0,
          15.628335990023762
         ]
        },
        {
         "line": {
          "color": "rgba(128, 128, 128, 0.5)",
          "dash": "dot",
          "width": 1
         },
         "mode": "lines",
         "showlegend": false,
         "type": "scatter",
         "x": [
          0,
          -90
         ],
         "y": [
          0,
          1.1021821192326179e-14
         ]
        },
        {
         "line": {
          "color": "rgba(128, 128, 128, 0.5)",
          "dash": "dot",
          "width": 1
         },
         "mode": "lines",
         "showlegend": false,
         "type": "scatter",
         "x": [
          0,
          -88.63269777109873
         ],
         "y": [
          0,
          -15.628335990023702
         ]
        },
        {
         "line": {
          "color": "rgba(128, 128, 128, 0.5)",
          "dash": "dot",
          "width": 1
         },
         "mode": "lines",
         "showlegend": false,
         "type": "scatter",
         "x": [
          0,
          -84.57233587073176
         ],
         "y": [
          0,
          -30.78181289931018
         ]
        },
        {
         "line": {
          "color": "rgba(128, 128, 128, 0.5)",
          "dash": "dot",
          "width": 1
         },
         "mode": "lines",
         "showlegend": false,
         "type": "scatter",
         "x": [
          0,
          -77.9422863405995
         ],
         "y": [
          0,
          -44.99999999999997
         ]
        },
        {
         "line": {
          "color": "rgba(128, 128, 128, 0.5)",
          "dash": "dot",
          "width": 1
         },
         "mode": "lines",
         "showlegend": false,
         "type": "scatter",
         "x": [
          0,
          -68.94399988070802
         ],
         "y": [
          0,
          -57.85088487178853
         ]
        },
        {
         "line": {
          "color": "rgba(128, 128, 128, 0.5)",
          "dash": "dot",
          "width": 1
         },
         "mode": "lines",
         "showlegend": false,
         "type": "scatter",
         "x": [
          0,
          -57.85088487178855
         ],
         "y": [
          0,
          -68.943999880708
         ]
        },
        {
         "line": {
          "color": "rgba(128, 128, 128, 0.5)",
          "dash": "dot",
          "width": 1
         },
         "mode": "lines",
         "showlegend": false,
         "type": "scatter",
         "x": [
          0,
          -45.00000000000004
         ],
         "y": [
          0,
          -77.94228634059947
         ]
        },
        {
         "line": {
          "color": "rgba(128, 128, 128, 0.5)",
          "dash": "dot",
          "width": 1
         },
         "mode": "lines",
         "showlegend": false,
         "type": "scatter",
         "x": [
          0,
          -30.781812899310243
         ],
         "y": [
          0,
          -84.57233587073173
         ]
        },
        {
         "line": {
          "color": "rgba(128, 128, 128, 0.5)",
          "dash": "dot",
          "width": 1
         },
         "mode": "lines",
         "showlegend": false,
         "type": "scatter",
         "x": [
          0,
          -15.62833599002373
         ],
         "y": [
          0,
          -88.63269777109872
         ]
        },
        {
         "line": {
          "color": "rgba(128, 128, 128, 0.5)",
          "dash": "dot",
          "width": 1
         },
         "mode": "lines",
         "showlegend": false,
         "type": "scatter",
         "x": [
          0,
          -1.6532731788489267e-14
         ],
         "y": [
          0,
          -90
         ]
        },
        {
         "line": {
          "color": "rgba(128, 128, 128, 0.5)",
          "dash": "dot",
          "width": 1
         },
         "mode": "lines",
         "showlegend": false,
         "type": "scatter",
         "x": [
          0,
          15.628335990023697
         ],
         "y": [
          0,
          -88.63269777109873
         ]
        },
        {
         "line": {
          "color": "rgba(128, 128, 128, 0.5)",
          "dash": "dot",
          "width": 1
         },
         "mode": "lines",
         "showlegend": false,
         "type": "scatter",
         "x": [
          0,
          30.781812899310133
         ],
         "y": [
          0,
          -84.57233587073176
         ]
        },
        {
         "line": {
          "color": "rgba(128, 128, 128, 0.5)",
          "dash": "dot",
          "width": 1
         },
         "mode": "lines",
         "showlegend": false,
         "type": "scatter",
         "x": [
          0,
          45.00000000000001
         ],
         "y": [
          0,
          -77.94228634059948
         ]
        },
        {
         "line": {
          "color": "rgba(128, 128, 128, 0.5)",
          "dash": "dot",
          "width": 1
         },
         "mode": "lines",
         "showlegend": false,
         "type": "scatter",
         "x": [
          0,
          57.85088487178853
         ],
         "y": [
          0,
          -68.94399988070803
         ]
        },
        {
         "line": {
          "color": "rgba(128, 128, 128, 0.5)",
          "dash": "dot",
          "width": 1
         },
         "mode": "lines",
         "showlegend": false,
         "type": "scatter",
         "x": [
          0,
          68.943999880708
         ],
         "y": [
          0,
          -57.850884871788566
         ]
        },
        {
         "line": {
          "color": "rgba(128, 128, 128, 0.5)",
          "dash": "dot",
          "width": 1
         },
         "mode": "lines",
         "showlegend": false,
         "type": "scatter",
         "x": [
          0,
          77.94228634059945
         ],
         "y": [
          0,
          -45.00000000000004
         ]
        },
        {
         "line": {
          "color": "rgba(128, 128, 128, 0.5)",
          "dash": "dot",
          "width": 1
         },
         "mode": "lines",
         "showlegend": false,
         "type": "scatter",
         "x": [
          0,
          84.57233587073173
         ],
         "y": [
          0,
          -30.78181289931025
         ]
        },
        {
         "line": {
          "color": "rgba(128, 128, 128, 0.5)",
          "dash": "dot",
          "width": 1
         },
         "mode": "lines",
         "showlegend": false,
         "type": "scatter",
         "x": [
          0,
          88.63269777109872
         ],
         "y": [
          0,
          -15.628335990023734
         ]
        }
       ],
       "layout": {
        "autosize": false,
        "height": 800,
        "shapes": [
         {
          "line": {
           "color": "black",
           "dash": "dash",
           "width": 2
          },
          "type": "circle",
          "x0": -90,
          "x1": 90,
          "xref": "x",
          "y0": -90,
          "y1": 90,
          "yref": "y"
         }
        ],
        "template": {
         "data": {
          "bar": [
           {
            "error_x": {
             "color": "#2a3f5f"
            },
            "error_y": {
             "color": "#2a3f5f"
            },
            "marker": {
             "line": {
              "color": "#E5ECF6",
              "width": 0.5
             },
             "pattern": {
              "fillmode": "overlay",
              "size": 10,
              "solidity": 0.2
             }
            },
            "type": "bar"
           }
          ],
          "barpolar": [
           {
            "marker": {
             "line": {
              "color": "#E5ECF6",
              "width": 0.5
             },
             "pattern": {
              "fillmode": "overlay",
              "size": 10,
              "solidity": 0.2
             }
            },
            "type": "barpolar"
           }
          ],
          "carpet": [
           {
            "aaxis": {
             "endlinecolor": "#2a3f5f",
             "gridcolor": "white",
             "linecolor": "white",
             "minorgridcolor": "white",
             "startlinecolor": "#2a3f5f"
            },
            "baxis": {
             "endlinecolor": "#2a3f5f",
             "gridcolor": "white",
             "linecolor": "white",
             "minorgridcolor": "white",
             "startlinecolor": "#2a3f5f"
            },
            "type": "carpet"
           }
          ],
          "choropleth": [
           {
            "colorbar": {
             "outlinewidth": 0,
             "ticks": ""
            },
            "type": "choropleth"
           }
          ],
          "contour": [
           {
            "colorbar": {
             "outlinewidth": 0,
             "ticks": ""
            },
            "colorscale": [
             [
              0,
              "#0d0887"
             ],
             [
              0.1111111111111111,
              "#46039f"
             ],
             [
              0.2222222222222222,
              "#7201a8"
             ],
             [
              0.3333333333333333,
              "#9c179e"
             ],
             [
              0.4444444444444444,
              "#bd3786"
             ],
             [
              0.5555555555555556,
              "#d8576b"
             ],
             [
              0.6666666666666666,
              "#ed7953"
             ],
             [
              0.7777777777777778,
              "#fb9f3a"
             ],
             [
              0.8888888888888888,
              "#fdca26"
             ],
             [
              1,
              "#f0f921"
             ]
            ],
            "type": "contour"
           }
          ],
          "contourcarpet": [
           {
            "colorbar": {
             "outlinewidth": 0,
             "ticks": ""
            },
            "type": "contourcarpet"
           }
          ],
          "heatmap": [
           {
            "colorbar": {
             "outlinewidth": 0,
             "ticks": ""
            },
            "colorscale": [
             [
              0,
              "#0d0887"
             ],
             [
              0.1111111111111111,
              "#46039f"
             ],
             [
              0.2222222222222222,
              "#7201a8"
             ],
             [
              0.3333333333333333,
              "#9c179e"
             ],
             [
              0.4444444444444444,
              "#bd3786"
             ],
             [
              0.5555555555555556,
              "#d8576b"
             ],
             [
              0.6666666666666666,
              "#ed7953"
             ],
             [
              0.7777777777777778,
              "#fb9f3a"
             ],
             [
              0.8888888888888888,
              "#fdca26"
             ],
             [
              1,
              "#f0f921"
             ]
            ],
            "type": "heatmap"
           }
          ],
          "heatmapgl": [
           {
            "colorbar": {
             "outlinewidth": 0,
             "ticks": ""
            },
            "colorscale": [
             [
              0,
              "#0d0887"
             ],
             [
              0.1111111111111111,
              "#46039f"
             ],
             [
              0.2222222222222222,
              "#7201a8"
             ],
             [
              0.3333333333333333,
              "#9c179e"
             ],
             [
              0.4444444444444444,
              "#bd3786"
             ],
             [
              0.5555555555555556,
              "#d8576b"
             ],
             [
              0.6666666666666666,
              "#ed7953"
             ],
             [
              0.7777777777777778,
              "#fb9f3a"
             ],
             [
              0.8888888888888888,
              "#fdca26"
             ],
             [
              1,
              "#f0f921"
             ]
            ],
            "type": "heatmapgl"
           }
          ],
          "histogram": [
           {
            "marker": {
             "pattern": {
              "fillmode": "overlay",
              "size": 10,
              "solidity": 0.2
             }
            },
            "type": "histogram"
           }
          ],
          "histogram2d": [
           {
            "colorbar": {
             "outlinewidth": 0,
             "ticks": ""
            },
            "colorscale": [
             [
              0,
              "#0d0887"
             ],
             [
              0.1111111111111111,
              "#46039f"
             ],
             [
              0.2222222222222222,
              "#7201a8"
             ],
             [
              0.3333333333333333,
              "#9c179e"
             ],
             [
              0.4444444444444444,
              "#bd3786"
             ],
             [
              0.5555555555555556,
              "#d8576b"
             ],
             [
              0.6666666666666666,
              "#ed7953"
             ],
             [
              0.7777777777777778,
              "#fb9f3a"
             ],
             [
              0.8888888888888888,
              "#fdca26"
             ],
             [
              1,
              "#f0f921"
             ]
            ],
            "type": "histogram2d"
           }
          ],
          "histogram2dcontour": [
           {
            "colorbar": {
             "outlinewidth": 0,
             "ticks": ""
            },
            "colorscale": [
             [
              0,
              "#0d0887"
             ],
             [
              0.1111111111111111,
              "#46039f"
             ],
             [
              0.2222222222222222,
              "#7201a8"
             ],
             [
              0.3333333333333333,
              "#9c179e"
             ],
             [
              0.4444444444444444,
              "#bd3786"
             ],
             [
              0.5555555555555556,
              "#d8576b"
             ],
             [
              0.6666666666666666,
              "#ed7953"
             ],
             [
              0.7777777777777778,
              "#fb9f3a"
             ],
             [
              0.8888888888888888,
              "#fdca26"
             ],
             [
              1,
              "#f0f921"
             ]
            ],
            "type": "histogram2dcontour"
           }
          ],
          "mesh3d": [
           {
            "colorbar": {
             "outlinewidth": 0,
             "ticks": ""
            },
            "type": "mesh3d"
           }
          ],
          "parcoords": [
           {
            "line": {
             "colorbar": {
              "outlinewidth": 0,
              "ticks": ""
             }
            },
            "type": "parcoords"
           }
          ],
          "pie": [
           {
            "automargin": true,
            "type": "pie"
           }
          ],
          "scatter": [
           {
            "fillpattern": {
             "fillmode": "overlay",
             "size": 10,
             "solidity": 0.2
            },
            "type": "scatter"
           }
          ],
          "scatter3d": [
           {
            "line": {
             "colorbar": {
              "outlinewidth": 0,
              "ticks": ""
             }
            },
            "marker": {
             "colorbar": {
              "outlinewidth": 0,
              "ticks": ""
             }
            },
            "type": "scatter3d"
           }
          ],
          "scattercarpet": [
           {
            "marker": {
             "colorbar": {
              "outlinewidth": 0,
              "ticks": ""
             }
            },
            "type": "scattercarpet"
           }
          ],
          "scattergeo": [
           {
            "marker": {
             "colorbar": {
              "outlinewidth": 0,
              "ticks": ""
             }
            },
            "type": "scattergeo"
           }
          ],
          "scattergl": [
           {
            "marker": {
             "colorbar": {
              "outlinewidth": 0,
              "ticks": ""
             }
            },
            "type": "scattergl"
           }
          ],
          "scattermapbox": [
           {
            "marker": {
             "colorbar": {
              "outlinewidth": 0,
              "ticks": ""
             }
            },
            "type": "scattermapbox"
           }
          ],
          "scatterpolar": [
           {
            "marker": {
             "colorbar": {
              "outlinewidth": 0,
              "ticks": ""
             }
            },
            "type": "scatterpolar"
           }
          ],
          "scatterpolargl": [
           {
            "marker": {
             "colorbar": {
              "outlinewidth": 0,
              "ticks": ""
             }
            },
            "type": "scatterpolargl"
           }
          ],
          "scatterternary": [
           {
            "marker": {
             "colorbar": {
              "outlinewidth": 0,
              "ticks": ""
             }
            },
            "type": "scatterternary"
           }
          ],
          "surface": [
           {
            "colorbar": {
             "outlinewidth": 0,
             "ticks": ""
            },
            "colorscale": [
             [
              0,
              "#0d0887"
             ],
             [
              0.1111111111111111,
              "#46039f"
             ],
             [
              0.2222222222222222,
              "#7201a8"
             ],
             [
              0.3333333333333333,
              "#9c179e"
             ],
             [
              0.4444444444444444,
              "#bd3786"
             ],
             [
              0.5555555555555556,
              "#d8576b"
             ],
             [
              0.6666666666666666,
              "#ed7953"
             ],
             [
              0.7777777777777778,
              "#fb9f3a"
             ],
             [
              0.8888888888888888,
              "#fdca26"
             ],
             [
              1,
              "#f0f921"
             ]
            ],
            "type": "surface"
           }
          ],
          "table": [
           {
            "cells": {
             "fill": {
              "color": "#EBF0F8"
             },
             "line": {
              "color": "white"
             }
            },
            "header": {
             "fill": {
              "color": "#C8D4E3"
             },
             "line": {
              "color": "white"
             }
            },
            "type": "table"
           }
          ]
         },
         "layout": {
          "annotationdefaults": {
           "arrowcolor": "#2a3f5f",
           "arrowhead": 0,
           "arrowwidth": 1
          },
          "autotypenumbers": "strict",
          "coloraxis": {
           "colorbar": {
            "outlinewidth": 0,
            "ticks": ""
           }
          },
          "colorscale": {
           "diverging": [
            [
             0,
             "#8e0152"
            ],
            [
             0.1,
             "#c51b7d"
            ],
            [
             0.2,
             "#de77ae"
            ],
            [
             0.3,
             "#f1b6da"
            ],
            [
             0.4,
             "#fde0ef"
            ],
            [
             0.5,
             "#f7f7f7"
            ],
            [
             0.6,
             "#e6f5d0"
            ],
            [
             0.7,
             "#b8e186"
            ],
            [
             0.8,
             "#7fbc41"
            ],
            [
             0.9,
             "#4d9221"
            ],
            [
             1,
             "#276419"
            ]
           ],
           "sequential": [
            [
             0,
             "#0d0887"
            ],
            [
             0.1111111111111111,
             "#46039f"
            ],
            [
             0.2222222222222222,
             "#7201a8"
            ],
            [
             0.3333333333333333,
             "#9c179e"
            ],
            [
             0.4444444444444444,
             "#bd3786"
            ],
            [
             0.5555555555555556,
             "#d8576b"
            ],
            [
             0.6666666666666666,
             "#ed7953"
            ],
            [
             0.7777777777777778,
             "#fb9f3a"
            ],
            [
             0.8888888888888888,
             "#fdca26"
            ],
            [
             1,
             "#f0f921"
            ]
           ],
           "sequentialminus": [
            [
             0,
             "#0d0887"
            ],
            [
             0.1111111111111111,
             "#46039f"
            ],
            [
             0.2222222222222222,
             "#7201a8"
            ],
            [
             0.3333333333333333,
             "#9c179e"
            ],
            [
             0.4444444444444444,
             "#bd3786"
            ],
            [
             0.5555555555555556,
             "#d8576b"
            ],
            [
             0.6666666666666666,
             "#ed7953"
            ],
            [
             0.7777777777777778,
             "#fb9f3a"
            ],
            [
             0.8888888888888888,
             "#fdca26"
            ],
            [
             1,
             "#f0f921"
            ]
           ]
          },
          "colorway": [
           "#636efa",
           "#EF553B",
           "#00cc96",
           "#ab63fa",
           "#FFA15A",
           "#19d3f3",
           "#FF6692",
           "#B6E880",
           "#FF97FF",
           "#FECB52"
          ],
          "font": {
           "color": "#2a3f5f"
          },
          "geo": {
           "bgcolor": "white",
           "lakecolor": "white",
           "landcolor": "#E5ECF6",
           "showlakes": true,
           "showland": true,
           "subunitcolor": "white"
          },
          "hoverlabel": {
           "align": "left"
          },
          "hovermode": "closest",
          "mapbox": {
           "style": "light"
          },
          "paper_bgcolor": "white",
          "plot_bgcolor": "#E5ECF6",
          "polar": {
           "angularaxis": {
            "gridcolor": "white",
            "linecolor": "white",
            "ticks": ""
           },
           "bgcolor": "#E5ECF6",
           "radialaxis": {
            "gridcolor": "white",
            "linecolor": "white",
            "ticks": ""
           }
          },
          "scene": {
           "xaxis": {
            "backgroundcolor": "#E5ECF6",
            "gridcolor": "white",
            "gridwidth": 2,
            "linecolor": "white",
            "showbackground": true,
            "ticks": "",
            "zerolinecolor": "white"
           },
           "yaxis": {
            "backgroundcolor": "#E5ECF6",
            "gridcolor": "white",
            "gridwidth": 2,
            "linecolor": "white",
            "showbackground": true,
            "ticks": "",
            "zerolinecolor": "white"
           },
           "zaxis": {
            "backgroundcolor": "#E5ECF6",
            "gridcolor": "white",
            "gridwidth": 2,
            "linecolor": "white",
            "showbackground": true,
            "ticks": "",
            "zerolinecolor": "white"
           }
          },
          "shapedefaults": {
           "line": {
            "color": "#2a3f5f"
           }
          },
          "ternary": {
           "aaxis": {
            "gridcolor": "white",
            "linecolor": "white",
            "ticks": ""
           },
           "baxis": {
            "gridcolor": "white",
            "linecolor": "white",
            "ticks": ""
           },
           "bgcolor": "#E5ECF6",
           "caxis": {
            "gridcolor": "white",
            "linecolor": "white",
            "ticks": ""
           }
          },
          "title": {
           "x": 0.05
          },
          "xaxis": {
           "automargin": true,
           "gridcolor": "white",
           "linecolor": "white",
           "ticks": "",
           "title": {
            "standoff": 15
           },
           "zerolinecolor": "white",
           "zerolinewidth": 2
          },
          "yaxis": {
           "automargin": true,
           "gridcolor": "white",
           "linecolor": "white",
           "ticks": "",
           "title": {
            "standoff": 15
           },
           "zerolinecolor": "white",
           "zerolinewidth": 2
          }
         }
        },
        "width": 800,
        "xaxis": {
         "range": [
          -90,
          90
         ],
         "title": {
          "text": "b"
         }
        },
        "yaxis": {
         "range": [
          -90,
          90
         ],
         "title": {
          "text": "L"
         }
        }
       }
      }
     },
     "metadata": {},
     "output_type": "display_data"
    }
   ],
   "source": [
    "Plot_bL(Lab_,rgbdata_)"
   ]
  },
  {
   "cell_type": "markdown",
   "metadata": {},
   "source": [
    "## <center>  Graficos para todos los datos"
   ]
  },
  {
   "cell_type": "code",
   "execution_count": 41,
   "metadata": {},
   "outputs": [
    {
     "data": {
      "application/vnd.plotly.v1+json": {
       "config": {
        "plotlyServerURL": "https://plot.ly"
       },
       "data": [
        {
         "customdata": [
          [
           78.61635377289794,
           -5.404926028333097,
           6.642080528175142
          ],
          [
           89.54482141900962,
           -5.762748446942495,
           6.609934125829415
          ],
          [
           64.30847104608407,
           -2.1542377646850737,
           3.9670892044032953
          ],
          [
           67.12196362980845,
           -2.5039280794878334,
           4.41791618203145
          ],
          [
           53.99484105949686,
           -0.8300901207516634,
           2.273064475173341
          ]
         ],
         "hovertemplate": "<b>L</b>: %{customdata[0]}<br><b>a</b>: %{customdata[1]}<br><b>b</b>: %{customdata[2]:.2f}<extra></extra>",
         "marker": {
          "color": [
           "rgb(131,143,117)",
           "rgb(181,198,166)",
           "rgb(85,87,76)",
           "rgb(92,95,83)",
           "rgb(58,58,53)"
          ],
          "opacity": 1,
          "size": 6
         },
         "mode": "markers",
         "showlegend": false,
         "type": "scatter",
         "x": [
          -5.404926028333097,
          -5.762748446942495,
          -2.1542377646850737,
          -2.5039280794878334,
          -0.8300901207516634
         ],
         "y": [
          6.642080528175142,
          6.609934125829415,
          3.9670892044032953,
          4.41791618203145,
          2.273064475173341
         ]
        },
        {
         "line": {
          "color": "black",
          "width": 1
         },
         "mode": "lines",
         "showlegend": false,
         "type": "scatter",
         "x": [
          0,
          0
         ],
         "y": [
          -90,
          90
         ]
        },
        {
         "line": {
          "color": "black",
          "width": 1
         },
         "mode": "lines",
         "showlegend": false,
         "type": "scatter",
         "x": [
          -90,
          90
         ],
         "y": [
          0,
          0
         ]
        },
        {
         "line": {
          "color": "rgba(128, 128, 128, 0.5)",
          "dash": "dot",
          "width": 1
         },
         "mode": "lines",
         "showlegend": false,
         "type": "scatter",
         "x": [
          0,
          90
         ],
         "y": [
          0,
          0
         ]
        },
        {
         "line": {
          "color": "rgba(128, 128, 128, 0.5)",
          "dash": "dot",
          "width": 1
         },
         "mode": "lines",
         "showlegend": false,
         "type": "scatter",
         "x": [
          0,
          88.63269777109872
         ],
         "y": [
          0,
          15.62833599002373
         ]
        },
        {
         "line": {
          "color": "rgba(128, 128, 128, 0.5)",
          "dash": "dot",
          "width": 1
         },
         "mode": "lines",
         "showlegend": false,
         "type": "scatter",
         "x": [
          0,
          84.57233587073176
         ],
         "y": [
          0,
          30.781812899310186
         ]
        },
        {
         "line": {
          "color": "rgba(128, 128, 128, 0.5)",
          "dash": "dot",
          "width": 1
         },
         "mode": "lines",
         "showlegend": false,
         "type": "scatter",
         "x": [
          0,
          77.94228634059948
         ],
         "y": [
          0,
          44.99999999999999
         ]
        },
        {
         "line": {
          "color": "rgba(128, 128, 128, 0.5)",
          "dash": "dot",
          "width": 1
         },
         "mode": "lines",
         "showlegend": false,
         "type": "scatter",
         "x": [
          0,
          68.94399988070802
         ],
         "y": [
          0,
          57.85088487178853
         ]
        },
        {
         "line": {
          "color": "rgba(128, 128, 128, 0.5)",
          "dash": "dot",
          "width": 1
         },
         "mode": "lines",
         "showlegend": false,
         "type": "scatter",
         "x": [
          0,
          57.850884871788544
         ],
         "y": [
          0,
          68.94399988070802
         ]
        },
        {
         "line": {
          "color": "rgba(128, 128, 128, 0.5)",
          "dash": "dot",
          "width": 1
         },
         "mode": "lines",
         "showlegend": false,
         "type": "scatter",
         "x": [
          0,
          45.00000000000001
         ],
         "y": [
          0,
          77.94228634059948
         ]
        },
        {
         "line": {
          "color": "rgba(128, 128, 128, 0.5)",
          "dash": "dot",
          "width": 1
         },
         "mode": "lines",
         "showlegend": false,
         "type": "scatter",
         "x": [
          0,
          30.781812899310193
         ],
         "y": [
          0,
          84.57233587073175
         ]
        },
        {
         "line": {
          "color": "rgba(128, 128, 128, 0.5)",
          "dash": "dot",
          "width": 1
         },
         "mode": "lines",
         "showlegend": false,
         "type": "scatter",
         "x": [
          0,
          15.628335990023738
         ],
         "y": [
          0,
          88.63269777109872
         ]
        },
        {
         "line": {
          "color": "rgba(128, 128, 128, 0.5)",
          "dash": "dot",
          "width": 1
         },
         "mode": "lines",
         "showlegend": false,
         "type": "scatter",
         "x": [
          0,
          5.5109105961630896e-15
         ],
         "y": [
          0,
          90
         ]
        },
        {
         "line": {
          "color": "rgba(128, 128, 128, 0.5)",
          "dash": "dot",
          "width": 1
         },
         "mode": "lines",
         "showlegend": false,
         "type": "scatter",
         "x": [
          0,
          -15.628335990023727
         ],
         "y": [
          0,
          88.63269777109872
         ]
        },
        {
         "line": {
          "color": "rgba(128, 128, 128, 0.5)",
          "dash": "dot",
          "width": 1
         },
         "mode": "lines",
         "showlegend": false,
         "type": "scatter",
         "x": [
          0,
          -30.781812899310186
         ],
         "y": [
          0,
          84.57233587073176
         ]
        },
        {
         "line": {
          "color": "rgba(128, 128, 128, 0.5)",
          "dash": "dot",
          "width": 1
         },
         "mode": "lines",
         "showlegend": false,
         "type": "scatter",
         "x": [
          0,
          -44.99999999999998
         ],
         "y": [
          0,
          77.94228634059948
         ]
        },
        {
         "line": {
          "color": "rgba(128, 128, 128, 0.5)",
          "dash": "dot",
          "width": 1
         },
         "mode": "lines",
         "showlegend": false,
         "type": "scatter",
         "x": [
          0,
          -57.850884871788544
         ],
         "y": [
          0,
          68.94399988070802
         ]
        },
        {
         "line": {
          "color": "rgba(128, 128, 128, 0.5)",
          "dash": "dot",
          "width": 1
         },
         "mode": "lines",
         "showlegend": false,
         "type": "scatter",
         "x": [
          0,
          -68.943999880708
         ],
         "y": [
          0,
          57.85088487178855
         ]
        },
        {
         "line": {
          "color": "rgba(128, 128, 128, 0.5)",
          "dash": "dot",
          "width": 1
         },
         "mode": "lines",
         "showlegend": false,
         "type": "scatter",
         "x": [
          0,
          -77.94228634059948
         ],
         "y": [
          0,
          44.99999999999999
         ]
        },
        {
         "line": {
          "color": "rgba(128, 128, 128, 0.5)",
          "dash": "dot",
          "width": 1
         },
         "mode": "lines",
         "showlegend": false,
         "type": "scatter",
         "x": [
          0,
          -84.57233587073175
         ],
         "y": [
          0,
          30.7818128993102
         ]
        },
        {
         "line": {
          "color": "rgba(128, 128, 128, 0.5)",
          "dash": "dot",
          "width": 1
         },
         "mode": "lines",
         "showlegend": false,
         "type": "scatter",
         "x": [
          0,
          -88.63269777109872
         ],
         "y": [
          0,
          15.628335990023762
         ]
        },
        {
         "line": {
          "color": "rgba(128, 128, 128, 0.5)",
          "dash": "dot",
          "width": 1
         },
         "mode": "lines",
         "showlegend": false,
         "type": "scatter",
         "x": [
          0,
          -90
         ],
         "y": [
          0,
          1.1021821192326179e-14
         ]
        },
        {
         "line": {
          "color": "rgba(128, 128, 128, 0.5)",
          "dash": "dot",
          "width": 1
         },
         "mode": "lines",
         "showlegend": false,
         "type": "scatter",
         "x": [
          0,
          -88.63269777109873
         ],
         "y": [
          0,
          -15.628335990023702
         ]
        },
        {
         "line": {
          "color": "rgba(128, 128, 128, 0.5)",
          "dash": "dot",
          "width": 1
         },
         "mode": "lines",
         "showlegend": false,
         "type": "scatter",
         "x": [
          0,
          -84.57233587073176
         ],
         "y": [
          0,
          -30.78181289931018
         ]
        },
        {
         "line": {
          "color": "rgba(128, 128, 128, 0.5)",
          "dash": "dot",
          "width": 1
         },
         "mode": "lines",
         "showlegend": false,
         "type": "scatter",
         "x": [
          0,
          -77.9422863405995
         ],
         "y": [
          0,
          -44.99999999999997
         ]
        },
        {
         "line": {
          "color": "rgba(128, 128, 128, 0.5)",
          "dash": "dot",
          "width": 1
         },
         "mode": "lines",
         "showlegend": false,
         "type": "scatter",
         "x": [
          0,
          -68.94399988070802
         ],
         "y": [
          0,
          -57.85088487178853
         ]
        },
        {
         "line": {
          "color": "rgba(128, 128, 128, 0.5)",
          "dash": "dot",
          "width": 1
         },
         "mode": "lines",
         "showlegend": false,
         "type": "scatter",
         "x": [
          0,
          -57.85088487178855
         ],
         "y": [
          0,
          -68.943999880708
         ]
        },
        {
         "line": {
          "color": "rgba(128, 128, 128, 0.5)",
          "dash": "dot",
          "width": 1
         },
         "mode": "lines",
         "showlegend": false,
         "type": "scatter",
         "x": [
          0,
          -45.00000000000004
         ],
         "y": [
          0,
          -77.94228634059947
         ]
        },
        {
         "line": {
          "color": "rgba(128, 128, 128, 0.5)",
          "dash": "dot",
          "width": 1
         },
         "mode": "lines",
         "showlegend": false,
         "type": "scatter",
         "x": [
          0,
          -30.781812899310243
         ],
         "y": [
          0,
          -84.57233587073173
         ]
        },
        {
         "line": {
          "color": "rgba(128, 128, 128, 0.5)",
          "dash": "dot",
          "width": 1
         },
         "mode": "lines",
         "showlegend": false,
         "type": "scatter",
         "x": [
          0,
          -15.62833599002373
         ],
         "y": [
          0,
          -88.63269777109872
         ]
        },
        {
         "line": {
          "color": "rgba(128, 128, 128, 0.5)",
          "dash": "dot",
          "width": 1
         },
         "mode": "lines",
         "showlegend": false,
         "type": "scatter",
         "x": [
          0,
          -1.6532731788489267e-14
         ],
         "y": [
          0,
          -90
         ]
        },
        {
         "line": {
          "color": "rgba(128, 128, 128, 0.5)",
          "dash": "dot",
          "width": 1
         },
         "mode": "lines",
         "showlegend": false,
         "type": "scatter",
         "x": [
          0,
          15.628335990023697
         ],
         "y": [
          0,
          -88.63269777109873
         ]
        },
        {
         "line": {
          "color": "rgba(128, 128, 128, 0.5)",
          "dash": "dot",
          "width": 1
         },
         "mode": "lines",
         "showlegend": false,
         "type": "scatter",
         "x": [
          0,
          30.781812899310133
         ],
         "y": [
          0,
          -84.57233587073176
         ]
        },
        {
         "line": {
          "color": "rgba(128, 128, 128, 0.5)",
          "dash": "dot",
          "width": 1
         },
         "mode": "lines",
         "showlegend": false,
         "type": "scatter",
         "x": [
          0,
          45.00000000000001
         ],
         "y": [
          0,
          -77.94228634059948
         ]
        },
        {
         "line": {
          "color": "rgba(128, 128, 128, 0.5)",
          "dash": "dot",
          "width": 1
         },
         "mode": "lines",
         "showlegend": false,
         "type": "scatter",
         "x": [
          0,
          57.85088487178853
         ],
         "y": [
          0,
          -68.94399988070803
         ]
        },
        {
         "line": {
          "color": "rgba(128, 128, 128, 0.5)",
          "dash": "dot",
          "width": 1
         },
         "mode": "lines",
         "showlegend": false,
         "type": "scatter",
         "x": [
          0,
          68.943999880708
         ],
         "y": [
          0,
          -57.850884871788566
         ]
        },
        {
         "line": {
          "color": "rgba(128, 128, 128, 0.5)",
          "dash": "dot",
          "width": 1
         },
         "mode": "lines",
         "showlegend": false,
         "type": "scatter",
         "x": [
          0,
          77.94228634059945
         ],
         "y": [
          0,
          -45.00000000000004
         ]
        },
        {
         "line": {
          "color": "rgba(128, 128, 128, 0.5)",
          "dash": "dot",
          "width": 1
         },
         "mode": "lines",
         "showlegend": false,
         "type": "scatter",
         "x": [
          0,
          84.57233587073173
         ],
         "y": [
          0,
          -30.78181289931025
         ]
        },
        {
         "line": {
          "color": "rgba(128, 128, 128, 0.5)",
          "dash": "dot",
          "width": 1
         },
         "mode": "lines",
         "showlegend": false,
         "type": "scatter",
         "x": [
          0,
          88.63269777109872
         ],
         "y": [
          0,
          -15.628335990023734
         ]
        }
       ],
       "layout": {
        "autosize": false,
        "height": 800,
        "shapes": [
         {
          "line": {
           "color": "black",
           "dash": "dash",
           "width": 2
          },
          "type": "circle",
          "x0": -90,
          "x1": 90,
          "xref": "x",
          "y0": -90,
          "y1": 90,
          "yref": "y"
         }
        ],
        "template": {
         "data": {
          "bar": [
           {
            "error_x": {
             "color": "#2a3f5f"
            },
            "error_y": {
             "color": "#2a3f5f"
            },
            "marker": {
             "line": {
              "color": "#E5ECF6",
              "width": 0.5
             },
             "pattern": {
              "fillmode": "overlay",
              "size": 10,
              "solidity": 0.2
             }
            },
            "type": "bar"
           }
          ],
          "barpolar": [
           {
            "marker": {
             "line": {
              "color": "#E5ECF6",
              "width": 0.5
             },
             "pattern": {
              "fillmode": "overlay",
              "size": 10,
              "solidity": 0.2
             }
            },
            "type": "barpolar"
           }
          ],
          "carpet": [
           {
            "aaxis": {
             "endlinecolor": "#2a3f5f",
             "gridcolor": "white",
             "linecolor": "white",
             "minorgridcolor": "white",
             "startlinecolor": "#2a3f5f"
            },
            "baxis": {
             "endlinecolor": "#2a3f5f",
             "gridcolor": "white",
             "linecolor": "white",
             "minorgridcolor": "white",
             "startlinecolor": "#2a3f5f"
            },
            "type": "carpet"
           }
          ],
          "choropleth": [
           {
            "colorbar": {
             "outlinewidth": 0,
             "ticks": ""
            },
            "type": "choropleth"
           }
          ],
          "contour": [
           {
            "colorbar": {
             "outlinewidth": 0,
             "ticks": ""
            },
            "colorscale": [
             [
              0,
              "#0d0887"
             ],
             [
              0.1111111111111111,
              "#46039f"
             ],
             [
              0.2222222222222222,
              "#7201a8"
             ],
             [
              0.3333333333333333,
              "#9c179e"
             ],
             [
              0.4444444444444444,
              "#bd3786"
             ],
             [
              0.5555555555555556,
              "#d8576b"
             ],
             [
              0.6666666666666666,
              "#ed7953"
             ],
             [
              0.7777777777777778,
              "#fb9f3a"
             ],
             [
              0.8888888888888888,
              "#fdca26"
             ],
             [
              1,
              "#f0f921"
             ]
            ],
            "type": "contour"
           }
          ],
          "contourcarpet": [
           {
            "colorbar": {
             "outlinewidth": 0,
             "ticks": ""
            },
            "type": "contourcarpet"
           }
          ],
          "heatmap": [
           {
            "colorbar": {
             "outlinewidth": 0,
             "ticks": ""
            },
            "colorscale": [
             [
              0,
              "#0d0887"
             ],
             [
              0.1111111111111111,
              "#46039f"
             ],
             [
              0.2222222222222222,
              "#7201a8"
             ],
             [
              0.3333333333333333,
              "#9c179e"
             ],
             [
              0.4444444444444444,
              "#bd3786"
             ],
             [
              0.5555555555555556,
              "#d8576b"
             ],
             [
              0.6666666666666666,
              "#ed7953"
             ],
             [
              0.7777777777777778,
              "#fb9f3a"
             ],
             [
              0.8888888888888888,
              "#fdca26"
             ],
             [
              1,
              "#f0f921"
             ]
            ],
            "type": "heatmap"
           }
          ],
          "heatmapgl": [
           {
            "colorbar": {
             "outlinewidth": 0,
             "ticks": ""
            },
            "colorscale": [
             [
              0,
              "#0d0887"
             ],
             [
              0.1111111111111111,
              "#46039f"
             ],
             [
              0.2222222222222222,
              "#7201a8"
             ],
             [
              0.3333333333333333,
              "#9c179e"
             ],
             [
              0.4444444444444444,
              "#bd3786"
             ],
             [
              0.5555555555555556,
              "#d8576b"
             ],
             [
              0.6666666666666666,
              "#ed7953"
             ],
             [
              0.7777777777777778,
              "#fb9f3a"
             ],
             [
              0.8888888888888888,
              "#fdca26"
             ],
             [
              1,
              "#f0f921"
             ]
            ],
            "type": "heatmapgl"
           }
          ],
          "histogram": [
           {
            "marker": {
             "pattern": {
              "fillmode": "overlay",
              "size": 10,
              "solidity": 0.2
             }
            },
            "type": "histogram"
           }
          ],
          "histogram2d": [
           {
            "colorbar": {
             "outlinewidth": 0,
             "ticks": ""
            },
            "colorscale": [
             [
              0,
              "#0d0887"
             ],
             [
              0.1111111111111111,
              "#46039f"
             ],
             [
              0.2222222222222222,
              "#7201a8"
             ],
             [
              0.3333333333333333,
              "#9c179e"
             ],
             [
              0.4444444444444444,
              "#bd3786"
             ],
             [
              0.5555555555555556,
              "#d8576b"
             ],
             [
              0.6666666666666666,
              "#ed7953"
             ],
             [
              0.7777777777777778,
              "#fb9f3a"
             ],
             [
              0.8888888888888888,
              "#fdca26"
             ],
             [
              1,
              "#f0f921"
             ]
            ],
            "type": "histogram2d"
           }
          ],
          "histogram2dcontour": [
           {
            "colorbar": {
             "outlinewidth": 0,
             "ticks": ""
            },
            "colorscale": [
             [
              0,
              "#0d0887"
             ],
             [
              0.1111111111111111,
              "#46039f"
             ],
             [
              0.2222222222222222,
              "#7201a8"
             ],
             [
              0.3333333333333333,
              "#9c179e"
             ],
             [
              0.4444444444444444,
              "#bd3786"
             ],
             [
              0.5555555555555556,
              "#d8576b"
             ],
             [
              0.6666666666666666,
              "#ed7953"
             ],
             [
              0.7777777777777778,
              "#fb9f3a"
             ],
             [
              0.8888888888888888,
              "#fdca26"
             ],
             [
              1,
              "#f0f921"
             ]
            ],
            "type": "histogram2dcontour"
           }
          ],
          "mesh3d": [
           {
            "colorbar": {
             "outlinewidth": 0,
             "ticks": ""
            },
            "type": "mesh3d"
           }
          ],
          "parcoords": [
           {
            "line": {
             "colorbar": {
              "outlinewidth": 0,
              "ticks": ""
             }
            },
            "type": "parcoords"
           }
          ],
          "pie": [
           {
            "automargin": true,
            "type": "pie"
           }
          ],
          "scatter": [
           {
            "fillpattern": {
             "fillmode": "overlay",
             "size": 10,
             "solidity": 0.2
            },
            "type": "scatter"
           }
          ],
          "scatter3d": [
           {
            "line": {
             "colorbar": {
              "outlinewidth": 0,
              "ticks": ""
             }
            },
            "marker": {
             "colorbar": {
              "outlinewidth": 0,
              "ticks": ""
             }
            },
            "type": "scatter3d"
           }
          ],
          "scattercarpet": [
           {
            "marker": {
             "colorbar": {
              "outlinewidth": 0,
              "ticks": ""
             }
            },
            "type": "scattercarpet"
           }
          ],
          "scattergeo": [
           {
            "marker": {
             "colorbar": {
              "outlinewidth": 0,
              "ticks": ""
             }
            },
            "type": "scattergeo"
           }
          ],
          "scattergl": [
           {
            "marker": {
             "colorbar": {
              "outlinewidth": 0,
              "ticks": ""
             }
            },
            "type": "scattergl"
           }
          ],
          "scattermapbox": [
           {
            "marker": {
             "colorbar": {
              "outlinewidth": 0,
              "ticks": ""
             }
            },
            "type": "scattermapbox"
           }
          ],
          "scatterpolar": [
           {
            "marker": {
             "colorbar": {
              "outlinewidth": 0,
              "ticks": ""
             }
            },
            "type": "scatterpolar"
           }
          ],
          "scatterpolargl": [
           {
            "marker": {
             "colorbar": {
              "outlinewidth": 0,
              "ticks": ""
             }
            },
            "type": "scatterpolargl"
           }
          ],
          "scatterternary": [
           {
            "marker": {
             "colorbar": {
              "outlinewidth": 0,
              "ticks": ""
             }
            },
            "type": "scatterternary"
           }
          ],
          "surface": [
           {
            "colorbar": {
             "outlinewidth": 0,
             "ticks": ""
            },
            "colorscale": [
             [
              0,
              "#0d0887"
             ],
             [
              0.1111111111111111,
              "#46039f"
             ],
             [
              0.2222222222222222,
              "#7201a8"
             ],
             [
              0.3333333333333333,
              "#9c179e"
             ],
             [
              0.4444444444444444,
              "#bd3786"
             ],
             [
              0.5555555555555556,
              "#d8576b"
             ],
             [
              0.6666666666666666,
              "#ed7953"
             ],
             [
              0.7777777777777778,
              "#fb9f3a"
             ],
             [
              0.8888888888888888,
              "#fdca26"
             ],
             [
              1,
              "#f0f921"
             ]
            ],
            "type": "surface"
           }
          ],
          "table": [
           {
            "cells": {
             "fill": {
              "color": "#EBF0F8"
             },
             "line": {
              "color": "white"
             }
            },
            "header": {
             "fill": {
              "color": "#C8D4E3"
             },
             "line": {
              "color": "white"
             }
            },
            "type": "table"
           }
          ]
         },
         "layout": {
          "annotationdefaults": {
           "arrowcolor": "#2a3f5f",
           "arrowhead": 0,
           "arrowwidth": 1
          },
          "autotypenumbers": "strict",
          "coloraxis": {
           "colorbar": {
            "outlinewidth": 0,
            "ticks": ""
           }
          },
          "colorscale": {
           "diverging": [
            [
             0,
             "#8e0152"
            ],
            [
             0.1,
             "#c51b7d"
            ],
            [
             0.2,
             "#de77ae"
            ],
            [
             0.3,
             "#f1b6da"
            ],
            [
             0.4,
             "#fde0ef"
            ],
            [
             0.5,
             "#f7f7f7"
            ],
            [
             0.6,
             "#e6f5d0"
            ],
            [
             0.7,
             "#b8e186"
            ],
            [
             0.8,
             "#7fbc41"
            ],
            [
             0.9,
             "#4d9221"
            ],
            [
             1,
             "#276419"
            ]
           ],
           "sequential": [
            [
             0,
             "#0d0887"
            ],
            [
             0.1111111111111111,
             "#46039f"
            ],
            [
             0.2222222222222222,
             "#7201a8"
            ],
            [
             0.3333333333333333,
             "#9c179e"
            ],
            [
             0.4444444444444444,
             "#bd3786"
            ],
            [
             0.5555555555555556,
             "#d8576b"
            ],
            [
             0.6666666666666666,
             "#ed7953"
            ],
            [
             0.7777777777777778,
             "#fb9f3a"
            ],
            [
             0.8888888888888888,
             "#fdca26"
            ],
            [
             1,
             "#f0f921"
            ]
           ],
           "sequentialminus": [
            [
             0,
             "#0d0887"
            ],
            [
             0.1111111111111111,
             "#46039f"
            ],
            [
             0.2222222222222222,
             "#7201a8"
            ],
            [
             0.3333333333333333,
             "#9c179e"
            ],
            [
             0.4444444444444444,
             "#bd3786"
            ],
            [
             0.5555555555555556,
             "#d8576b"
            ],
            [
             0.6666666666666666,
             "#ed7953"
            ],
            [
             0.7777777777777778,
             "#fb9f3a"
            ],
            [
             0.8888888888888888,
             "#fdca26"
            ],
            [
             1,
             "#f0f921"
            ]
           ]
          },
          "colorway": [
           "#636efa",
           "#EF553B",
           "#00cc96",
           "#ab63fa",
           "#FFA15A",
           "#19d3f3",
           "#FF6692",
           "#B6E880",
           "#FF97FF",
           "#FECB52"
          ],
          "font": {
           "color": "#2a3f5f"
          },
          "geo": {
           "bgcolor": "white",
           "lakecolor": "white",
           "landcolor": "#E5ECF6",
           "showlakes": true,
           "showland": true,
           "subunitcolor": "white"
          },
          "hoverlabel": {
           "align": "left"
          },
          "hovermode": "closest",
          "mapbox": {
           "style": "light"
          },
          "paper_bgcolor": "white",
          "plot_bgcolor": "#E5ECF6",
          "polar": {
           "angularaxis": {
            "gridcolor": "white",
            "linecolor": "white",
            "ticks": ""
           },
           "bgcolor": "#E5ECF6",
           "radialaxis": {
            "gridcolor": "white",
            "linecolor": "white",
            "ticks": ""
           }
          },
          "scene": {
           "xaxis": {
            "backgroundcolor": "#E5ECF6",
            "gridcolor": "white",
            "gridwidth": 2,
            "linecolor": "white",
            "showbackground": true,
            "ticks": "",
            "zerolinecolor": "white"
           },
           "yaxis": {
            "backgroundcolor": "#E5ECF6",
            "gridcolor": "white",
            "gridwidth": 2,
            "linecolor": "white",
            "showbackground": true,
            "ticks": "",
            "zerolinecolor": "white"
           },
           "zaxis": {
            "backgroundcolor": "#E5ECF6",
            "gridcolor": "white",
            "gridwidth": 2,
            "linecolor": "white",
            "showbackground": true,
            "ticks": "",
            "zerolinecolor": "white"
           }
          },
          "shapedefaults": {
           "line": {
            "color": "#2a3f5f"
           }
          },
          "ternary": {
           "aaxis": {
            "gridcolor": "white",
            "linecolor": "white",
            "ticks": ""
           },
           "baxis": {
            "gridcolor": "white",
            "linecolor": "white",
            "ticks": ""
           },
           "bgcolor": "#E5ECF6",
           "caxis": {
            "gridcolor": "white",
            "linecolor": "white",
            "ticks": ""
           }
          },
          "title": {
           "x": 0.05
          },
          "xaxis": {
           "automargin": true,
           "gridcolor": "white",
           "linecolor": "white",
           "ticks": "",
           "title": {
            "standoff": 15
           },
           "zerolinecolor": "white",
           "zerolinewidth": 2
          },
          "yaxis": {
           "automargin": true,
           "gridcolor": "white",
           "linecolor": "white",
           "ticks": "",
           "title": {
            "standoff": 15
           },
           "zerolinecolor": "white",
           "zerolinewidth": 2
          }
         }
        },
        "width": 800,
        "xaxis": {
         "range": [
          -90,
          90
         ],
         "title": {
          "text": "a"
         }
        },
        "yaxis": {
         "range": [
          -90,
          90
         ],
         "title": {
          "text": "b"
         }
        }
       }
      }
     },
     "metadata": {},
     "output_type": "display_data"
    }
   ],
   "source": [
    "Plot_ab(np.concatenate((Lab,Lab_)),np.concatenate((rgbdata,rgbdata_)))"
   ]
  },
  {
   "cell_type": "code",
   "execution_count": 49,
   "metadata": {},
   "outputs": [
    {
     "data": {
      "application/vnd.plotly.v1+json": {
       "config": {
        "plotlyServerURL": "https://plot.ly"
       },
       "data": [
        {
         "customdata": [
          [
           78.61635377289794,
           -5.404926028333097,
           6.642080528175142
          ],
          [
           89.54482141900962,
           -5.762748446942495,
           6.609934125829415
          ],
          [
           64.30847104608407,
           -2.1542377646850737,
           3.9670892044032953
          ],
          [
           67.12196362980845,
           -2.5039280794878334,
           4.41791618203145
          ],
          [
           53.99484105949686,
           -0.8300901207516634,
           2.273064475173341
          ]
         ],
         "hovertemplate": "<b>L</b>: %{customdata[0]}<br><b>a</b>: %{customdata[1]}<br><b>b</b>: %{customdata[2]:.2f}<extra></extra>",
         "marker": {
          "color": [
           "rgb(131,143,117)",
           "rgb(181,198,166)",
           "rgb(85,87,76)",
           "rgb(92,95,83)",
           "rgb(58,58,53)"
          ],
          "opacity": 1,
          "size": 6
         },
         "mode": "markers",
         "showlegend": false,
         "type": "scatter",
         "x": [
          -5.404926028333097,
          -5.762748446942495,
          -2.1542377646850737,
          -2.5039280794878334,
          -0.8300901207516634
         ],
         "y": [
          78.61635377289794,
          89.54482141900962,
          64.30847104608407,
          67.12196362980845,
          53.99484105949686
         ]
        },
        {
         "line": {
          "color": "black",
          "width": 1
         },
         "mode": "lines",
         "showlegend": false,
         "type": "scatter",
         "x": [
          0,
          0
         ],
         "y": [
          -90,
          90
         ]
        },
        {
         "line": {
          "color": "black",
          "width": 1
         },
         "mode": "lines",
         "showlegend": false,
         "type": "scatter",
         "x": [
          -90,
          90
         ],
         "y": [
          0,
          0
         ]
        },
        {
         "line": {
          "color": "rgba(128, 128, 128, 0.5)",
          "dash": "dot",
          "width": 1
         },
         "mode": "lines",
         "showlegend": false,
         "type": "scatter",
         "x": [
          0,
          90
         ],
         "y": [
          0,
          0
         ]
        },
        {
         "line": {
          "color": "rgba(128, 128, 128, 0.5)",
          "dash": "dot",
          "width": 1
         },
         "mode": "lines",
         "showlegend": false,
         "type": "scatter",
         "x": [
          0,
          88.63269777109872
         ],
         "y": [
          0,
          15.62833599002373
         ]
        },
        {
         "line": {
          "color": "rgba(128, 128, 128, 0.5)",
          "dash": "dot",
          "width": 1
         },
         "mode": "lines",
         "showlegend": false,
         "type": "scatter",
         "x": [
          0,
          84.57233587073176
         ],
         "y": [
          0,
          30.781812899310186
         ]
        },
        {
         "line": {
          "color": "rgba(128, 128, 128, 0.5)",
          "dash": "dot",
          "width": 1
         },
         "mode": "lines",
         "showlegend": false,
         "type": "scatter",
         "x": [
          0,
          77.94228634059948
         ],
         "y": [
          0,
          44.99999999999999
         ]
        },
        {
         "line": {
          "color": "rgba(128, 128, 128, 0.5)",
          "dash": "dot",
          "width": 1
         },
         "mode": "lines",
         "showlegend": false,
         "type": "scatter",
         "x": [
          0,
          68.94399988070802
         ],
         "y": [
          0,
          57.85088487178853
         ]
        },
        {
         "line": {
          "color": "rgba(128, 128, 128, 0.5)",
          "dash": "dot",
          "width": 1
         },
         "mode": "lines",
         "showlegend": false,
         "type": "scatter",
         "x": [
          0,
          57.850884871788544
         ],
         "y": [
          0,
          68.94399988070802
         ]
        },
        {
         "line": {
          "color": "rgba(128, 128, 128, 0.5)",
          "dash": "dot",
          "width": 1
         },
         "mode": "lines",
         "showlegend": false,
         "type": "scatter",
         "x": [
          0,
          45.00000000000001
         ],
         "y": [
          0,
          77.94228634059948
         ]
        },
        {
         "line": {
          "color": "rgba(128, 128, 128, 0.5)",
          "dash": "dot",
          "width": 1
         },
         "mode": "lines",
         "showlegend": false,
         "type": "scatter",
         "x": [
          0,
          30.781812899310193
         ],
         "y": [
          0,
          84.57233587073175
         ]
        },
        {
         "line": {
          "color": "rgba(128, 128, 128, 0.5)",
          "dash": "dot",
          "width": 1
         },
         "mode": "lines",
         "showlegend": false,
         "type": "scatter",
         "x": [
          0,
          15.628335990023738
         ],
         "y": [
          0,
          88.63269777109872
         ]
        },
        {
         "line": {
          "color": "rgba(128, 128, 128, 0.5)",
          "dash": "dot",
          "width": 1
         },
         "mode": "lines",
         "showlegend": false,
         "type": "scatter",
         "x": [
          0,
          5.5109105961630896e-15
         ],
         "y": [
          0,
          90
         ]
        },
        {
         "line": {
          "color": "rgba(128, 128, 128, 0.5)",
          "dash": "dot",
          "width": 1
         },
         "mode": "lines",
         "showlegend": false,
         "type": "scatter",
         "x": [
          0,
          -15.628335990023727
         ],
         "y": [
          0,
          88.63269777109872
         ]
        },
        {
         "line": {
          "color": "rgba(128, 128, 128, 0.5)",
          "dash": "dot",
          "width": 1
         },
         "mode": "lines",
         "showlegend": false,
         "type": "scatter",
         "x": [
          0,
          -30.781812899310186
         ],
         "y": [
          0,
          84.57233587073176
         ]
        },
        {
         "line": {
          "color": "rgba(128, 128, 128, 0.5)",
          "dash": "dot",
          "width": 1
         },
         "mode": "lines",
         "showlegend": false,
         "type": "scatter",
         "x": [
          0,
          -44.99999999999998
         ],
         "y": [
          0,
          77.94228634059948
         ]
        },
        {
         "line": {
          "color": "rgba(128, 128, 128, 0.5)",
          "dash": "dot",
          "width": 1
         },
         "mode": "lines",
         "showlegend": false,
         "type": "scatter",
         "x": [
          0,
          -57.850884871788544
         ],
         "y": [
          0,
          68.94399988070802
         ]
        },
        {
         "line": {
          "color": "rgba(128, 128, 128, 0.5)",
          "dash": "dot",
          "width": 1
         },
         "mode": "lines",
         "showlegend": false,
         "type": "scatter",
         "x": [
          0,
          -68.943999880708
         ],
         "y": [
          0,
          57.85088487178855
         ]
        },
        {
         "line": {
          "color": "rgba(128, 128, 128, 0.5)",
          "dash": "dot",
          "width": 1
         },
         "mode": "lines",
         "showlegend": false,
         "type": "scatter",
         "x": [
          0,
          -77.94228634059948
         ],
         "y": [
          0,
          44.99999999999999
         ]
        },
        {
         "line": {
          "color": "rgba(128, 128, 128, 0.5)",
          "dash": "dot",
          "width": 1
         },
         "mode": "lines",
         "showlegend": false,
         "type": "scatter",
         "x": [
          0,
          -84.57233587073175
         ],
         "y": [
          0,
          30.7818128993102
         ]
        },
        {
         "line": {
          "color": "rgba(128, 128, 128, 0.5)",
          "dash": "dot",
          "width": 1
         },
         "mode": "lines",
         "showlegend": false,
         "type": "scatter",
         "x": [
          0,
          -88.63269777109872
         ],
         "y": [
          0,
          15.628335990023762
         ]
        },
        {
         "line": {
          "color": "rgba(128, 128, 128, 0.5)",
          "dash": "dot",
          "width": 1
         },
         "mode": "lines",
         "showlegend": false,
         "type": "scatter",
         "x": [
          0,
          -90
         ],
         "y": [
          0,
          1.1021821192326179e-14
         ]
        },
        {
         "line": {
          "color": "rgba(128, 128, 128, 0.5)",
          "dash": "dot",
          "width": 1
         },
         "mode": "lines",
         "showlegend": false,
         "type": "scatter",
         "x": [
          0,
          -88.63269777109873
         ],
         "y": [
          0,
          -15.628335990023702
         ]
        },
        {
         "line": {
          "color": "rgba(128, 128, 128, 0.5)",
          "dash": "dot",
          "width": 1
         },
         "mode": "lines",
         "showlegend": false,
         "type": "scatter",
         "x": [
          0,
          -84.57233587073176
         ],
         "y": [
          0,
          -30.78181289931018
         ]
        },
        {
         "line": {
          "color": "rgba(128, 128, 128, 0.5)",
          "dash": "dot",
          "width": 1
         },
         "mode": "lines",
         "showlegend": false,
         "type": "scatter",
         "x": [
          0,
          -77.9422863405995
         ],
         "y": [
          0,
          -44.99999999999997
         ]
        },
        {
         "line": {
          "color": "rgba(128, 128, 128, 0.5)",
          "dash": "dot",
          "width": 1
         },
         "mode": "lines",
         "showlegend": false,
         "type": "scatter",
         "x": [
          0,
          -68.94399988070802
         ],
         "y": [
          0,
          -57.85088487178853
         ]
        },
        {
         "line": {
          "color": "rgba(128, 128, 128, 0.5)",
          "dash": "dot",
          "width": 1
         },
         "mode": "lines",
         "showlegend": false,
         "type": "scatter",
         "x": [
          0,
          -57.85088487178855
         ],
         "y": [
          0,
          -68.943999880708
         ]
        },
        {
         "line": {
          "color": "rgba(128, 128, 128, 0.5)",
          "dash": "dot",
          "width": 1
         },
         "mode": "lines",
         "showlegend": false,
         "type": "scatter",
         "x": [
          0,
          -45.00000000000004
         ],
         "y": [
          0,
          -77.94228634059947
         ]
        },
        {
         "line": {
          "color": "rgba(128, 128, 128, 0.5)",
          "dash": "dot",
          "width": 1
         },
         "mode": "lines",
         "showlegend": false,
         "type": "scatter",
         "x": [
          0,
          -30.781812899310243
         ],
         "y": [
          0,
          -84.57233587073173
         ]
        },
        {
         "line": {
          "color": "rgba(128, 128, 128, 0.5)",
          "dash": "dot",
          "width": 1
         },
         "mode": "lines",
         "showlegend": false,
         "type": "scatter",
         "x": [
          0,
          -15.62833599002373
         ],
         "y": [
          0,
          -88.63269777109872
         ]
        },
        {
         "line": {
          "color": "rgba(128, 128, 128, 0.5)",
          "dash": "dot",
          "width": 1
         },
         "mode": "lines",
         "showlegend": false,
         "type": "scatter",
         "x": [
          0,
          -1.6532731788489267e-14
         ],
         "y": [
          0,
          -90
         ]
        },
        {
         "line": {
          "color": "rgba(128, 128, 128, 0.5)",
          "dash": "dot",
          "width": 1
         },
         "mode": "lines",
         "showlegend": false,
         "type": "scatter",
         "x": [
          0,
          15.628335990023697
         ],
         "y": [
          0,
          -88.63269777109873
         ]
        },
        {
         "line": {
          "color": "rgba(128, 128, 128, 0.5)",
          "dash": "dot",
          "width": 1
         },
         "mode": "lines",
         "showlegend": false,
         "type": "scatter",
         "x": [
          0,
          30.781812899310133
         ],
         "y": [
          0,
          -84.57233587073176
         ]
        },
        {
         "line": {
          "color": "rgba(128, 128, 128, 0.5)",
          "dash": "dot",
          "width": 1
         },
         "mode": "lines",
         "showlegend": false,
         "type": "scatter",
         "x": [
          0,
          45.00000000000001
         ],
         "y": [
          0,
          -77.94228634059948
         ]
        },
        {
         "line": {
          "color": "rgba(128, 128, 128, 0.5)",
          "dash": "dot",
          "width": 1
         },
         "mode": "lines",
         "showlegend": false,
         "type": "scatter",
         "x": [
          0,
          57.85088487178853
         ],
         "y": [
          0,
          -68.94399988070803
         ]
        },
        {
         "line": {
          "color": "rgba(128, 128, 128, 0.5)",
          "dash": "dot",
          "width": 1
         },
         "mode": "lines",
         "showlegend": false,
         "type": "scatter",
         "x": [
          0,
          68.943999880708
         ],
         "y": [
          0,
          -57.850884871788566
         ]
        },
        {
         "line": {
          "color": "rgba(128, 128, 128, 0.5)",
          "dash": "dot",
          "width": 1
         },
         "mode": "lines",
         "showlegend": false,
         "type": "scatter",
         "x": [
          0,
          77.94228634059945
         ],
         "y": [
          0,
          -45.00000000000004
         ]
        },
        {
         "line": {
          "color": "rgba(128, 128, 128, 0.5)",
          "dash": "dot",
          "width": 1
         },
         "mode": "lines",
         "showlegend": false,
         "type": "scatter",
         "x": [
          0,
          84.57233587073173
         ],
         "y": [
          0,
          -30.78181289931025
         ]
        },
        {
         "line": {
          "color": "rgba(128, 128, 128, 0.5)",
          "dash": "dot",
          "width": 1
         },
         "mode": "lines",
         "showlegend": false,
         "type": "scatter",
         "x": [
          0,
          88.63269777109872
         ],
         "y": [
          0,
          -15.628335990023734
         ]
        }
       ],
       "layout": {
        "autosize": false,
        "height": 800,
        "shapes": [
         {
          "line": {
           "color": "black",
           "dash": "dash",
           "width": 2
          },
          "type": "circle",
          "x0": -90,
          "x1": 90,
          "xref": "x",
          "y0": -90,
          "y1": 90,
          "yref": "y"
         }
        ],
        "template": {
         "data": {
          "bar": [
           {
            "error_x": {
             "color": "#2a3f5f"
            },
            "error_y": {
             "color": "#2a3f5f"
            },
            "marker": {
             "line": {
              "color": "#E5ECF6",
              "width": 0.5
             },
             "pattern": {
              "fillmode": "overlay",
              "size": 10,
              "solidity": 0.2
             }
            },
            "type": "bar"
           }
          ],
          "barpolar": [
           {
            "marker": {
             "line": {
              "color": "#E5ECF6",
              "width": 0.5
             },
             "pattern": {
              "fillmode": "overlay",
              "size": 10,
              "solidity": 0.2
             }
            },
            "type": "barpolar"
           }
          ],
          "carpet": [
           {
            "aaxis": {
             "endlinecolor": "#2a3f5f",
             "gridcolor": "white",
             "linecolor": "white",
             "minorgridcolor": "white",
             "startlinecolor": "#2a3f5f"
            },
            "baxis": {
             "endlinecolor": "#2a3f5f",
             "gridcolor": "white",
             "linecolor": "white",
             "minorgridcolor": "white",
             "startlinecolor": "#2a3f5f"
            },
            "type": "carpet"
           }
          ],
          "choropleth": [
           {
            "colorbar": {
             "outlinewidth": 0,
             "ticks": ""
            },
            "type": "choropleth"
           }
          ],
          "contour": [
           {
            "colorbar": {
             "outlinewidth": 0,
             "ticks": ""
            },
            "colorscale": [
             [
              0,
              "#0d0887"
             ],
             [
              0.1111111111111111,
              "#46039f"
             ],
             [
              0.2222222222222222,
              "#7201a8"
             ],
             [
              0.3333333333333333,
              "#9c179e"
             ],
             [
              0.4444444444444444,
              "#bd3786"
             ],
             [
              0.5555555555555556,
              "#d8576b"
             ],
             [
              0.6666666666666666,
              "#ed7953"
             ],
             [
              0.7777777777777778,
              "#fb9f3a"
             ],
             [
              0.8888888888888888,
              "#fdca26"
             ],
             [
              1,
              "#f0f921"
             ]
            ],
            "type": "contour"
           }
          ],
          "contourcarpet": [
           {
            "colorbar": {
             "outlinewidth": 0,
             "ticks": ""
            },
            "type": "contourcarpet"
           }
          ],
          "heatmap": [
           {
            "colorbar": {
             "outlinewidth": 0,
             "ticks": ""
            },
            "colorscale": [
             [
              0,
              "#0d0887"
             ],
             [
              0.1111111111111111,
              "#46039f"
             ],
             [
              0.2222222222222222,
              "#7201a8"
             ],
             [
              0.3333333333333333,
              "#9c179e"
             ],
             [
              0.4444444444444444,
              "#bd3786"
             ],
             [
              0.5555555555555556,
              "#d8576b"
             ],
             [
              0.6666666666666666,
              "#ed7953"
             ],
             [
              0.7777777777777778,
              "#fb9f3a"
             ],
             [
              0.8888888888888888,
              "#fdca26"
             ],
             [
              1,
              "#f0f921"
             ]
            ],
            "type": "heatmap"
           }
          ],
          "heatmapgl": [
           {
            "colorbar": {
             "outlinewidth": 0,
             "ticks": ""
            },
            "colorscale": [
             [
              0,
              "#0d0887"
             ],
             [
              0.1111111111111111,
              "#46039f"
             ],
             [
              0.2222222222222222,
              "#7201a8"
             ],
             [
              0.3333333333333333,
              "#9c179e"
             ],
             [
              0.4444444444444444,
              "#bd3786"
             ],
             [
              0.5555555555555556,
              "#d8576b"
             ],
             [
              0.6666666666666666,
              "#ed7953"
             ],
             [
              0.7777777777777778,
              "#fb9f3a"
             ],
             [
              0.8888888888888888,
              "#fdca26"
             ],
             [
              1,
              "#f0f921"
             ]
            ],
            "type": "heatmapgl"
           }
          ],
          "histogram": [
           {
            "marker": {
             "pattern": {
              "fillmode": "overlay",
              "size": 10,
              "solidity": 0.2
             }
            },
            "type": "histogram"
           }
          ],
          "histogram2d": [
           {
            "colorbar": {
             "outlinewidth": 0,
             "ticks": ""
            },
            "colorscale": [
             [
              0,
              "#0d0887"
             ],
             [
              0.1111111111111111,
              "#46039f"
             ],
             [
              0.2222222222222222,
              "#7201a8"
             ],
             [
              0.3333333333333333,
              "#9c179e"
             ],
             [
              0.4444444444444444,
              "#bd3786"
             ],
             [
              0.5555555555555556,
              "#d8576b"
             ],
             [
              0.6666666666666666,
              "#ed7953"
             ],
             [
              0.7777777777777778,
              "#fb9f3a"
             ],
             [
              0.8888888888888888,
              "#fdca26"
             ],
             [
              1,
              "#f0f921"
             ]
            ],
            "type": "histogram2d"
           }
          ],
          "histogram2dcontour": [
           {
            "colorbar": {
             "outlinewidth": 0,
             "ticks": ""
            },
            "colorscale": [
             [
              0,
              "#0d0887"
             ],
             [
              0.1111111111111111,
              "#46039f"
             ],
             [
              0.2222222222222222,
              "#7201a8"
             ],
             [
              0.3333333333333333,
              "#9c179e"
             ],
             [
              0.4444444444444444,
              "#bd3786"
             ],
             [
              0.5555555555555556,
              "#d8576b"
             ],
             [
              0.6666666666666666,
              "#ed7953"
             ],
             [
              0.7777777777777778,
              "#fb9f3a"
             ],
             [
              0.8888888888888888,
              "#fdca26"
             ],
             [
              1,
              "#f0f921"
             ]
            ],
            "type": "histogram2dcontour"
           }
          ],
          "mesh3d": [
           {
            "colorbar": {
             "outlinewidth": 0,
             "ticks": ""
            },
            "type": "mesh3d"
           }
          ],
          "parcoords": [
           {
            "line": {
             "colorbar": {
              "outlinewidth": 0,
              "ticks": ""
             }
            },
            "type": "parcoords"
           }
          ],
          "pie": [
           {
            "automargin": true,
            "type": "pie"
           }
          ],
          "scatter": [
           {
            "fillpattern": {
             "fillmode": "overlay",
             "size": 10,
             "solidity": 0.2
            },
            "type": "scatter"
           }
          ],
          "scatter3d": [
           {
            "line": {
             "colorbar": {
              "outlinewidth": 0,
              "ticks": ""
             }
            },
            "marker": {
             "colorbar": {
              "outlinewidth": 0,
              "ticks": ""
             }
            },
            "type": "scatter3d"
           }
          ],
          "scattercarpet": [
           {
            "marker": {
             "colorbar": {
              "outlinewidth": 0,
              "ticks": ""
             }
            },
            "type": "scattercarpet"
           }
          ],
          "scattergeo": [
           {
            "marker": {
             "colorbar": {
              "outlinewidth": 0,
              "ticks": ""
             }
            },
            "type": "scattergeo"
           }
          ],
          "scattergl": [
           {
            "marker": {
             "colorbar": {
              "outlinewidth": 0,
              "ticks": ""
             }
            },
            "type": "scattergl"
           }
          ],
          "scattermapbox": [
           {
            "marker": {
             "colorbar": {
              "outlinewidth": 0,
              "ticks": ""
             }
            },
            "type": "scattermapbox"
           }
          ],
          "scatterpolar": [
           {
            "marker": {
             "colorbar": {
              "outlinewidth": 0,
              "ticks": ""
             }
            },
            "type": "scatterpolar"
           }
          ],
          "scatterpolargl": [
           {
            "marker": {
             "colorbar": {
              "outlinewidth": 0,
              "ticks": ""
             }
            },
            "type": "scatterpolargl"
           }
          ],
          "scatterternary": [
           {
            "marker": {
             "colorbar": {
              "outlinewidth": 0,
              "ticks": ""
             }
            },
            "type": "scatterternary"
           }
          ],
          "surface": [
           {
            "colorbar": {
             "outlinewidth": 0,
             "ticks": ""
            },
            "colorscale": [
             [
              0,
              "#0d0887"
             ],
             [
              0.1111111111111111,
              "#46039f"
             ],
             [
              0.2222222222222222,
              "#7201a8"
             ],
             [
              0.3333333333333333,
              "#9c179e"
             ],
             [
              0.4444444444444444,
              "#bd3786"
             ],
             [
              0.5555555555555556,
              "#d8576b"
             ],
             [
              0.6666666666666666,
              "#ed7953"
             ],
             [
              0.7777777777777778,
              "#fb9f3a"
             ],
             [
              0.8888888888888888,
              "#fdca26"
             ],
             [
              1,
              "#f0f921"
             ]
            ],
            "type": "surface"
           }
          ],
          "table": [
           {
            "cells": {
             "fill": {
              "color": "#EBF0F8"
             },
             "line": {
              "color": "white"
             }
            },
            "header": {
             "fill": {
              "color": "#C8D4E3"
             },
             "line": {
              "color": "white"
             }
            },
            "type": "table"
           }
          ]
         },
         "layout": {
          "annotationdefaults": {
           "arrowcolor": "#2a3f5f",
           "arrowhead": 0,
           "arrowwidth": 1
          },
          "autotypenumbers": "strict",
          "coloraxis": {
           "colorbar": {
            "outlinewidth": 0,
            "ticks": ""
           }
          },
          "colorscale": {
           "diverging": [
            [
             0,
             "#8e0152"
            ],
            [
             0.1,
             "#c51b7d"
            ],
            [
             0.2,
             "#de77ae"
            ],
            [
             0.3,
             "#f1b6da"
            ],
            [
             0.4,
             "#fde0ef"
            ],
            [
             0.5,
             "#f7f7f7"
            ],
            [
             0.6,
             "#e6f5d0"
            ],
            [
             0.7,
             "#b8e186"
            ],
            [
             0.8,
             "#7fbc41"
            ],
            [
             0.9,
             "#4d9221"
            ],
            [
             1,
             "#276419"
            ]
           ],
           "sequential": [
            [
             0,
             "#0d0887"
            ],
            [
             0.1111111111111111,
             "#46039f"
            ],
            [
             0.2222222222222222,
             "#7201a8"
            ],
            [
             0.3333333333333333,
             "#9c179e"
            ],
            [
             0.4444444444444444,
             "#bd3786"
            ],
            [
             0.5555555555555556,
             "#d8576b"
            ],
            [
             0.6666666666666666,
             "#ed7953"
            ],
            [
             0.7777777777777778,
             "#fb9f3a"
            ],
            [
             0.8888888888888888,
             "#fdca26"
            ],
            [
             1,
             "#f0f921"
            ]
           ],
           "sequentialminus": [
            [
             0,
             "#0d0887"
            ],
            [
             0.1111111111111111,
             "#46039f"
            ],
            [
             0.2222222222222222,
             "#7201a8"
            ],
            [
             0.3333333333333333,
             "#9c179e"
            ],
            [
             0.4444444444444444,
             "#bd3786"
            ],
            [
             0.5555555555555556,
             "#d8576b"
            ],
            [
             0.6666666666666666,
             "#ed7953"
            ],
            [
             0.7777777777777778,
             "#fb9f3a"
            ],
            [
             0.8888888888888888,
             "#fdca26"
            ],
            [
             1,
             "#f0f921"
            ]
           ]
          },
          "colorway": [
           "#636efa",
           "#EF553B",
           "#00cc96",
           "#ab63fa",
           "#FFA15A",
           "#19d3f3",
           "#FF6692",
           "#B6E880",
           "#FF97FF",
           "#FECB52"
          ],
          "font": {
           "color": "#2a3f5f"
          },
          "geo": {
           "bgcolor": "white",
           "lakecolor": "white",
           "landcolor": "#E5ECF6",
           "showlakes": true,
           "showland": true,
           "subunitcolor": "white"
          },
          "hoverlabel": {
           "align": "left"
          },
          "hovermode": "closest",
          "mapbox": {
           "style": "light"
          },
          "paper_bgcolor": "white",
          "plot_bgcolor": "#E5ECF6",
          "polar": {
           "angularaxis": {
            "gridcolor": "white",
            "linecolor": "white",
            "ticks": ""
           },
           "bgcolor": "#E5ECF6",
           "radialaxis": {
            "gridcolor": "white",
            "linecolor": "white",
            "ticks": ""
           }
          },
          "scene": {
           "xaxis": {
            "backgroundcolor": "#E5ECF6",
            "gridcolor": "white",
            "gridwidth": 2,
            "linecolor": "white",
            "showbackground": true,
            "ticks": "",
            "zerolinecolor": "white"
           },
           "yaxis": {
            "backgroundcolor": "#E5ECF6",
            "gridcolor": "white",
            "gridwidth": 2,
            "linecolor": "white",
            "showbackground": true,
            "ticks": "",
            "zerolinecolor": "white"
           },
           "zaxis": {
            "backgroundcolor": "#E5ECF6",
            "gridcolor": "white",
            "gridwidth": 2,
            "linecolor": "white",
            "showbackground": true,
            "ticks": "",
            "zerolinecolor": "white"
           }
          },
          "shapedefaults": {
           "line": {
            "color": "#2a3f5f"
           }
          },
          "ternary": {
           "aaxis": {
            "gridcolor": "white",
            "linecolor": "white",
            "ticks": ""
           },
           "baxis": {
            "gridcolor": "white",
            "linecolor": "white",
            "ticks": ""
           },
           "bgcolor": "#E5ECF6",
           "caxis": {
            "gridcolor": "white",
            "linecolor": "white",
            "ticks": ""
           }
          },
          "title": {
           "x": 0.05
          },
          "xaxis": {
           "automargin": true,
           "gridcolor": "white",
           "linecolor": "white",
           "ticks": "",
           "title": {
            "standoff": 15
           },
           "zerolinecolor": "white",
           "zerolinewidth": 2
          },
          "yaxis": {
           "automargin": true,
           "gridcolor": "white",
           "linecolor": "white",
           "ticks": "",
           "title": {
            "standoff": 15
           },
           "zerolinecolor": "white",
           "zerolinewidth": 2
          }
         }
        },
        "width": 800,
        "xaxis": {
         "range": [
          -90,
          90
         ],
         "title": {
          "text": "a"
         }
        },
        "yaxis": {
         "range": [
          -90,
          90
         ],
         "title": {
          "text": "L"
         }
        }
       }
      }
     },
     "metadata": {},
     "output_type": "display_data"
    }
   ],
   "source": [
    "Plot_aL(np.concatenate((Lab,Lab_)),np.concatenate((rgbdata,rgbdata_)))"
   ]
  },
  {
   "cell_type": "code",
   "execution_count": 50,
   "metadata": {},
   "outputs": [
    {
     "data": {
      "application/vnd.plotly.v1+json": {
       "config": {
        "plotlyServerURL": "https://plot.ly"
       },
       "data": [
        {
         "customdata": [
          [
           78.61635377289794,
           -5.404926028333097,
           6.642080528175142
          ],
          [
           89.54482141900962,
           -5.762748446942495,
           6.609934125829415
          ],
          [
           64.30847104608407,
           -2.1542377646850737,
           3.9670892044032953
          ],
          [
           67.12196362980845,
           -2.5039280794878334,
           4.41791618203145
          ],
          [
           53.99484105949686,
           -0.8300901207516634,
           2.273064475173341
          ]
         ],
         "hovertemplate": "<b>L</b>: %{customdata[0]}<br><b>a</b>: %{customdata[1]}<br><b>b</b>: %{customdata[2]:.2f}<extra></extra>",
         "marker": {
          "color": [
           "rgb(131,143,117)",
           "rgb(181,198,166)",
           "rgb(85,87,76)",
           "rgb(92,95,83)",
           "rgb(58,58,53)"
          ],
          "opacity": 1,
          "size": 6
         },
         "mode": "markers",
         "showlegend": false,
         "type": "scatter",
         "x": [
          6.642080528175142,
          6.609934125829415,
          3.9670892044032953,
          4.41791618203145,
          2.273064475173341
         ],
         "y": [
          78.61635377289794,
          89.54482141900962,
          64.30847104608407,
          67.12196362980845,
          53.99484105949686
         ]
        },
        {
         "line": {
          "color": "black",
          "width": 1
         },
         "mode": "lines",
         "showlegend": false,
         "type": "scatter",
         "x": [
          0,
          0
         ],
         "y": [
          -90,
          90
         ]
        },
        {
         "line": {
          "color": "black",
          "width": 1
         },
         "mode": "lines",
         "showlegend": false,
         "type": "scatter",
         "x": [
          -90,
          90
         ],
         "y": [
          0,
          0
         ]
        },
        {
         "line": {
          "color": "rgba(128, 128, 128, 0.5)",
          "dash": "dot",
          "width": 1
         },
         "mode": "lines",
         "showlegend": false,
         "type": "scatter",
         "x": [
          0,
          90
         ],
         "y": [
          0,
          0
         ]
        },
        {
         "line": {
          "color": "rgba(128, 128, 128, 0.5)",
          "dash": "dot",
          "width": 1
         },
         "mode": "lines",
         "showlegend": false,
         "type": "scatter",
         "x": [
          0,
          88.63269777109872
         ],
         "y": [
          0,
          15.62833599002373
         ]
        },
        {
         "line": {
          "color": "rgba(128, 128, 128, 0.5)",
          "dash": "dot",
          "width": 1
         },
         "mode": "lines",
         "showlegend": false,
         "type": "scatter",
         "x": [
          0,
          84.57233587073176
         ],
         "y": [
          0,
          30.781812899310186
         ]
        },
        {
         "line": {
          "color": "rgba(128, 128, 128, 0.5)",
          "dash": "dot",
          "width": 1
         },
         "mode": "lines",
         "showlegend": false,
         "type": "scatter",
         "x": [
          0,
          77.94228634059948
         ],
         "y": [
          0,
          44.99999999999999
         ]
        },
        {
         "line": {
          "color": "rgba(128, 128, 128, 0.5)",
          "dash": "dot",
          "width": 1
         },
         "mode": "lines",
         "showlegend": false,
         "type": "scatter",
         "x": [
          0,
          68.94399988070802
         ],
         "y": [
          0,
          57.85088487178853
         ]
        },
        {
         "line": {
          "color": "rgba(128, 128, 128, 0.5)",
          "dash": "dot",
          "width": 1
         },
         "mode": "lines",
         "showlegend": false,
         "type": "scatter",
         "x": [
          0,
          57.850884871788544
         ],
         "y": [
          0,
          68.94399988070802
         ]
        },
        {
         "line": {
          "color": "rgba(128, 128, 128, 0.5)",
          "dash": "dot",
          "width": 1
         },
         "mode": "lines",
         "showlegend": false,
         "type": "scatter",
         "x": [
          0,
          45.00000000000001
         ],
         "y": [
          0,
          77.94228634059948
         ]
        },
        {
         "line": {
          "color": "rgba(128, 128, 128, 0.5)",
          "dash": "dot",
          "width": 1
         },
         "mode": "lines",
         "showlegend": false,
         "type": "scatter",
         "x": [
          0,
          30.781812899310193
         ],
         "y": [
          0,
          84.57233587073175
         ]
        },
        {
         "line": {
          "color": "rgba(128, 128, 128, 0.5)",
          "dash": "dot",
          "width": 1
         },
         "mode": "lines",
         "showlegend": false,
         "type": "scatter",
         "x": [
          0,
          15.628335990023738
         ],
         "y": [
          0,
          88.63269777109872
         ]
        },
        {
         "line": {
          "color": "rgba(128, 128, 128, 0.5)",
          "dash": "dot",
          "width": 1
         },
         "mode": "lines",
         "showlegend": false,
         "type": "scatter",
         "x": [
          0,
          5.5109105961630896e-15
         ],
         "y": [
          0,
          90
         ]
        },
        {
         "line": {
          "color": "rgba(128, 128, 128, 0.5)",
          "dash": "dot",
          "width": 1
         },
         "mode": "lines",
         "showlegend": false,
         "type": "scatter",
         "x": [
          0,
          -15.628335990023727
         ],
         "y": [
          0,
          88.63269777109872
         ]
        },
        {
         "line": {
          "color": "rgba(128, 128, 128, 0.5)",
          "dash": "dot",
          "width": 1
         },
         "mode": "lines",
         "showlegend": false,
         "type": "scatter",
         "x": [
          0,
          -30.781812899310186
         ],
         "y": [
          0,
          84.57233587073176
         ]
        },
        {
         "line": {
          "color": "rgba(128, 128, 128, 0.5)",
          "dash": "dot",
          "width": 1
         },
         "mode": "lines",
         "showlegend": false,
         "type": "scatter",
         "x": [
          0,
          -44.99999999999998
         ],
         "y": [
          0,
          77.94228634059948
         ]
        },
        {
         "line": {
          "color": "rgba(128, 128, 128, 0.5)",
          "dash": "dot",
          "width": 1
         },
         "mode": "lines",
         "showlegend": false,
         "type": "scatter",
         "x": [
          0,
          -57.850884871788544
         ],
         "y": [
          0,
          68.94399988070802
         ]
        },
        {
         "line": {
          "color": "rgba(128, 128, 128, 0.5)",
          "dash": "dot",
          "width": 1
         },
         "mode": "lines",
         "showlegend": false,
         "type": "scatter",
         "x": [
          0,
          -68.943999880708
         ],
         "y": [
          0,
          57.85088487178855
         ]
        },
        {
         "line": {
          "color": "rgba(128, 128, 128, 0.5)",
          "dash": "dot",
          "width": 1
         },
         "mode": "lines",
         "showlegend": false,
         "type": "scatter",
         "x": [
          0,
          -77.94228634059948
         ],
         "y": [
          0,
          44.99999999999999
         ]
        },
        {
         "line": {
          "color": "rgba(128, 128, 128, 0.5)",
          "dash": "dot",
          "width": 1
         },
         "mode": "lines",
         "showlegend": false,
         "type": "scatter",
         "x": [
          0,
          -84.57233587073175
         ],
         "y": [
          0,
          30.7818128993102
         ]
        },
        {
         "line": {
          "color": "rgba(128, 128, 128, 0.5)",
          "dash": "dot",
          "width": 1
         },
         "mode": "lines",
         "showlegend": false,
         "type": "scatter",
         "x": [
          0,
          -88.63269777109872
         ],
         "y": [
          0,
          15.628335990023762
         ]
        },
        {
         "line": {
          "color": "rgba(128, 128, 128, 0.5)",
          "dash": "dot",
          "width": 1
         },
         "mode": "lines",
         "showlegend": false,
         "type": "scatter",
         "x": [
          0,
          -90
         ],
         "y": [
          0,
          1.1021821192326179e-14
         ]
        },
        {
         "line": {
          "color": "rgba(128, 128, 128, 0.5)",
          "dash": "dot",
          "width": 1
         },
         "mode": "lines",
         "showlegend": false,
         "type": "scatter",
         "x": [
          0,
          -88.63269777109873
         ],
         "y": [
          0,
          -15.628335990023702
         ]
        },
        {
         "line": {
          "color": "rgba(128, 128, 128, 0.5)",
          "dash": "dot",
          "width": 1
         },
         "mode": "lines",
         "showlegend": false,
         "type": "scatter",
         "x": [
          0,
          -84.57233587073176
         ],
         "y": [
          0,
          -30.78181289931018
         ]
        },
        {
         "line": {
          "color": "rgba(128, 128, 128, 0.5)",
          "dash": "dot",
          "width": 1
         },
         "mode": "lines",
         "showlegend": false,
         "type": "scatter",
         "x": [
          0,
          -77.9422863405995
         ],
         "y": [
          0,
          -44.99999999999997
         ]
        },
        {
         "line": {
          "color": "rgba(128, 128, 128, 0.5)",
          "dash": "dot",
          "width": 1
         },
         "mode": "lines",
         "showlegend": false,
         "type": "scatter",
         "x": [
          0,
          -68.94399988070802
         ],
         "y": [
          0,
          -57.85088487178853
         ]
        },
        {
         "line": {
          "color": "rgba(128, 128, 128, 0.5)",
          "dash": "dot",
          "width": 1
         },
         "mode": "lines",
         "showlegend": false,
         "type": "scatter",
         "x": [
          0,
          -57.85088487178855
         ],
         "y": [
          0,
          -68.943999880708
         ]
        },
        {
         "line": {
          "color": "rgba(128, 128, 128, 0.5)",
          "dash": "dot",
          "width": 1
         },
         "mode": "lines",
         "showlegend": false,
         "type": "scatter",
         "x": [
          0,
          -45.00000000000004
         ],
         "y": [
          0,
          -77.94228634059947
         ]
        },
        {
         "line": {
          "color": "rgba(128, 128, 128, 0.5)",
          "dash": "dot",
          "width": 1
         },
         "mode": "lines",
         "showlegend": false,
         "type": "scatter",
         "x": [
          0,
          -30.781812899310243
         ],
         "y": [
          0,
          -84.57233587073173
         ]
        },
        {
         "line": {
          "color": "rgba(128, 128, 128, 0.5)",
          "dash": "dot",
          "width": 1
         },
         "mode": "lines",
         "showlegend": false,
         "type": "scatter",
         "x": [
          0,
          -15.62833599002373
         ],
         "y": [
          0,
          -88.63269777109872
         ]
        },
        {
         "line": {
          "color": "rgba(128, 128, 128, 0.5)",
          "dash": "dot",
          "width": 1
         },
         "mode": "lines",
         "showlegend": false,
         "type": "scatter",
         "x": [
          0,
          -1.6532731788489267e-14
         ],
         "y": [
          0,
          -90
         ]
        },
        {
         "line": {
          "color": "rgba(128, 128, 128, 0.5)",
          "dash": "dot",
          "width": 1
         },
         "mode": "lines",
         "showlegend": false,
         "type": "scatter",
         "x": [
          0,
          15.628335990023697
         ],
         "y": [
          0,
          -88.63269777109873
         ]
        },
        {
         "line": {
          "color": "rgba(128, 128, 128, 0.5)",
          "dash": "dot",
          "width": 1
         },
         "mode": "lines",
         "showlegend": false,
         "type": "scatter",
         "x": [
          0,
          30.781812899310133
         ],
         "y": [
          0,
          -84.57233587073176
         ]
        },
        {
         "line": {
          "color": "rgba(128, 128, 128, 0.5)",
          "dash": "dot",
          "width": 1
         },
         "mode": "lines",
         "showlegend": false,
         "type": "scatter",
         "x": [
          0,
          45.00000000000001
         ],
         "y": [
          0,
          -77.94228634059948
         ]
        },
        {
         "line": {
          "color": "rgba(128, 128, 128, 0.5)",
          "dash": "dot",
          "width": 1
         },
         "mode": "lines",
         "showlegend": false,
         "type": "scatter",
         "x": [
          0,
          57.85088487178853
         ],
         "y": [
          0,
          -68.94399988070803
         ]
        },
        {
         "line": {
          "color": "rgba(128, 128, 128, 0.5)",
          "dash": "dot",
          "width": 1
         },
         "mode": "lines",
         "showlegend": false,
         "type": "scatter",
         "x": [
          0,
          68.943999880708
         ],
         "y": [
          0,
          -57.850884871788566
         ]
        },
        {
         "line": {
          "color": "rgba(128, 128, 128, 0.5)",
          "dash": "dot",
          "width": 1
         },
         "mode": "lines",
         "showlegend": false,
         "type": "scatter",
         "x": [
          0,
          77.94228634059945
         ],
         "y": [
          0,
          -45.00000000000004
         ]
        },
        {
         "line": {
          "color": "rgba(128, 128, 128, 0.5)",
          "dash": "dot",
          "width": 1
         },
         "mode": "lines",
         "showlegend": false,
         "type": "scatter",
         "x": [
          0,
          84.57233587073173
         ],
         "y": [
          0,
          -30.78181289931025
         ]
        },
        {
         "line": {
          "color": "rgba(128, 128, 128, 0.5)",
          "dash": "dot",
          "width": 1
         },
         "mode": "lines",
         "showlegend": false,
         "type": "scatter",
         "x": [
          0,
          88.63269777109872
         ],
         "y": [
          0,
          -15.628335990023734
         ]
        }
       ],
       "layout": {
        "autosize": false,
        "height": 800,
        "shapes": [
         {
          "line": {
           "color": "black",
           "dash": "dash",
           "width": 2
          },
          "type": "circle",
          "x0": -90,
          "x1": 90,
          "xref": "x",
          "y0": -90,
          "y1": 90,
          "yref": "y"
         }
        ],
        "template": {
         "data": {
          "bar": [
           {
            "error_x": {
             "color": "#2a3f5f"
            },
            "error_y": {
             "color": "#2a3f5f"
            },
            "marker": {
             "line": {
              "color": "#E5ECF6",
              "width": 0.5
             },
             "pattern": {
              "fillmode": "overlay",
              "size": 10,
              "solidity": 0.2
             }
            },
            "type": "bar"
           }
          ],
          "barpolar": [
           {
            "marker": {
             "line": {
              "color": "#E5ECF6",
              "width": 0.5
             },
             "pattern": {
              "fillmode": "overlay",
              "size": 10,
              "solidity": 0.2
             }
            },
            "type": "barpolar"
           }
          ],
          "carpet": [
           {
            "aaxis": {
             "endlinecolor": "#2a3f5f",
             "gridcolor": "white",
             "linecolor": "white",
             "minorgridcolor": "white",
             "startlinecolor": "#2a3f5f"
            },
            "baxis": {
             "endlinecolor": "#2a3f5f",
             "gridcolor": "white",
             "linecolor": "white",
             "minorgridcolor": "white",
             "startlinecolor": "#2a3f5f"
            },
            "type": "carpet"
           }
          ],
          "choropleth": [
           {
            "colorbar": {
             "outlinewidth": 0,
             "ticks": ""
            },
            "type": "choropleth"
           }
          ],
          "contour": [
           {
            "colorbar": {
             "outlinewidth": 0,
             "ticks": ""
            },
            "colorscale": [
             [
              0,
              "#0d0887"
             ],
             [
              0.1111111111111111,
              "#46039f"
             ],
             [
              0.2222222222222222,
              "#7201a8"
             ],
             [
              0.3333333333333333,
              "#9c179e"
             ],
             [
              0.4444444444444444,
              "#bd3786"
             ],
             [
              0.5555555555555556,
              "#d8576b"
             ],
             [
              0.6666666666666666,
              "#ed7953"
             ],
             [
              0.7777777777777778,
              "#fb9f3a"
             ],
             [
              0.8888888888888888,
              "#fdca26"
             ],
             [
              1,
              "#f0f921"
             ]
            ],
            "type": "contour"
           }
          ],
          "contourcarpet": [
           {
            "colorbar": {
             "outlinewidth": 0,
             "ticks": ""
            },
            "type": "contourcarpet"
           }
          ],
          "heatmap": [
           {
            "colorbar": {
             "outlinewidth": 0,
             "ticks": ""
            },
            "colorscale": [
             [
              0,
              "#0d0887"
             ],
             [
              0.1111111111111111,
              "#46039f"
             ],
             [
              0.2222222222222222,
              "#7201a8"
             ],
             [
              0.3333333333333333,
              "#9c179e"
             ],
             [
              0.4444444444444444,
              "#bd3786"
             ],
             [
              0.5555555555555556,
              "#d8576b"
             ],
             [
              0.6666666666666666,
              "#ed7953"
             ],
             [
              0.7777777777777778,
              "#fb9f3a"
             ],
             [
              0.8888888888888888,
              "#fdca26"
             ],
             [
              1,
              "#f0f921"
             ]
            ],
            "type": "heatmap"
           }
          ],
          "heatmapgl": [
           {
            "colorbar": {
             "outlinewidth": 0,
             "ticks": ""
            },
            "colorscale": [
             [
              0,
              "#0d0887"
             ],
             [
              0.1111111111111111,
              "#46039f"
             ],
             [
              0.2222222222222222,
              "#7201a8"
             ],
             [
              0.3333333333333333,
              "#9c179e"
             ],
             [
              0.4444444444444444,
              "#bd3786"
             ],
             [
              0.5555555555555556,
              "#d8576b"
             ],
             [
              0.6666666666666666,
              "#ed7953"
             ],
             [
              0.7777777777777778,
              "#fb9f3a"
             ],
             [
              0.8888888888888888,
              "#fdca26"
             ],
             [
              1,
              "#f0f921"
             ]
            ],
            "type": "heatmapgl"
           }
          ],
          "histogram": [
           {
            "marker": {
             "pattern": {
              "fillmode": "overlay",
              "size": 10,
              "solidity": 0.2
             }
            },
            "type": "histogram"
           }
          ],
          "histogram2d": [
           {
            "colorbar": {
             "outlinewidth": 0,
             "ticks": ""
            },
            "colorscale": [
             [
              0,
              "#0d0887"
             ],
             [
              0.1111111111111111,
              "#46039f"
             ],
             [
              0.2222222222222222,
              "#7201a8"
             ],
             [
              0.3333333333333333,
              "#9c179e"
             ],
             [
              0.4444444444444444,
              "#bd3786"
             ],
             [
              0.5555555555555556,
              "#d8576b"
             ],
             [
              0.6666666666666666,
              "#ed7953"
             ],
             [
              0.7777777777777778,
              "#fb9f3a"
             ],
             [
              0.8888888888888888,
              "#fdca26"
             ],
             [
              1,
              "#f0f921"
             ]
            ],
            "type": "histogram2d"
           }
          ],
          "histogram2dcontour": [
           {
            "colorbar": {
             "outlinewidth": 0,
             "ticks": ""
            },
            "colorscale": [
             [
              0,
              "#0d0887"
             ],
             [
              0.1111111111111111,
              "#46039f"
             ],
             [
              0.2222222222222222,
              "#7201a8"
             ],
             [
              0.3333333333333333,
              "#9c179e"
             ],
             [
              0.4444444444444444,
              "#bd3786"
             ],
             [
              0.5555555555555556,
              "#d8576b"
             ],
             [
              0.6666666666666666,
              "#ed7953"
             ],
             [
              0.7777777777777778,
              "#fb9f3a"
             ],
             [
              0.8888888888888888,
              "#fdca26"
             ],
             [
              1,
              "#f0f921"
             ]
            ],
            "type": "histogram2dcontour"
           }
          ],
          "mesh3d": [
           {
            "colorbar": {
             "outlinewidth": 0,
             "ticks": ""
            },
            "type": "mesh3d"
           }
          ],
          "parcoords": [
           {
            "line": {
             "colorbar": {
              "outlinewidth": 0,
              "ticks": ""
             }
            },
            "type": "parcoords"
           }
          ],
          "pie": [
           {
            "automargin": true,
            "type": "pie"
           }
          ],
          "scatter": [
           {
            "fillpattern": {
             "fillmode": "overlay",
             "size": 10,
             "solidity": 0.2
            },
            "type": "scatter"
           }
          ],
          "scatter3d": [
           {
            "line": {
             "colorbar": {
              "outlinewidth": 0,
              "ticks": ""
             }
            },
            "marker": {
             "colorbar": {
              "outlinewidth": 0,
              "ticks": ""
             }
            },
            "type": "scatter3d"
           }
          ],
          "scattercarpet": [
           {
            "marker": {
             "colorbar": {
              "outlinewidth": 0,
              "ticks": ""
             }
            },
            "type": "scattercarpet"
           }
          ],
          "scattergeo": [
           {
            "marker": {
             "colorbar": {
              "outlinewidth": 0,
              "ticks": ""
             }
            },
            "type": "scattergeo"
           }
          ],
          "scattergl": [
           {
            "marker": {
             "colorbar": {
              "outlinewidth": 0,
              "ticks": ""
             }
            },
            "type": "scattergl"
           }
          ],
          "scattermapbox": [
           {
            "marker": {
             "colorbar": {
              "outlinewidth": 0,
              "ticks": ""
             }
            },
            "type": "scattermapbox"
           }
          ],
          "scatterpolar": [
           {
            "marker": {
             "colorbar": {
              "outlinewidth": 0,
              "ticks": ""
             }
            },
            "type": "scatterpolar"
           }
          ],
          "scatterpolargl": [
           {
            "marker": {
             "colorbar": {
              "outlinewidth": 0,
              "ticks": ""
             }
            },
            "type": "scatterpolargl"
           }
          ],
          "scatterternary": [
           {
            "marker": {
             "colorbar": {
              "outlinewidth": 0,
              "ticks": ""
             }
            },
            "type": "scatterternary"
           }
          ],
          "surface": [
           {
            "colorbar": {
             "outlinewidth": 0,
             "ticks": ""
            },
            "colorscale": [
             [
              0,
              "#0d0887"
             ],
             [
              0.1111111111111111,
              "#46039f"
             ],
             [
              0.2222222222222222,
              "#7201a8"
             ],
             [
              0.3333333333333333,
              "#9c179e"
             ],
             [
              0.4444444444444444,
              "#bd3786"
             ],
             [
              0.5555555555555556,
              "#d8576b"
             ],
             [
              0.6666666666666666,
              "#ed7953"
             ],
             [
              0.7777777777777778,
              "#fb9f3a"
             ],
             [
              0.8888888888888888,
              "#fdca26"
             ],
             [
              1,
              "#f0f921"
             ]
            ],
            "type": "surface"
           }
          ],
          "table": [
           {
            "cells": {
             "fill": {
              "color": "#EBF0F8"
             },
             "line": {
              "color": "white"
             }
            },
            "header": {
             "fill": {
              "color": "#C8D4E3"
             },
             "line": {
              "color": "white"
             }
            },
            "type": "table"
           }
          ]
         },
         "layout": {
          "annotationdefaults": {
           "arrowcolor": "#2a3f5f",
           "arrowhead": 0,
           "arrowwidth": 1
          },
          "autotypenumbers": "strict",
          "coloraxis": {
           "colorbar": {
            "outlinewidth": 0,
            "ticks": ""
           }
          },
          "colorscale": {
           "diverging": [
            [
             0,
             "#8e0152"
            ],
            [
             0.1,
             "#c51b7d"
            ],
            [
             0.2,
             "#de77ae"
            ],
            [
             0.3,
             "#f1b6da"
            ],
            [
             0.4,
             "#fde0ef"
            ],
            [
             0.5,
             "#f7f7f7"
            ],
            [
             0.6,
             "#e6f5d0"
            ],
            [
             0.7,
             "#b8e186"
            ],
            [
             0.8,
             "#7fbc41"
            ],
            [
             0.9,
             "#4d9221"
            ],
            [
             1,
             "#276419"
            ]
           ],
           "sequential": [
            [
             0,
             "#0d0887"
            ],
            [
             0.1111111111111111,
             "#46039f"
            ],
            [
             0.2222222222222222,
             "#7201a8"
            ],
            [
             0.3333333333333333,
             "#9c179e"
            ],
            [
             0.4444444444444444,
             "#bd3786"
            ],
            [
             0.5555555555555556,
             "#d8576b"
            ],
            [
             0.6666666666666666,
             "#ed7953"
            ],
            [
             0.7777777777777778,
             "#fb9f3a"
            ],
            [
             0.8888888888888888,
             "#fdca26"
            ],
            [
             1,
             "#f0f921"
            ]
           ],
           "sequentialminus": [
            [
             0,
             "#0d0887"
            ],
            [
             0.1111111111111111,
             "#46039f"
            ],
            [
             0.2222222222222222,
             "#7201a8"
            ],
            [
             0.3333333333333333,
             "#9c179e"
            ],
            [
             0.4444444444444444,
             "#bd3786"
            ],
            [
             0.5555555555555556,
             "#d8576b"
            ],
            [
             0.6666666666666666,
             "#ed7953"
            ],
            [
             0.7777777777777778,
             "#fb9f3a"
            ],
            [
             0.8888888888888888,
             "#fdca26"
            ],
            [
             1,
             "#f0f921"
            ]
           ]
          },
          "colorway": [
           "#636efa",
           "#EF553B",
           "#00cc96",
           "#ab63fa",
           "#FFA15A",
           "#19d3f3",
           "#FF6692",
           "#B6E880",
           "#FF97FF",
           "#FECB52"
          ],
          "font": {
           "color": "#2a3f5f"
          },
          "geo": {
           "bgcolor": "white",
           "lakecolor": "white",
           "landcolor": "#E5ECF6",
           "showlakes": true,
           "showland": true,
           "subunitcolor": "white"
          },
          "hoverlabel": {
           "align": "left"
          },
          "hovermode": "closest",
          "mapbox": {
           "style": "light"
          },
          "paper_bgcolor": "white",
          "plot_bgcolor": "#E5ECF6",
          "polar": {
           "angularaxis": {
            "gridcolor": "white",
            "linecolor": "white",
            "ticks": ""
           },
           "bgcolor": "#E5ECF6",
           "radialaxis": {
            "gridcolor": "white",
            "linecolor": "white",
            "ticks": ""
           }
          },
          "scene": {
           "xaxis": {
            "backgroundcolor": "#E5ECF6",
            "gridcolor": "white",
            "gridwidth": 2,
            "linecolor": "white",
            "showbackground": true,
            "ticks": "",
            "zerolinecolor": "white"
           },
           "yaxis": {
            "backgroundcolor": "#E5ECF6",
            "gridcolor": "white",
            "gridwidth": 2,
            "linecolor": "white",
            "showbackground": true,
            "ticks": "",
            "zerolinecolor": "white"
           },
           "zaxis": {
            "backgroundcolor": "#E5ECF6",
            "gridcolor": "white",
            "gridwidth": 2,
            "linecolor": "white",
            "showbackground": true,
            "ticks": "",
            "zerolinecolor": "white"
           }
          },
          "shapedefaults": {
           "line": {
            "color": "#2a3f5f"
           }
          },
          "ternary": {
           "aaxis": {
            "gridcolor": "white",
            "linecolor": "white",
            "ticks": ""
           },
           "baxis": {
            "gridcolor": "white",
            "linecolor": "white",
            "ticks": ""
           },
           "bgcolor": "#E5ECF6",
           "caxis": {
            "gridcolor": "white",
            "linecolor": "white",
            "ticks": ""
           }
          },
          "title": {
           "x": 0.05
          },
          "xaxis": {
           "automargin": true,
           "gridcolor": "white",
           "linecolor": "white",
           "ticks": "",
           "title": {
            "standoff": 15
           },
           "zerolinecolor": "white",
           "zerolinewidth": 2
          },
          "yaxis": {
           "automargin": true,
           "gridcolor": "white",
           "linecolor": "white",
           "ticks": "",
           "title": {
            "standoff": 15
           },
           "zerolinecolor": "white",
           "zerolinewidth": 2
          }
         }
        },
        "width": 800,
        "xaxis": {
         "range": [
          -90,
          90
         ],
         "title": {
          "text": "b"
         }
        },
        "yaxis": {
         "range": [
          -90,
          90
         ],
         "title": {
          "text": "L"
         }
        }
       }
      }
     },
     "metadata": {},
     "output_type": "display_data"
    }
   ],
   "source": [
    "Plot_bL(np.concatenate((Lab,Lab_)),np.concatenate((rgbdata,rgbdata_)))"
   ]
  },
  {
   "cell_type": "code",
   "execution_count": 41,
   "metadata": {},
   "outputs": [
    {
     "data": {
      "image/png": "[encoded data removed]",
      "text/plain": [
       "<Figure size 1000x500 with 3 Axes>"
      ]
     },
     "metadata": {},
     "output_type": "display_data"
    }
   ],
   "source": [
    "mask_selector = 3\n",
    "\n",
    "mask2d = masks.reshape(-1)\n",
    "img2d = img.reshape(-1,3)\n",
    "idx = np.where(mask2d == mask_selector)\n",
    "sample = img2d[idx]\n",
    "\n",
    "lab_sample = RGB2Lab(sample)\n",
    "ref_diff = lab_sample.mean(0)\n",
    "\n",
    "diff_color = (((lab_sample[:,0]-ref_diff[0])**(2)) + ((lab_sample[:,1]-ref_diff[1])**(2)) + ((lab_sample[:,2]-ref_diff[2])**(2)))**(1/2)\n",
    "\n",
    "\n",
    "map_color = np.zeros((1000,1000))\n",
    "map_color2d = map_color.reshape(-1)\n",
    "map_color2d[idx] = diff_color\n",
    "\n",
    "cmap = ListedColormap([\"White\"]+[plt.cm.viridis(i) for i in range(1,256)])\n",
    "\n",
    "plt.figure(figsize=(10,5))\n",
    "plt.subplot(1,2,1)\n",
    "plt.imshow(map_color2d.reshape(1000,1000),cmap = cmap)\n",
    "plt.colorbar()\n",
    "plt.axis(\"off\")\n",
    "\n",
    "\n",
    "plt.subplot(1,2,2)\n",
    "\n",
    "\n",
    "plt.hist(diff_color,bins = 100)\n",
    "\n",
    "if mask_selector == 1:  \n",
    "    plt.title(\"Histogram of color differences (Green)\")\n",
    "elif mask_selector == 2: \n",
    "    plt.title(\"Histogram of color differences (Light green)\")\n",
    "else: \n",
    "    plt.title(\"Histogram of color differences (Dark Green)\")\n",
    "plt.xlabel(\"Color difference (a.u.)\")\n",
    "plt.ylabel(\"Counts (a.u.)\")\n",
    "plt.show()\n"
   ]
  },
  {
   "cell_type": "code",
   "execution_count": 26,
   "metadata": {},
   "outputs": [
    {
     "data": {
      "image/png": "[encoded data removed]",
      "text/plain": [
       "<Figure size 1000x500 with 2 Axes>"
      ]
     },
     "metadata": {},
     "output_type": "display_data"
    }
   ],
   "source": [
    "mask_selector = 2\n",
    "\n",
    "mask2d = masks_.reshape(-1)\n",
    "img2d = img.reshape(-1,3)\n",
    "idx = np.where(mask2d == mask_selector)\n",
    "sample = img2d[idx]\n",
    "\n",
    "lab_sample = RGB2Lab(sample)\n",
    "ref_diff = lab_sample.mean(0)\n",
    "\n",
    "diff_color = (((lab_sample[:,0]-ref_diff[0])**(2)) + ((lab_sample[:,1]-ref_diff[1])**(2)) + ((lab_sample[:,2]-ref_diff[2])**(2)))**(1/2)\n",
    "\n",
    "\n",
    "map_color = np.zeros((1000,1000))\n",
    "map_color2d = map_color.reshape(-1)\n",
    "map_color2d[idx] = diff_color\n",
    "\n",
    "plt.figure(figsize=(10,5))\n",
    "\n",
    "plt.subplot(1,2,1)\n",
    "plt.imshow(map_color2d.reshape(1000,1000),cmap = \"viridis\")\n",
    "\n",
    "\n",
    "plt.subplot(1,2,2)\n",
    "\n",
    "\n",
    "plt.hist(diff_color,bins = 100)\n",
    "\n",
    "if mask_selector == 1:  \n",
    "    plt.title(\"Histogram of color differences (Light green)\")\n",
    "elif mask_selector == 2: \n",
    "    plt.title(\"Histogram of color differences (Green)\")\n",
    "else: \n",
    "    plt.title(\"Histogram of color differences (Dark Green)\")\n",
    "    \n",
    "plt.xlabel(\"Color difference (a.u.)\")\n",
    "plt.ylabel(\"Counts (a.u.)\")\n",
    "plt.show()\n"
   ]
  }
 ],
 "metadata": {
  "kernelspec": {
   "display_name": "Python 3",
   "language": "python",
   "name": "python3"
  },
  "language_info": {
   "codemirror_mode": {
    "name": "ipython",
    "version": 3
   },
   "file_extension": ".py",
   "mimetype": "text/x-python",
   "name": "python",
   "nbconvert_exporter": "python",
   "pygments_lexer": "ipython3",
   "version": "3.11.0"
  },
  "orig_nbformat": 4
 },
 "nbformat": 4,
 "nbformat_minor": 2
}
